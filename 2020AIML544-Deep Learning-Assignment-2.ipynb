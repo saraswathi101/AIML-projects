{
 "cells": [
  {
   "cell_type": "markdown",
   "metadata": {},
   "source": [
    "#  2020AIML544 - DEEP LEARNING - ASSIGNMENT - 2\n",
    "\n",
    "### TASKS PERFORMED:\n",
    "\n",
    "    1. IMPORT REQUIRED LIBRARIES\n",
    "    2. LOAD THE IMAGES INTO TRAIN, VALIDATION AND TEST ARRAYS\n",
    "    3. CREATE A DEFAULT CNN MODEL WITH GIVEN CONDITIONS\n",
    "    4. TRAIN THE DEFAULT CNN MODEL AND PLOT THE TRAIN, TEST ACCURACY AND LOSS\n",
    "    5. EVALUATE THE MODEL USING TEST DATA\n",
    "    6. PRINT CLASSIFICATION RESULTS\n",
    "    7. IMPROVE THE ABOVE DEFAULT MODEL BY CHANGING SOME HYPERPARAMETERS\n",
    "    8. CREATED RESNET MODEL SINCE THE ACCURACY DID NOT IMPROVE MUCH\n",
    "    9. PLOT A BAR GRAPH OF PRECISION AND RECALL FOR THE TWO MODELS - DEFAULT & IMPROVED\n",
    "    10. PLOT A BAR GRAPH OF PRECISION AND RECALL FOR ALL 3 MODELS - DEFAULT, IMPROVED & RESNET"
   ]
  },
  {
   "cell_type": "markdown",
   "metadata": {},
   "source": [
    "#### IMPORT REQUIRED LIBRARIES"
   ]
  },
  {
   "cell_type": "code",
   "execution_count": 1,
   "metadata": {},
   "outputs": [],
   "source": [
    "# Import Libraries\n",
    "# - Tensorflow\n",
    "# - Keras\n",
    "# - numpy and random\n",
    "\n",
    "import pandas as pd\n",
    "import numpy as np\n",
    "import matplotlib.pyplot as plt\n",
    "from sklearn.metrics import classification_report\n",
    "from sklearn.metrics import accuracy_score, precision_score, recall_score\n",
    "\n",
    "# !pip install tensorflow\n",
    "import tensorflow as tf\n",
    "from tensorflow import keras\n",
    "from tensorflow.keras import layers\n",
    "from keras.models import Sequential\n",
    "from keras.layers import Dense, Dropout, Flatten\n",
    "from keras.layers import Conv2D, MaxPooling2D\n",
    "from keras.preprocessing import image\n",
    "\n",
    "import warnings\n",
    "warnings.filterwarnings('ignore')\n",
    "pd.set_option('display.max_columns', None)\n",
    "pd.set_option('display.max_colwidth', None)"
   ]
  },
  {
   "cell_type": "code",
   "execution_count": 2,
   "metadata": {},
   "outputs": [],
   "source": [
    "# Initializing the random number generator so that it can generate same random numbers on multiple executions of the code\n",
    "import random\n",
    "random.seed(42)         # Initialize the random number generator.\n",
    "np.random.seed(42)      # With the seed reset, the same set of numbers will appear every time. \n",
    "tf.random.set_seed(42)  # sets the graph-level random seed"
   ]
  },
  {
   "cell_type": "markdown",
   "metadata": {},
   "source": [
    "### <span style='background : yellow' > **TASK 1:**</span> Load the images in appropriate data structures in your program"
   ]
  },
  {
   "cell_type": "code",
   "execution_count": 3,
   "metadata": {},
   "outputs": [],
   "source": [
    "# !pip install opencv-python\n",
    "import glob, os, cv2\n",
    "\n",
    "def load_images(my_path):\n",
    "    # Get List of all images\n",
    "    files = glob.glob(my_path + '/**/*.jpg', recursive=True)\n",
    "    images= []\n",
    "    names = []\n",
    "    label = 0\n",
    "    # For each folder\n",
    "    for filename in os.listdir(my_path):\n",
    "        files = glob.glob(my_path + filename + '/*.jpg', recursive=True)\n",
    "        # For each image\n",
    "        for file in files:\n",
    "            print(file)\n",
    "            img = cv2.imread(file)    \n",
    "            if img is not None:\n",
    "                img = img/255\n",
    "                images.append(img)\n",
    "                names.append(label)\n",
    "        label = label + 1\n",
    "    return images, names"
   ]
  },
  {
   "cell_type": "code",
   "execution_count": 7,
   "metadata": {},
   "outputs": [
    {
     "ename": "FileNotFoundError",
     "evalue": "[WinError 3] The system cannot find the path specified: 'Sports_Dataset/archive/train/'",
     "output_type": "error",
     "traceback": [
      "\u001b[1;31m---------------------------------------------------------------------------\u001b[0m",
      "\u001b[1;31mFileNotFoundError\u001b[0m                         Traceback (most recent call last)",
      "\u001b[1;32mC:\\Users\\SARASP~1\\AppData\\Local\\Temp/ipykernel_20272/3000604040.py\u001b[0m in \u001b[0;36m<module>\u001b[1;34m\u001b[0m\n\u001b[0;32m      1\u001b[0m \u001b[1;31m# Image Location with subdirectories\u001b[0m\u001b[1;33m\u001b[0m\u001b[1;33m\u001b[0m\u001b[0m\n\u001b[1;32m----> 2\u001b[1;33m \u001b[0mtrain_images\u001b[0m \u001b[1;33m,\u001b[0m \u001b[0mtrain_names\u001b[0m  \u001b[1;33m=\u001b[0m \u001b[0mload_images\u001b[0m\u001b[1;33m(\u001b[0m\u001b[1;34m\"Sports_Dataset/archive/train/\"\u001b[0m\u001b[1;33m)\u001b[0m\u001b[1;33m\u001b[0m\u001b[1;33m\u001b[0m\u001b[0m\n\u001b[0m\u001b[0;32m      3\u001b[0m \u001b[0mvalid_images\u001b[0m \u001b[1;33m,\u001b[0m \u001b[0mvalid_names\u001b[0m  \u001b[1;33m=\u001b[0m \u001b[0mload_images\u001b[0m\u001b[1;33m(\u001b[0m\u001b[1;34m\"Sports_Dataset/archive/valid/\"\u001b[0m\u001b[1;33m)\u001b[0m\u001b[1;33m\u001b[0m\u001b[1;33m\u001b[0m\u001b[0m\n\u001b[0;32m      4\u001b[0m \u001b[0mtest_images\u001b[0m  \u001b[1;33m,\u001b[0m \u001b[0mtest_names\u001b[0m   \u001b[1;33m=\u001b[0m \u001b[0mload_images\u001b[0m\u001b[1;33m(\u001b[0m\u001b[1;34m\"Sports_Dataset/archive/test/\"\u001b[0m\u001b[1;33m)\u001b[0m\u001b[1;33m\u001b[0m\u001b[1;33m\u001b[0m\u001b[0m\n",
      "\u001b[1;32mC:\\Users\\SARASP~1\\AppData\\Local\\Temp/ipykernel_20272/2123507437.py\u001b[0m in \u001b[0;36mload_images\u001b[1;34m(my_path)\u001b[0m\n\u001b[0;32m      9\u001b[0m     \u001b[0mlabel\u001b[0m \u001b[1;33m=\u001b[0m \u001b[1;36m0\u001b[0m\u001b[1;33m\u001b[0m\u001b[1;33m\u001b[0m\u001b[0m\n\u001b[0;32m     10\u001b[0m     \u001b[1;31m# For each folder\u001b[0m\u001b[1;33m\u001b[0m\u001b[1;33m\u001b[0m\u001b[0m\n\u001b[1;32m---> 11\u001b[1;33m     \u001b[1;32mfor\u001b[0m \u001b[0mfilename\u001b[0m \u001b[1;32min\u001b[0m \u001b[0mos\u001b[0m\u001b[1;33m.\u001b[0m\u001b[0mlistdir\u001b[0m\u001b[1;33m(\u001b[0m\u001b[0mmy_path\u001b[0m\u001b[1;33m)\u001b[0m\u001b[1;33m:\u001b[0m\u001b[1;33m\u001b[0m\u001b[1;33m\u001b[0m\u001b[0m\n\u001b[0m\u001b[0;32m     12\u001b[0m         \u001b[0mfiles\u001b[0m \u001b[1;33m=\u001b[0m \u001b[0mglob\u001b[0m\u001b[1;33m.\u001b[0m\u001b[0mglob\u001b[0m\u001b[1;33m(\u001b[0m\u001b[0mmy_path\u001b[0m \u001b[1;33m+\u001b[0m \u001b[0mfilename\u001b[0m \u001b[1;33m+\u001b[0m \u001b[1;34m'/*.jpg'\u001b[0m\u001b[1;33m,\u001b[0m \u001b[0mrecursive\u001b[0m\u001b[1;33m=\u001b[0m\u001b[1;32mTrue\u001b[0m\u001b[1;33m)\u001b[0m\u001b[1;33m\u001b[0m\u001b[1;33m\u001b[0m\u001b[0m\n\u001b[0;32m     13\u001b[0m         \u001b[1;31m# For each image\u001b[0m\u001b[1;33m\u001b[0m\u001b[1;33m\u001b[0m\u001b[0m\n",
      "\u001b[1;31mFileNotFoundError\u001b[0m: [WinError 3] The system cannot find the path specified: 'Sports_Dataset/archive/train/'"
     ]
    }
   ],
   "source": [
    "# Image Location with subdirectories\n",
    "train_images , train_names  = load_images(\"Sports_Dataset/archive/train/\")\n",
    "valid_images , valid_names  = load_images(\"Sports_Dataset/archive/valid/\")\n",
    "test_images  , test_names   = load_images(\"Sports_Dataset/archive/test/\")"
   ]
  },
  {
   "cell_type": "code",
   "execution_count": 5,
   "metadata": {},
   "outputs": [
    {
     "ename": "NameError",
     "evalue": "name 'train_images' is not defined",
     "output_type": "error",
     "traceback": [
      "\u001b[1;31m---------------------------------------------------------------------------\u001b[0m",
      "\u001b[1;31mNameError\u001b[0m                                 Traceback (most recent call last)",
      "\u001b[1;32mC:\\Users\\SARASP~1\\AppData\\Local\\Temp/ipykernel_20272/3633050183.py\u001b[0m in \u001b[0;36m<module>\u001b[1;34m\u001b[0m\n\u001b[1;32m----> 1\u001b[1;33m \u001b[0mX_train\u001b[0m \u001b[1;33m=\u001b[0m \u001b[0mnp\u001b[0m\u001b[1;33m.\u001b[0m\u001b[0marray\u001b[0m\u001b[1;33m(\u001b[0m\u001b[0mtrain_images\u001b[0m\u001b[1;33m)\u001b[0m\u001b[1;33m\u001b[0m\u001b[1;33m\u001b[0m\u001b[0m\n\u001b[0m\u001b[0;32m      2\u001b[0m \u001b[0my_train\u001b[0m \u001b[1;33m=\u001b[0m \u001b[0mnp\u001b[0m\u001b[1;33m.\u001b[0m\u001b[0marray\u001b[0m\u001b[1;33m(\u001b[0m\u001b[0mtrain_names\u001b[0m\u001b[1;33m)\u001b[0m\u001b[1;33m\u001b[0m\u001b[1;33m\u001b[0m\u001b[0m\n\u001b[0;32m      3\u001b[0m \u001b[1;33m\u001b[0m\u001b[0m\n\u001b[0;32m      4\u001b[0m \u001b[0mX_valid\u001b[0m \u001b[1;33m=\u001b[0m \u001b[0mnp\u001b[0m\u001b[1;33m.\u001b[0m\u001b[0marray\u001b[0m\u001b[1;33m(\u001b[0m\u001b[0mvalid_images\u001b[0m\u001b[1;33m)\u001b[0m\u001b[1;33m\u001b[0m\u001b[1;33m\u001b[0m\u001b[0m\n\u001b[0;32m      5\u001b[0m \u001b[0my_valid\u001b[0m \u001b[1;33m=\u001b[0m \u001b[0mnp\u001b[0m\u001b[1;33m.\u001b[0m\u001b[0marray\u001b[0m\u001b[1;33m(\u001b[0m\u001b[0mvalid_names\u001b[0m\u001b[1;33m)\u001b[0m\u001b[1;33m\u001b[0m\u001b[1;33m\u001b[0m\u001b[0m\n",
      "\u001b[1;31mNameError\u001b[0m: name 'train_images' is not defined"
     ]
    }
   ],
   "source": [
    "X_train = np.array(train_images)\n",
    "y_train = np.array(train_names)\n",
    "\n",
    "X_valid = np.array(valid_images)\n",
    "y_valid = np.array(valid_names)\n",
    "\n",
    "X_test  = np.array(test_images)\n",
    "y_test  = np.array(test_names)\n",
    "\n",
    "print('lengths of X_train, X_valid & X_test: ', len(X_train),len(X_valid),len(X_test))\n",
    "print('lengths of y_train, y_valid & y_test: ', len(y_train),len(y_valid),len(y_test))"
   ]
  },
  {
   "cell_type": "code",
   "execution_count": 10,
   "metadata": {},
   "outputs": [
    {
     "name": "stdout",
     "output_type": "stream",
     "text": [
      "Model: \"sequential_3\"\n",
      "_________________________________________________________________\n",
      " Layer (type)                Output Shape              Param #   \n",
      "=================================================================\n",
      " dense_12 (Dense)            (None, 16, 16, 30)        90        \n",
      "                                                                 \n",
      " dense_13 (Dense)            (None, 16, 16, 60)        1860      \n",
      "                                                                 \n",
      " dropout_1 (Dropout)         (None, 16, 16, 60)        0         \n",
      "                                                                 \n",
      " dense_14 (Dense)            (None, 16, 16, 120)       7200      \n",
      "                                                                 \n",
      " dense_15 (Dense)            (None, 16, 16, 10)        1210      \n",
      "                                                                 \n",
      "=================================================================\n",
      "Total params: 10,360\n",
      "Trainable params: 10,360\n",
      "Non-trainable params: 0\n",
      "_________________________________________________________________\n"
     ]
    },
    {
     "ename": "NameError",
     "evalue": "name 'accuracy' is not defined",
     "output_type": "error",
     "traceback": [
      "\u001b[1;31m---------------------------------------------------------------------------\u001b[0m",
      "\u001b[1;31mNameError\u001b[0m                                 Traceback (most recent call last)",
      "\u001b[1;32mC:\\Users\\SARASP~1\\AppData\\Local\\Temp/ipykernel_20272/2513293172.py\u001b[0m in \u001b[0;36m<module>\u001b[1;34m\u001b[0m\n\u001b[0;32m     13\u001b[0m \u001b[0mmodel\u001b[0m\u001b[1;33m.\u001b[0m\u001b[0msummary\u001b[0m\u001b[1;33m(\u001b[0m\u001b[1;33m)\u001b[0m\u001b[1;33m\u001b[0m\u001b[1;33m\u001b[0m\u001b[0m\n\u001b[0;32m     14\u001b[0m \u001b[1;33m\u001b[0m\u001b[0m\n\u001b[1;32m---> 15\u001b[1;33m \u001b[0mmodel\u001b[0m\u001b[1;33m.\u001b[0m\u001b[0mcompile\u001b[0m\u001b[1;33m(\u001b[0m\u001b[0mloss\u001b[0m\u001b[1;33m=\u001b[0m\u001b[1;34m'categorical_crossentropy'\u001b[0m\u001b[1;33m,\u001b[0m\u001b[0moptimizer\u001b[0m\u001b[1;33m=\u001b[0m\u001b[1;34m'adam'\u001b[0m\u001b[1;33m,\u001b[0m\u001b[0mmetrics\u001b[0m\u001b[1;33m=\u001b[0m\u001b[1;33m[\u001b[0m\u001b[0maccuracy\u001b[0m\u001b[1;33m]\u001b[0m\u001b[1;33m)\u001b[0m\u001b[1;33m\u001b[0m\u001b[1;33m\u001b[0m\u001b[0m\n\u001b[0m",
      "\u001b[1;31mNameError\u001b[0m: name 'accuracy' is not defined"
     ]
    }
   ],
   "source": [
    "# define the keras model\n",
    "from keras.models import Sequential\n",
    "from keras.layers import Conv2D, MaxPooling2D\n",
    "from keras.layers import Activation, Dropout, Flatten, Dense\n",
    "\n",
    "model = Sequential()\n",
    "model.add(Dense(30,activation=\"relu\",use_bias=False,input_shape=(16,16,3)))\n",
    "model.add(Dense(60, activation=\"relu\"))\n",
    "model.add(Dropout(0.4))\n",
    "model.add(Dense(120, activation=\"relu\",use_bias=False))\n",
    "model.add(Dense(10, activation='softmax'))\n",
    "\n",
    "model.summary()\n",
    "\n",
    "model.compile(loss='categorical_crossentropy',optimizer='adam',metrics=[accuracy])"
   ]
  },
  {
   "cell_type": "markdown",
   "metadata": {},
   "source": [
    "### <span style='background : yellow' > **TASK 2:**</span> Configure the CNN model (use keras tensorflow)"
   ]
  },
  {
   "cell_type": "code",
   "execution_count": 6,
   "metadata": {},
   "outputs": [
    {
     "name": "stdout",
     "output_type": "stream",
     "text": [
      "Model: \"sequential\"\n",
      "_________________________________________________________________\n",
      " Layer (type)                Output Shape              Param #   \n",
      "=================================================================\n",
      " conv2d (Conv2D)             (None, 222, 222, 32)      896       \n",
      "                                                                 \n",
      " max_pooling2d (MaxPooling2D  (None, 111, 111, 32)     0         \n",
      " )                                                               \n",
      "                                                                 \n",
      " conv2d_1 (Conv2D)           (None, 109, 109, 64)      18496     \n",
      "                                                                 \n",
      " conv2d_2 (Conv2D)           (None, 107, 107, 64)      36928     \n",
      "                                                                 \n",
      " max_pooling2d_1 (MaxPooling  (None, 53, 53, 64)       0         \n",
      " 2D)                                                             \n",
      "                                                                 \n",
      " flatten (Flatten)           (None, 179776)            0         \n",
      "                                                                 \n",
      " dense (Dense)               (None, 128)               23011456  \n",
      "                                                                 \n",
      " dense_1 (Dense)             (None, 73)                9417      \n",
      "                                                                 \n",
      "=================================================================\n",
      "Total params: 23,077,193\n",
      "Trainable params: 23,077,193\n",
      "Non-trainable params: 0\n",
      "_________________________________________________________________\n"
     ]
    }
   ],
   "source": [
    "# Create a Sequential default object\n",
    "default = Sequential()\n",
    "\n",
    "# Add layers Conv2D for CNN and sepcify MaxPooling\n",
    "\n",
    "# Layer 1 = input layer\n",
    "default.add(Conv2D(32, kernel_size=(3, 3),strides=1,activation='relu',input_shape=(224,224,3)))\n",
    "default.add(MaxPooling2D(pool_size=(2, 2)))\n",
    "\n",
    "# Layer 2\n",
    "default.add(Conv2D(64, (3, 3), strides=1, activation='relu'))\n",
    "\n",
    "# Layer 3\n",
    "default.add(Conv2D(64, (3, 3), strides=1, activation='relu'))\n",
    "default.add(MaxPooling2D(pool_size=(2, 2)))\n",
    "\n",
    "default.add(Flatten())\n",
    "\n",
    "# Add Dense layers or fully connected layers\n",
    "# Layer 4\n",
    "default.add(Dense(128, activation='relu'))\n",
    "\n",
    "# Layer 5\n",
    "default.add(Dense(73, activation='softmax'))\n",
    "\n",
    "#Print summary of the default\n",
    "default.summary()"
   ]
  },
  {
   "cell_type": "code",
   "execution_count": 7,
   "metadata": {},
   "outputs": [],
   "source": [
    "# Configure the model for training, by using appropriate optimizers and regularizations\n",
    "default.compile(loss='sparse_categorical_crossentropy',optimizer='Adam',metrics=['accuracy'])"
   ]
  },
  {
   "cell_type": "markdown",
   "metadata": {},
   "source": [
    "### <span style='background : yellow' > **TASK 3:**</span> Train the CNN model for E epoch (take E=25), save the train_loss, train_acc, validation_loss, validation_acc for each epoch and plot it after training has finished."
   ]
  },
  {
   "cell_type": "code",
   "execution_count": 8,
   "metadata": {},
   "outputs": [
    {
     "name": "stdout",
     "output_type": "stream",
     "text": [
      "Epoch 1/25\n",
      "326/326 [==============================] - 404s 1s/step - loss: 4.0518 - accuracy: 0.0584 - val_loss: 3.5490 - val_accuracy: 0.1233\n",
      "Epoch 2/25\n",
      "326/326 [==============================] - 383s 1s/step - loss: 2.9876 - accuracy: 0.2703 - val_loss: 3.0282 - val_accuracy: 0.2137\n",
      "Epoch 3/25\n",
      "326/326 [==============================] - 382s 1s/step - loss: 1.5112 - accuracy: 0.6034 - val_loss: 3.6420 - val_accuracy: 0.2164\n",
      "Epoch 4/25\n",
      "326/326 [==============================] - 385s 1s/step - loss: 0.3938 - accuracy: 0.8950 - val_loss: 5.5284 - val_accuracy: 0.2137\n",
      "Epoch 5/25\n",
      "326/326 [==============================] - 383s 1s/step - loss: 0.1286 - accuracy: 0.9710 - val_loss: 7.2353 - val_accuracy: 0.2082\n",
      "Epoch 6/25\n",
      "326/326 [==============================] - 384s 1s/step - loss: 0.0744 - accuracy: 0.9856 - val_loss: 7.4286 - val_accuracy: 0.2137\n",
      "Epoch 7/25\n",
      "326/326 [==============================] - 383s 1s/step - loss: 0.0684 - accuracy: 0.9842 - val_loss: 8.4242 - val_accuracy: 0.1973\n",
      "Epoch 8/25\n",
      "326/326 [==============================] - 383s 1s/step - loss: 0.0606 - accuracy: 0.9849 - val_loss: 7.7859 - val_accuracy: 0.1836\n",
      "Epoch 9/25\n",
      "326/326 [==============================] - 383s 1s/step - loss: 0.0466 - accuracy: 0.9901 - val_loss: 8.2560 - val_accuracy: 0.2247\n",
      "Epoch 10/25\n",
      "326/326 [==============================] - 381s 1s/step - loss: 0.0685 - accuracy: 0.9817 - val_loss: 8.7916 - val_accuracy: 0.2137\n",
      "Epoch 11/25\n",
      "326/326 [==============================] - 381s 1s/step - loss: 0.0642 - accuracy: 0.9852 - val_loss: 9.0356 - val_accuracy: 0.1863\n",
      "Epoch 12/25\n",
      "326/326 [==============================] - 380s 1s/step - loss: 0.0423 - accuracy: 0.9894 - val_loss: 9.3257 - val_accuracy: 0.1945\n",
      "Epoch 13/25\n",
      "326/326 [==============================] - 383s 1s/step - loss: 0.0321 - accuracy: 0.9917 - val_loss: 9.4631 - val_accuracy: 0.1918\n",
      "Epoch 14/25\n",
      "326/326 [==============================] - 388s 1s/step - loss: 0.0450 - accuracy: 0.9881 - val_loss: 10.1924 - val_accuracy: 0.1808\n",
      "Epoch 15/25\n",
      "326/326 [==============================] - 380s 1s/step - loss: 0.0312 - accuracy: 0.9918 - val_loss: 12.5080 - val_accuracy: 0.1890\n",
      "Epoch 16/25\n",
      "326/326 [==============================] - 379s 1s/step - loss: 0.0240 - accuracy: 0.9935 - val_loss: 11.5141 - val_accuracy: 0.1890\n",
      "Epoch 17/25\n",
      "326/326 [==============================] - 378s 1s/step - loss: 0.0416 - accuracy: 0.9885 - val_loss: 11.3012 - val_accuracy: 0.1863\n",
      "Epoch 18/25\n",
      "326/326 [==============================] - 378s 1s/step - loss: 0.0284 - accuracy: 0.9930 - val_loss: 11.2634 - val_accuracy: 0.2055\n",
      "Epoch 19/25\n",
      "326/326 [==============================] - 378s 1s/step - loss: 0.0369 - accuracy: 0.9912 - val_loss: 10.7686 - val_accuracy: 0.1945\n",
      "Epoch 20/25\n",
      "326/326 [==============================] - 378s 1s/step - loss: 0.0264 - accuracy: 0.9931 - val_loss: 11.4944 - val_accuracy: 0.1973\n",
      "Epoch 21/25\n",
      "326/326 [==============================] - 383s 1s/step - loss: 0.0250 - accuracy: 0.9933 - val_loss: 12.6610 - val_accuracy: 0.1808\n",
      "Epoch 22/25\n",
      "326/326 [==============================] - 381s 1s/step - loss: 0.0445 - accuracy: 0.9888 - val_loss: 12.4162 - val_accuracy: 0.2329\n",
      "Epoch 23/25\n",
      "326/326 [==============================] - 384s 1s/step - loss: 0.0353 - accuracy: 0.9901 - val_loss: 10.9693 - val_accuracy: 0.2000\n",
      "Epoch 24/25\n",
      "326/326 [==============================] - 383s 1s/step - loss: 0.0285 - accuracy: 0.9933 - val_loss: 12.0442 - val_accuracy: 0.1973\n",
      "Epoch 25/25\n",
      "326/326 [==============================] - 384s 1s/step - loss: 0.0167 - accuracy: 0.9956 - val_loss: 12.3136 - val_accuracy: 0.1753\n"
     ]
    }
   ],
   "source": [
    "CNNdefault = default.fit(X_train, y_train, epochs=25, batch_size=32, validation_data=(X_valid, y_valid))"
   ]
  },
  {
   "cell_type": "code",
   "execution_count": 9,
   "metadata": {},
   "outputs": [
    {
     "name": "stdout",
     "output_type": "stream",
     "text": [
      "Final training loss \t 0.0166790671646595\n",
      "Final training accuracy  0.995583713054657\n"
     ]
    }
   ],
   "source": [
    "print('Final training loss \\t', CNNdefault.history['loss'][-1])\n",
    "print('Final training accuracy ', CNNdefault.history['accuracy'][-1])"
   ]
  },
  {
   "cell_type": "code",
   "execution_count": 10,
   "metadata": {},
   "outputs": [
    {
     "data": {
      "image/png": "[encoded data removed]",
      "text/plain": [
       "<Figure size 432x288 with 1 Axes>"
      ]
     },
     "metadata": {
      "needs_background": "light"
     },
     "output_type": "display_data"
    },
    {
     "data": {
      "image/png": "[encoded data removed]",
      "text/plain": [
       "<Figure size 432x288 with 1 Axes>"
      ]
     },
     "metadata": {
      "needs_background": "light"
     },
     "output_type": "display_data"
    }
   ],
   "source": [
    "# plotting training and validation loss\n",
    "\n",
    "loss = CNNdefault.history['loss']\n",
    "val_loss = CNNdefault.history['val_loss']\n",
    "epochs = range(1, len(loss) + 1)\n",
    "plt.plot(epochs, loss, color='red', label='Training loss')\n",
    "plt.plot(epochs, val_loss, color='green', label='Validation loss')\n",
    "plt.title('Training and Validation loss')\n",
    "plt.xlabel('Epochs')\n",
    "plt.ylabel('Loss')\n",
    "plt.legend()\n",
    "plt.show()\n",
    "\n",
    "# plotting training and validation accuracy\n",
    "\n",
    "acc = CNNdefault.history['accuracy']\n",
    "val_acc = CNNdefault.history['val_accuracy']\n",
    "plt.plot(epochs, acc, color='red', label='Training acc')\n",
    "plt.plot(epochs, val_acc, color='green', label='Validation acc')\n",
    "plt.title('Training and Validation accuracy')\n",
    "plt.xlabel('Epochs')\n",
    "plt.ylabel('Loss')\n",
    "plt.legend()\n",
    "plt.show()"
   ]
  },
  {
   "cell_type": "markdown",
   "metadata": {},
   "source": [
    "### <span style='background : yellow' > **TASK 4:**</span> Evaluate the trained CNN model on test data. Print classification results."
   ]
  },
  {
   "cell_type": "code",
   "execution_count": 11,
   "metadata": {},
   "outputs": [
    {
     "name": "stdout",
     "output_type": "stream",
     "text": [
      "12/12 [==============================] - 3s 268ms/step - loss: 11.4002 - accuracy: 0.1808\n",
      "Accuracy on test data: 0.18\n",
      "Loss on test data    : 11.40\n"
     ]
    }
   ],
   "source": [
    "# Evaluate the model on test data\n",
    "\n",
    "loss, accuracy = default.evaluate(X_test, y_test)\n",
    "\n",
    "print('Accuracy on test data:',format(accuracy,'.2f'))\n",
    "print('Loss on test data    :',format(loss,'.2f'))"
   ]
  },
  {
   "cell_type": "code",
   "execution_count": 12,
   "metadata": {},
   "outputs": [],
   "source": [
    "Y_prediction_def = default.predict(X_test)\n",
    "\n",
    "# Convert predictions classes to one hot vectors \n",
    "Y_pred_classes_def = np.argmax(Y_prediction_def, axis = 1) "
   ]
  },
  {
   "cell_type": "markdown",
   "metadata": {},
   "source": [
    "#### CLASSIFICATION RESULTS"
   ]
  },
  {
   "cell_type": "code",
   "execution_count": 13,
   "metadata": {},
   "outputs": [
    {
     "name": "stdout",
     "output_type": "stream",
     "text": [
      "              precision    recall  f1-score   support\n",
      "\n",
      "           0       0.50      0.40      0.44         5\n",
      "           1       0.00      0.00      0.00         5\n",
      "           2       0.00      0.00      0.00         5\n",
      "           3       0.22      0.40      0.29         5\n",
      "           4       0.17      0.20      0.18         5\n",
      "           5       0.00      0.00      0.00         5\n",
      "           6       0.00      0.00      0.00         5\n",
      "           7       0.33      0.20      0.25         5\n",
      "           8       0.20      0.20      0.20         5\n",
      "           9       0.25      0.20      0.22         5\n",
      "          10       0.17      0.20      0.18         5\n",
      "          11       0.00      0.00      0.00         5\n",
      "          12       0.33      0.20      0.25         5\n",
      "          13       0.25      0.20      0.22         5\n",
      "          14       0.08      0.20      0.12         5\n",
      "          15       0.50      0.40      0.44         5\n",
      "          16       0.50      0.20      0.29         5\n",
      "          17       0.60      0.60      0.60         5\n",
      "          18       0.00      0.00      0.00         5\n",
      "          19       0.00      0.00      0.00         5\n",
      "          20       1.00      0.80      0.89         5\n",
      "          21       0.20      0.40      0.27         5\n",
      "          22       0.10      0.20      0.13         5\n",
      "          23       0.00      0.00      0.00         5\n",
      "          24       0.50      0.60      0.55         5\n",
      "          25       0.00      0.00      0.00         5\n",
      "          26       0.17      0.20      0.18         5\n",
      "          27       0.00      0.00      0.00         5\n",
      "          28       0.20      0.20      0.20         5\n",
      "          29       0.15      0.40      0.22         5\n",
      "          30       0.38      0.60      0.46         5\n",
      "          31       0.00      0.00      0.00         5\n",
      "          32       0.33      0.20      0.25         5\n",
      "          33       0.00      0.00      0.00         5\n",
      "          34       0.00      0.00      0.00         5\n",
      "          35       0.00      0.00      0.00         5\n",
      "          36       0.11      0.20      0.14         5\n",
      "          37       0.00      0.00      0.00         5\n",
      "          38       0.17      0.20      0.18         5\n",
      "          39       0.00      0.00      0.00         5\n",
      "          40       0.33      0.20      0.25         5\n",
      "          41       0.00      0.00      0.00         5\n",
      "          42       0.50      0.60      0.55         5\n",
      "          43       0.08      0.20      0.12         5\n",
      "          44       0.33      0.20      0.25         5\n",
      "          45       0.00      0.00      0.00         5\n",
      "          46       0.00      0.00      0.00         5\n",
      "          47       0.29      0.40      0.33         5\n",
      "          48       0.25      0.20      0.22         5\n",
      "          49       0.00      0.00      0.00         5\n",
      "          50       0.00      0.00      0.00         5\n",
      "          51       0.00      0.00      0.00         5\n",
      "          52       0.00      0.00      0.00         5\n",
      "          53       0.08      0.20      0.11         5\n",
      "          54       0.50      0.20      0.29         5\n",
      "          55       0.00      0.00      0.00         5\n",
      "          56       0.00      0.00      0.00         5\n",
      "          57       0.00      0.00      0.00         5\n",
      "          58       0.43      0.60      0.50         5\n",
      "          59       0.07      0.20      0.10         5\n",
      "          60       0.00      0.00      0.00         5\n",
      "          61       0.25      0.20      0.22         5\n",
      "          62       0.00      0.00      0.00         5\n",
      "          63       0.29      0.40      0.33         5\n",
      "          64       0.00      0.00      0.00         5\n",
      "          65       0.27      0.60      0.37         5\n",
      "          66       1.00      0.20      0.33         5\n",
      "          67       0.15      0.40      0.22         5\n",
      "          68       0.33      0.20      0.25         5\n",
      "          69       1.00      0.20      0.33         5\n",
      "          70       0.50      0.20      0.29         5\n",
      "          71       0.33      0.20      0.25         5\n",
      "          72       0.00      0.00      0.00         5\n",
      "\n",
      "    accuracy                           0.18       365\n",
      "   macro avg       0.20      0.18      0.17       365\n",
      "weighted avg       0.20      0.18      0.17       365\n",
      "\n"
     ]
    }
   ],
   "source": [
    "# Classification Report\n",
    "\n",
    "print(classification_report(y_test, Y_pred_classes_def))"
   ]
  },
  {
   "cell_type": "code",
   "execution_count": 14,
   "metadata": {},
   "outputs": [
    {
     "name": "stdout",
     "output_type": "stream",
     "text": [
      "precision & recall of default model :  0.2 & 0.18\n"
     ]
    }
   ],
   "source": [
    "default_precision = precision_score(y_test, Y_pred_classes_def, average='weighted')\n",
    "default_recall    = recall_score(y_test, Y_pred_classes_def, average='weighted')\n",
    "\n",
    "print(\"precision & recall of default model : \", round(default_precision,2), '&', round(default_recall,2))"
   ]
  },
  {
   "cell_type": "markdown",
   "metadata": {},
   "source": [
    "### <span style='background : yellow' > **TASK 5 (i):**</span> Make changes in any way in the CNN model and improve your test accuracy: \n",
    "#### Made the network deeper, increased the nodes, epochs and included Dropout"
   ]
  },
  {
   "cell_type": "code",
   "execution_count": 15,
   "metadata": {},
   "outputs": [
    {
     "name": "stdout",
     "output_type": "stream",
     "text": [
      "Model: \"sequential_1\"\n",
      "_________________________________________________________________\n",
      " Layer (type)                Output Shape              Param #   \n",
      "=================================================================\n",
      " conv2d_3 (Conv2D)           (None, 222, 222, 64)      1792      \n",
      "                                                                 \n",
      " max_pooling2d_2 (MaxPooling  (None, 111, 111, 64)     0         \n",
      " 2D)                                                             \n",
      "                                                                 \n",
      " conv2d_4 (Conv2D)           (None, 55, 55, 32)        18464     \n",
      "                                                                 \n",
      " max_pooling2d_3 (MaxPooling  (None, 27, 27, 32)       0         \n",
      " 2D)                                                             \n",
      "                                                                 \n",
      " conv2d_5 (Conv2D)           (None, 13, 13, 32)        9248      \n",
      "                                                                 \n",
      " dropout (Dropout)           (None, 13, 13, 32)        0         \n",
      "                                                                 \n",
      " flatten_1 (Flatten)         (None, 5408)              0         \n",
      "                                                                 \n",
      " dense_2 (Dense)             (None, 64)                346176    \n",
      "                                                                 \n",
      " dense_3 (Dense)             (None, 64)                4160      \n",
      "                                                                 \n",
      " dropout_1 (Dropout)         (None, 64)                0         \n",
      "                                                                 \n",
      " dense_4 (Dense)             (None, 73)                4745      \n",
      "                                                                 \n",
      "=================================================================\n",
      "Total params: 384,585\n",
      "Trainable params: 384,585\n",
      "Non-trainable params: 0\n",
      "_________________________________________________________________\n"
     ]
    }
   ],
   "source": [
    "# Create a Sequential improved object\n",
    "improved = Sequential()\n",
    "\n",
    "# Add layers Conv2D for CNN and sepcify MaxPooling\n",
    "\n",
    "# Layer 1 = input layer\n",
    "improved.add(Conv2D(64, kernel_size=(3, 3), strides=1, activation='relu',input_shape=(224,224,3)))\n",
    "improved.add(MaxPooling2D(pool_size=(2, 2)))\n",
    "\n",
    "# Layer 2\n",
    "improved.add(Conv2D(32, (3, 3), strides=2, activation='relu'))\n",
    "improved.add(MaxPooling2D(pool_size=(2, 2)))\n",
    "\n",
    "# Layer 3\n",
    "improved.add(Conv2D(32, (3, 3), strides=2, activation='relu'))\n",
    "improved.add(Dropout(0.25))\n",
    "improved.add(Flatten())\n",
    "\n",
    "# Add Dense layers or fully connected layers\n",
    "# Layer 4\n",
    "improved.add(Dense(64, activation='relu'))\n",
    "\n",
    "# Layer 5\n",
    "improved.add(Dense(64, activation='relu'))\n",
    "improved.add(Dropout(0.5))\n",
    "\n",
    "# Layer 6\n",
    "improved.add(Dense(73, activation='softmax'))\n",
    "\n",
    "#Print summary of the improved\n",
    "improved.summary()"
   ]
  },
  {
   "cell_type": "code",
   "execution_count": 16,
   "metadata": {},
   "outputs": [],
   "source": [
    "# Configure  the model for training, by using appropriate optimizers and regularizations\n",
    "improved.compile(loss='sparse_categorical_crossentropy',optimizer='Adam',metrics=['accuracy'])"
   ]
  },
  {
   "cell_type": "code",
   "execution_count": 17,
   "metadata": {},
   "outputs": [
    {
     "name": "stdout",
     "output_type": "stream",
     "text": [
      "Epoch 1/30\n",
      "326/326 [==============================] - 214s 653ms/step - loss: 4.2309 - accuracy: 0.0204 - val_loss: 4.0676 - val_accuracy: 0.0274\n",
      "Epoch 2/30\n",
      "326/326 [==============================] - 203s 622ms/step - loss: 3.9997 - accuracy: 0.0377 - val_loss: 3.7364 - val_accuracy: 0.0384\n",
      "Epoch 3/30\n",
      "326/326 [==============================] - 200s 613ms/step - loss: 3.6756 - accuracy: 0.0798 - val_loss: 3.4400 - val_accuracy: 0.1288\n",
      "Epoch 4/30\n",
      "326/326 [==============================] - 198s 607ms/step - loss: 3.3960 - accuracy: 0.1204 - val_loss: 3.1583 - val_accuracy: 0.1753\n",
      "Epoch 5/30\n",
      "326/326 [==============================] - 198s 607ms/step - loss: 3.1715 - accuracy: 0.1626 - val_loss: 2.9769 - val_accuracy: 0.2247\n",
      "Epoch 6/30\n",
      "326/326 [==============================] - 198s 606ms/step - loss: 2.9906 - accuracy: 0.2032 - val_loss: 2.7604 - val_accuracy: 0.2986\n",
      "Epoch 7/30\n",
      "326/326 [==============================] - 196s 600ms/step - loss: 2.8354 - accuracy: 0.2319 - val_loss: 2.7095 - val_accuracy: 0.2603\n",
      "Epoch 8/30\n",
      "326/326 [==============================] - 196s 600ms/step - loss: 2.6868 - accuracy: 0.2693 - val_loss: 2.5718 - val_accuracy: 0.3370\n",
      "Epoch 9/30\n",
      "326/326 [==============================] - 196s 602ms/step - loss: 2.5501 - accuracy: 0.2941 - val_loss: 2.5220 - val_accuracy: 0.3370\n",
      "Epoch 10/30\n",
      "326/326 [==============================] - 196s 601ms/step - loss: 2.4207 - accuracy: 0.3288 - val_loss: 2.4682 - val_accuracy: 0.3425\n",
      "Epoch 11/30\n",
      "326/326 [==============================] - 198s 607ms/step - loss: 2.3238 - accuracy: 0.3410 - val_loss: 2.4781 - val_accuracy: 0.3534\n",
      "Epoch 12/30\n",
      "326/326 [==============================] - 197s 603ms/step - loss: 2.2087 - accuracy: 0.3782 - val_loss: 2.4685 - val_accuracy: 0.3699\n",
      "Epoch 13/30\n",
      "326/326 [==============================] - 196s 602ms/step - loss: 2.1049 - accuracy: 0.3953 - val_loss: 2.5183 - val_accuracy: 0.3342\n",
      "Epoch 14/30\n",
      "326/326 [==============================] - 198s 608ms/step - loss: 2.0423 - accuracy: 0.4109 - val_loss: 2.5002 - val_accuracy: 0.3233\n",
      "Epoch 15/30\n",
      "326/326 [==============================] - 197s 603ms/step - loss: 1.9351 - accuracy: 0.4359 - val_loss: 2.4354 - val_accuracy: 0.3781\n",
      "Epoch 16/30\n",
      "326/326 [==============================] - 197s 604ms/step - loss: 1.8852 - accuracy: 0.4468 - val_loss: 2.4765 - val_accuracy: 0.3890\n",
      "Epoch 17/30\n",
      "326/326 [==============================] - 196s 602ms/step - loss: 1.7874 - accuracy: 0.4756 - val_loss: 2.5441 - val_accuracy: 0.3616\n",
      "Epoch 18/30\n",
      "326/326 [==============================] - 196s 601ms/step - loss: 1.7345 - accuracy: 0.4875 - val_loss: 2.6388 - val_accuracy: 0.3781\n",
      "Epoch 19/30\n",
      "326/326 [==============================] - 196s 601ms/step - loss: 1.6896 - accuracy: 0.4992 - val_loss: 2.5647 - val_accuracy: 0.3726\n",
      "Epoch 20/30\n",
      "326/326 [==============================] - 197s 604ms/step - loss: 1.6321 - accuracy: 0.5089 - val_loss: 2.7418 - val_accuracy: 0.3370\n",
      "Epoch 21/30\n",
      "326/326 [==============================] - 196s 601ms/step - loss: 1.6005 - accuracy: 0.5211 - val_loss: 2.6965 - val_accuracy: 0.3370\n",
      "Epoch 22/30\n",
      "326/326 [==============================] - 196s 600ms/step - loss: 1.5448 - accuracy: 0.5409 - val_loss: 2.6730 - val_accuracy: 0.3534\n",
      "Epoch 23/30\n",
      "326/326 [==============================] - 197s 604ms/step - loss: 1.4970 - accuracy: 0.5565 - val_loss: 2.8296 - val_accuracy: 0.3671\n",
      "Epoch 24/30\n",
      "326/326 [==============================] - 196s 602ms/step - loss: 1.4709 - accuracy: 0.5585 - val_loss: 2.7757 - val_accuracy: 0.3534\n",
      "Epoch 25/30\n",
      "326/326 [==============================] - 197s 604ms/step - loss: 1.4175 - accuracy: 0.5710 - val_loss: 2.8993 - val_accuracy: 0.3589\n",
      "Epoch 26/30\n",
      "326/326 [==============================] - 196s 602ms/step - loss: 1.4031 - accuracy: 0.5778 - val_loss: 2.9275 - val_accuracy: 0.3562\n",
      "Epoch 27/30\n",
      "326/326 [==============================] - 197s 603ms/step - loss: 1.3572 - accuracy: 0.5892 - val_loss: 2.9191 - val_accuracy: 0.3945\n",
      "Epoch 28/30\n",
      "326/326 [==============================] - 196s 601ms/step - loss: 1.3160 - accuracy: 0.6059 - val_loss: 2.8731 - val_accuracy: 0.3808\n",
      "Epoch 29/30\n",
      "326/326 [==============================] - 197s 603ms/step - loss: 1.3104 - accuracy: 0.6086 - val_loss: 3.0302 - val_accuracy: 0.3370\n",
      "Epoch 30/30\n",
      "326/326 [==============================] - 198s 608ms/step - loss: 1.2853 - accuracy: 0.6117 - val_loss: 2.9772 - val_accuracy: 0.3753\n"
     ]
    }
   ],
   "source": [
    "CNNimproved = improved.fit(X_train, y_train, epochs=30, batch_size=32, validation_data=(X_valid, y_valid))"
   ]
  },
  {
   "cell_type": "code",
   "execution_count": 18,
   "metadata": {},
   "outputs": [
    {
     "name": "stdout",
     "output_type": "stream",
     "text": [
      "12/12 [==============================] - 2s 160ms/step - loss: 2.6778 - accuracy: 0.4110\n",
      "Accuracy on test data: 0.41\n",
      "Loss on test data    : 2.68\n"
     ]
    }
   ],
   "source": [
    "# evaluate the model\n",
    "\n",
    "loss, accuracy = improved.evaluate(X_test, y_test)\n",
    "\n",
    "print('Accuracy on test data:',format(accuracy,'.2f'))\n",
    "print('Loss on test data    :',format(loss,'.2f'))"
   ]
  },
  {
   "cell_type": "code",
   "execution_count": 19,
   "metadata": {},
   "outputs": [],
   "source": [
    "Y_prediction_imp = improved.predict(X_test)\n",
    "\n",
    "# Convert predictions classes to one hot vectors \n",
    "Y_pred_classes_imp = np.argmax(Y_prediction_imp, axis = 1) "
   ]
  },
  {
   "cell_type": "code",
   "execution_count": 20,
   "metadata": {},
   "outputs": [
    {
     "name": "stdout",
     "output_type": "stream",
     "text": [
      "precision & recall of improved model :  0.44 & 0.41\n"
     ]
    }
   ],
   "source": [
    "imp_precision = precision_score(y_test, Y_pred_classes_imp, average='weighted')\n",
    "imp_recall    = recall_score(y_test, Y_pred_classes_imp, average='weighted')\n",
    "\n",
    "print(\"precision & recall of improved model : \", round(imp_precision,2), '&', round(imp_recall,2))"
   ]
  },
  {
   "cell_type": "markdown",
   "metadata": {},
   "source": [
    "#### <span style='background : yellow' > **Observation:**</span> Tried to improve the test accuracy by making the network more deeper, increasing the epochs, increasing strides, adding dropout function and changing number of nodes in few layers too, however, the test accuracy did not improve much and moreover train accuracy reduced, hence will be trying resnet model instead which will use skip connection technique and improve the accuracy much better."
   ]
  },
  {
   "cell_type": "markdown",
   "metadata": {},
   "source": [
    "### <span style='background : yellow' > **IMPROVING FURTHER BY USING RESNET MODEL:**</span> "
   ]
  },
  {
   "cell_type": "code",
   "execution_count": 21,
   "metadata": {},
   "outputs": [],
   "source": [
    "train_gen = tf.keras.preprocessing.image.ImageDataGenerator(rescale= 1/255.,                                                                                                                   \n",
    "                                                           rotation_range=0.2,\n",
    "                                                           width_shift_range=0.2,\n",
    "                                                           height_shift_range=0.2,\n",
    "                                                           zoom_range = 0.2, \n",
    "                                                           horizontal_flip=True,\n",
    "                                                           validation_split = 0.02)\n",
    "\n",
    "test_gen = tf.keras.preprocessing.image.ImageDataGenerator(rescale = 1/255.)\n",
    "\n",
    "val_gen  = tf.keras.preprocessing.image.ImageDataGenerator(rescale = 1/255.)"
   ]
  },
  {
   "cell_type": "code",
   "execution_count": 22,
   "metadata": {},
   "outputs": [
    {
     "name": "stdout",
     "output_type": "stream",
     "text": [
      "Found 10416 images belonging to 73 classes.\n",
      "Found 365 images belonging to 73 classes.\n",
      "Found 365 images belonging to 73 classes.\n"
     ]
    }
   ],
   "source": [
    "train_dir  = \"Sports_Dataset/archive/train/\"\n",
    "test_dir   = \"Sports_Dataset/archive/test/\"\n",
    "val_dir    = \"Sports_Dataset/archive/valid/\"\n",
    "\n",
    "train_data = train_gen.flow_from_directory(train_dir,\n",
    "                                           target_size = (224,224),\n",
    "                                           class_mode = \"categorical\",\n",
    "                                           batch_size = 32\n",
    "                                           )\n",
    "test_data  = test_gen.flow_from_directory(test_dir,\n",
    "                                         target_size =(224,224),\n",
    "                                         class_mode = \"categorical\",\n",
    "                                         batch_size = 32\n",
    "                                         )\n",
    "val_data   = val_gen.flow_from_directory(val_dir,\n",
    "                                       target_size =(224,224),\n",
    "                                       class_mode = \"categorical\",\n",
    "                                       batch_size = 32\n",
    "                                       )"
   ]
  },
  {
   "cell_type": "markdown",
   "metadata": {},
   "source": [
    "### <span style='background : yellow' > **BUILDING A RESNET MODEL:**</span> "
   ]
  },
  {
   "cell_type": "code",
   "execution_count": 23,
   "metadata": {},
   "outputs": [
    {
     "name": "stdout",
     "output_type": "stream",
     "text": [
      "Model: \"model\"\n",
      "_________________________________________________________________\n",
      " Layer (type)                Output Shape              Param #   \n",
      "=================================================================\n",
      " input_2 (InputLayer)        [(None, 224, 224, 3)]     0         \n",
      "                                                                 \n",
      " resnet50v2 (Functional)     (None, None, None, 2048)  23564800  \n",
      "                                                                 \n",
      " global_average_pooling2d (G  (None, 2048)             0         \n",
      " lobalAveragePooling2D)                                          \n",
      "                                                                 \n",
      " dense_5 (Dense)             (None, 73)                149577    \n",
      "                                                                 \n",
      "=================================================================\n",
      "Total params: 23,714,377\n",
      "Trainable params: 149,577\n",
      "Non-trainable params: 23,564,800\n",
      "_________________________________________________________________\n"
     ]
    }
   ],
   "source": [
    "base_model = tf.keras.applications.ResNet50V2(include_top= False) \n",
    "base_model.trainable = False\n",
    "\n",
    "inputs = tf.keras.Input(shape=(224,224,3))\n",
    "\n",
    "x = base_model(inputs)\n",
    "x = layers.GlobalAveragePooling2D()(x)\n",
    "outputs = layers.Dense(73, activation=\"softmax\")(x)\n",
    "\n",
    "res_model = tf.keras.Model(inputs, outputs)\n",
    "res_model.summary()"
   ]
  },
  {
   "cell_type": "code",
   "execution_count": 24,
   "metadata": {},
   "outputs": [],
   "source": [
    "# compiling the model\n",
    "res_model.compile(loss = tf.keras.losses.categorical_crossentropy, optimizer = tf.keras.optimizers.Adam(), metrics = [\"accuracy\"])"
   ]
  },
  {
   "cell_type": "code",
   "execution_count": 25,
   "metadata": {},
   "outputs": [
    {
     "name": "stdout",
     "output_type": "stream",
     "text": [
      "Epoch 1/5\n",
      "326/326 [==============================] - 489s 1s/step - loss: 1.5113 - accuracy: 0.6143 - val_loss: 0.4417 - val_accuracy: 0.8822\n",
      "Epoch 2/5\n",
      "326/326 [==============================] - 461s 1s/step - loss: 0.6108 - accuracy: 0.8286 - val_loss: 0.3380 - val_accuracy: 0.9041\n",
      "Epoch 3/5\n",
      "326/326 [==============================] - 461s 1s/step - loss: 0.4454 - accuracy: 0.8727 - val_loss: 0.2641 - val_accuracy: 0.9041\n",
      "Epoch 4/5\n",
      "326/326 [==============================] - 460s 1s/step - loss: 0.3763 - accuracy: 0.8918 - val_loss: 0.2726 - val_accuracy: 0.9205\n",
      "Epoch 5/5\n",
      "326/326 [==============================] - 461s 1s/step - loss: 0.3245 - accuracy: 0.9052 - val_loss: 0.2059 - val_accuracy: 0.9315\n"
     ]
    },
    {
     "data": {
      "text/plain": [
       "<keras.callbacks.History at 0x25b08a7b790>"
      ]
     },
     "execution_count": 25,
     "metadata": {},
     "output_type": "execute_result"
    }
   ],
   "source": [
    "# fitting data to the model\n",
    "res_model.fit(\n",
    "    train_data,\n",
    "    epochs = 5,\n",
    "    steps_per_epoch = len(train_data),\n",
    "    validation_data = val_data,\n",
    "    validation_steps = len(val_data)\n",
    ")"
   ]
  },
  {
   "cell_type": "code",
   "execution_count": 26,
   "metadata": {},
   "outputs": [
    {
     "name": "stdout",
     "output_type": "stream",
     "text": [
      "12/12 [==============================] - 15s 1s/step - loss: 0.1864 - accuracy: 0.9452\n",
      "Accuracy on test data: 0.95\n",
      "Loss on test data    : 0.19\n"
     ]
    }
   ],
   "source": [
    "# evaluate the model with test data\n",
    "\n",
    "loss, accuracy = res_model.evaluate(test_data)\n",
    "\n",
    "print('Accuracy on test data:',format(accuracy,'.2f'))\n",
    "print('Loss on test data    :',format(loss,'.2f'))"
   ]
  },
  {
   "cell_type": "code",
   "execution_count": 27,
   "metadata": {},
   "outputs": [],
   "source": [
    "Y_prediction = res_model.predict(X_test)\n",
    "\n",
    "# Convert predictions classes to one hot vectors \n",
    "Y_pred_classes = np.argmax(Y_prediction, axis = 1) "
   ]
  },
  {
   "cell_type": "code",
   "execution_count": 28,
   "metadata": {},
   "outputs": [
    {
     "name": "stdout",
     "output_type": "stream",
     "text": [
      "precision & recall of resnet model :  0.9 & 0.86\n"
     ]
    }
   ],
   "source": [
    "res_precision = precision_score(y_test, Y_pred_classes, average='weighted')\n",
    "res_recall    = recall_score(y_test, Y_pred_classes, average='weighted')\n",
    "\n",
    "print(\"precision & recall of resnet model : \", round(res_precision,2), '&', round(res_recall,2))"
   ]
  },
  {
   "cell_type": "markdown",
   "metadata": {},
   "source": [
    "### <span style='background : yellow' > **TASK 5 (ii):**</span> Plot precision and recall for default and improved model in a single bar plot. "
   ]
  },
  {
   "cell_type": "code",
   "execution_count": 29,
   "metadata": {},
   "outputs": [
    {
     "data": {
      "image/png": "[encoded data removed]",
      "text/plain": [
       "<Figure size 576x432 with 1 Axes>"
      ]
     },
     "metadata": {
      "needs_background": "light"
     },
     "output_type": "display_data"
    }
   ],
   "source": [
    "x = np.arange(1)\n",
    "width = 0.20\n",
    "  \n",
    "fig = plt.subplots(figsize =(8, 6))\n",
    "\n",
    "plt.bar(x, default_precision*100, width, color ='b', label='default precision')\n",
    "plt.bar(x+0.2, imp_precision*100, width, color ='g', label='improved precision')\n",
    "\n",
    "plt.bar(x+1.0, default_recall*100, width, color ='y', label='default recall')\n",
    "plt.bar(x+1.2, imp_recall*100, width, color ='c', label='improved recall')\n",
    "\n",
    "plt.xlabel('Precision                                     Recall', fontweight ='bold', fontsize = 15)\n",
    "plt.ylabel('Percentage', fontweight ='bold', fontsize = 15)\n",
    "\n",
    "plt.legend()\n",
    "plt.show()"
   ]
  },
  {
   "cell_type": "markdown",
   "metadata": {},
   "source": [
    "#### Bar plot of precision & recall of default, improved & much improved resnet models"
   ]
  },
  {
   "cell_type": "code",
   "execution_count": 31,
   "metadata": {},
   "outputs": [
    {
     "data": {
      "image/png": "[encoded data removed]",
      "text/plain": [
       "<Figure size 720x576 with 1 Axes>"
      ]
     },
     "metadata": {
      "needs_background": "light"
     },
     "output_type": "display_data"
    }
   ],
   "source": [
    "x = np.arange(1)\n",
    "width = 0.20\n",
    "  \n",
    "fig = plt.subplots(figsize =(10, 8))\n",
    "\n",
    "plt.bar(x, default_precision*100, width, color ='b', label='default precision')\n",
    "plt.bar(x+0.2, imp_precision*100, width, color ='g', label='improved precision')\n",
    "plt.bar(x+0.4, res_precision*100, width, color ='r', label='resnet precision')\n",
    "\n",
    "plt.bar(x+1.0, default_recall*100, width, color ='y', label='default recall')\n",
    "plt.bar(x+1.2, imp_recall*100, width, color ='c', label='improved recall')\n",
    "plt.bar(x+1.4, res_recall*100, width, color ='r', label='resnet recall')\n",
    "\n",
    "plt.xlabel('Precision                                     Recall', fontweight ='bold', fontsize = 15)\n",
    "plt.ylabel('Percentage', fontweight ='bold', fontsize = 15)\n",
    "\n",
    "plt.legend()\n",
    "plt.show()"
   ]
  },
  {
   "cell_type": "markdown",
   "metadata": {},
   "source": [
    "#### <span style='background : yellow' > **Observation :**</span> \n",
    "#### <span style='background : yellow' > **Precision and Recall**</span>  for the default model     : 20% & 18% for 25 epochs\n",
    "#### Precision and Recall for the improved model : 44% & 41% for 30 epochs\n",
    "#### Precision and Recall for the ResNet model     : 90% & 86% for just 5 epochs.\n",
    "#### <span style='background : yellow' > **Test accuracy**</span> for default model : 18% for 25 epochs\n",
    "#### Test accuracy for improved model : 38% for 25 epochs\n",
    "#### Test accuracy for ResNet model : 95% for just 5 epochs"
   ]
  }
 ],
 "metadata": {
  "kernelspec": {
   "display_name": "Python 3 (ipykernel)",
   "language": "python",
   "name": "python3"
  },
  "language_info": {
   "codemirror_mode": {
    "name": "ipython",
    "version": 3
   },
   "file_extension": ".py",
   "mimetype": "text/x-python",
   "name": "python",
   "nbconvert_exporter": "python",
   "pygments_lexer": "ipython3",
   "version": "3.9.7"
  }
 },
 "nbformat": 4,
 "nbformat_minor": 4
}
