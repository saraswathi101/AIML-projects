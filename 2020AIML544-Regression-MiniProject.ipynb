{
 "cells": [
  {
   "cell_type": "markdown",
   "metadata": {},
   "source": [
    "# 2020AIML544 - REGRESSION - MINI PROJECT\n",
    "\n",
    "# LUGGAGE BAGS COST PREDICTION"
   ]
  },
  {
   "cell_type": "markdown",
   "metadata": {},
   "source": [
    "<span style='color:Black'>\n",
    "<b>\n",
    "Import all needed libraries\n",
    "</b>\n",
    "</span>"
   ]
  },
  {
   "cell_type": "code",
   "execution_count": 3,
   "metadata": {},
   "outputs": [],
   "source": [
    "import pandas as pd\n",
    "import numpy as np\n",
    "import matplotlib.pyplot as plt\n",
    "import seaborn as sns\n",
    "import math\n",
    "\n",
    "from scipy import stats\n",
    "from pandas import DataFrame\n",
    "from sklearn.model_selection import train_test_split\n",
    "from sklearn.linear_model import LinearRegression\n",
    "from sklearn.linear_model import SGDRegressor\n",
    "from sklearn.preprocessing import StandardScaler\n",
    "from sklearn.metrics import mean_squared_error, r2_score\n",
    "\n",
    "pd.options.mode.chained_assignment = None  # default='warn'"
   ]
  },
  {
   "cell_type": "markdown",
   "metadata": {},
   "source": [
    "# Exploratory Data Analysis"
   ]
  },
  {
   "cell_type": "markdown",
   "metadata": {},
   "source": [
    "<span style='color:Black'>\n",
    "<b>\n",
    "Read the input csv file into a dataframe, I am naming my dataframe as data\n",
    "</b>\n",
    "</span>"
   ]
  },
  {
   "cell_type": "code",
   "execution_count": 4,
   "metadata": {},
   "outputs": [],
   "source": [
    "data=pd.read_csv(\"C:\\\\Users\\Aspire V3-572\\Desktop\\AIML Mini Project\\MyData.csv\")"
   ]
  },
  {
   "cell_type": "markdown",
   "metadata": {},
   "source": [
    "<span style='color:Black'>\n",
    "<b>\n",
    "Display information about the dataframe using head function\n",
    "</b>\n",
    "</span>"
   ]
  },
  {
   "cell_type": "code",
   "execution_count": 5,
   "metadata": {},
   "outputs": [
    {
     "data": {
      "text/html": [
       "<div>\n",
       "<style scoped>\n",
       "    .dataframe tbody tr th:only-of-type {\n",
       "        vertical-align: middle;\n",
       "    }\n",
       "\n",
       "    .dataframe tbody tr th {\n",
       "        vertical-align: top;\n",
       "    }\n",
       "\n",
       "    .dataframe thead th {\n",
       "        text-align: right;\n",
       "    }\n",
       "</style>\n",
       "<table border=\"1\" class=\"dataframe\">\n",
       "  <thead>\n",
       "    <tr style=\"text-align: right;\">\n",
       "      <th></th>\n",
       "      <th>Cost</th>\n",
       "      <th>Weight</th>\n",
       "      <th>Weight1</th>\n",
       "      <th>Length</th>\n",
       "      <th>Height</th>\n",
       "      <th>Width</th>\n",
       "    </tr>\n",
       "  </thead>\n",
       "  <tbody>\n",
       "    <tr>\n",
       "      <th>0</th>\n",
       "      <td>242.0</td>\n",
       "      <td>23.2</td>\n",
       "      <td>25.4</td>\n",
       "      <td>30</td>\n",
       "      <td>11.5200</td>\n",
       "      <td>4.02</td>\n",
       "    </tr>\n",
       "    <tr>\n",
       "      <th>1</th>\n",
       "      <td>290.0</td>\n",
       "      <td>24</td>\n",
       "      <td>26.3</td>\n",
       "      <td>31.2</td>\n",
       "      <td>12.4800</td>\n",
       "      <td>4.3056</td>\n",
       "    </tr>\n",
       "    <tr>\n",
       "      <th>2</th>\n",
       "      <td>340.0</td>\n",
       "      <td>23.9</td>\n",
       "      <td>26.5</td>\n",
       "      <td>31.1</td>\n",
       "      <td>12.3778</td>\n",
       "      <td>4.6961</td>\n",
       "    </tr>\n",
       "    <tr>\n",
       "      <th>3</th>\n",
       "      <td>363.0</td>\n",
       "      <td>26.3</td>\n",
       "      <td>29.0</td>\n",
       "      <td>33.5</td>\n",
       "      <td>12.7300</td>\n",
       "      <td>4.4555</td>\n",
       "    </tr>\n",
       "    <tr>\n",
       "      <th>4</th>\n",
       "      <td>430.0</td>\n",
       "      <td>26.5</td>\n",
       "      <td>29.0</td>\n",
       "      <td>34</td>\n",
       "      <td>12.4440</td>\n",
       "      <td>5.134</td>\n",
       "    </tr>\n",
       "  </tbody>\n",
       "</table>\n",
       "</div>"
      ],
      "text/plain": [
       "    Cost Weight  Weight1 Length   Height   Width\n",
       "0  242.0   23.2     25.4     30  11.5200    4.02\n",
       "1  290.0     24     26.3   31.2  12.4800  4.3056\n",
       "2  340.0   23.9     26.5   31.1  12.3778  4.6961\n",
       "3  363.0   26.3     29.0   33.5  12.7300  4.4555\n",
       "4  430.0   26.5     29.0     34  12.4440   5.134"
      ]
     },
     "execution_count": 5,
     "metadata": {},
     "output_type": "execute_result"
    }
   ],
   "source": [
    "data.head()"
   ]
  },
  {
   "cell_type": "markdown",
   "metadata": {},
   "source": [
    "<span style='color:Black'>\n",
    "<b>\n",
    "Display the number of rows and columns i.e. array size using shape\n",
    "</b>\n",
    "</span>"
   ]
  },
  {
   "cell_type": "code",
   "execution_count": 6,
   "metadata": {},
   "outputs": [
    {
     "data": {
      "text/plain": [
       "(159, 6)"
      ]
     },
     "execution_count": 6,
     "metadata": {},
     "output_type": "execute_result"
    }
   ],
   "source": [
    "data.shape"
   ]
  },
  {
   "cell_type": "markdown",
   "metadata": {},
   "source": [
    "<span style='color:Black'>\n",
    "<b>\n",
    "Before cleaning the data, let’s check the quality of the data and data types of each column using info function\n",
    "</b>\n",
    "</span>"
   ]
  },
  {
   "cell_type": "code",
   "execution_count": 7,
   "metadata": {},
   "outputs": [
    {
     "name": "stdout",
     "output_type": "stream",
     "text": [
      "<class 'pandas.core.frame.DataFrame'>\n",
      "RangeIndex: 159 entries, 0 to 158\n",
      "Data columns (total 6 columns):\n",
      " #   Column   Non-Null Count  Dtype  \n",
      "---  ------   --------------  -----  \n",
      " 0   Cost     159 non-null    float64\n",
      " 1   Weight   159 non-null    object \n",
      " 2   Weight1  159 non-null    float64\n",
      " 3   Length   159 non-null    object \n",
      " 4   Height   158 non-null    float64\n",
      " 5   Width    158 non-null    object \n",
      "dtypes: float64(3), object(3)\n",
      "memory usage: 7.6+ KB\n"
     ]
    }
   ],
   "source": [
    "data.info()"
   ]
  },
  {
   "cell_type": "markdown",
   "metadata": {},
   "source": [
    "<span style='color:Black'>\n",
    "<b>\n",
    "The above information shows that 3 of the features are float64 type and 3 are object type which is not correct in this case\n",
    "We need to convert the 3 object types also as float64 since they are all numerical values and in order to use them in plots and computations\n",
    "</b>\n",
    "</span>\n"
   ]
  },
  {
   "cell_type": "markdown",
   "metadata": {},
   "source": [
    "<b>\n",
    "\n",
    "Converting the datatype of object to numerical => float64\n",
    "</b>"
   ]
  },
  {
   "cell_type": "code",
   "execution_count": 8,
   "metadata": {},
   "outputs": [],
   "source": [
    "data['Width']=pd.to_numeric(data['Width'],errors='coerce')\n",
    "data['Weight']=pd.to_numeric(data['Weight'],errors='coerce')\n",
    "data['Length']=pd.to_numeric(data['Length'],errors='coerce')"
   ]
  },
  {
   "cell_type": "markdown",
   "metadata": {},
   "source": [
    "<span style='color:Black'>\n",
    "<b>\n",
    "Let's cross-check the data types of each column\n",
    "</b>\n",
    "</span>"
   ]
  },
  {
   "cell_type": "code",
   "execution_count": 9,
   "metadata": {},
   "outputs": [
    {
     "name": "stdout",
     "output_type": "stream",
     "text": [
      "<class 'pandas.core.frame.DataFrame'>\n",
      "RangeIndex: 159 entries, 0 to 158\n",
      "Data columns (total 6 columns):\n",
      " #   Column   Non-Null Count  Dtype  \n",
      "---  ------   --------------  -----  \n",
      " 0   Cost     159 non-null    float64\n",
      " 1   Weight   157 non-null    float64\n",
      " 2   Weight1  159 non-null    float64\n",
      " 3   Length   158 non-null    float64\n",
      " 4   Height   158 non-null    float64\n",
      " 5   Width    157 non-null    float64\n",
      "dtypes: float64(6)\n",
      "memory usage: 7.6 KB\n"
     ]
    }
   ],
   "source": [
    "data.info()"
   ]
  },
  {
   "cell_type": "markdown",
   "metadata": {},
   "source": [
    "<span style='color:Black'>\n",
    "<b>\n",
    "Now, we have all the numerical columns are converted to float and there are also no nulls in the data\n",
    "</b>\n",
    "</span>\n",
    "\n"
   ]
  },
  {
   "cell_type": "markdown",
   "metadata": {},
   "source": [
    "# Dealing with Missing Values\n",
    "\n",
    "<span style='color:Black'>\n",
    "<b>\n",
    "    \n",
    "Replacing null values with expected values (Mean)\n",
    "</b>\n",
    "</span>\n"
   ]
  },
  {
   "cell_type": "code",
   "execution_count": 10,
   "metadata": {},
   "outputs": [
    {
     "data": {
      "text/plain": [
       "Cost       0\n",
       "Weight     2\n",
       "Weight1    0\n",
       "Length     1\n",
       "Height     1\n",
       "Width      2\n",
       "dtype: int64"
      ]
     },
     "execution_count": 10,
     "metadata": {},
     "output_type": "execute_result"
    }
   ],
   "source": [
    "#Check for null values\n",
    "data.isnull().sum()"
   ]
  },
  {
   "cell_type": "markdown",
   "metadata": {},
   "source": [
    "<span style='color:Black'>\n",
    "<b>\n",
    "<i>\n",
    "We can see that there are few null values in the data in 4 columns\n",
    "I am going to replace the null values with mean of that particular column\n",
    "Outliers could impact the mean, however, we are going to treat the outliers later in this section\n",
    "</i>\n",
    "</b>\n",
    "</span>\n"
   ]
  },
  {
   "cell_type": "code",
   "execution_count": 11,
   "metadata": {},
   "outputs": [
    {
     "data": {
      "text/plain": [
       "Cost       0\n",
       "Weight     0\n",
       "Weight1    0\n",
       "Length     0\n",
       "Height     0\n",
       "Width      0\n",
       "dtype: int64"
      ]
     },
     "execution_count": 11,
     "metadata": {},
     "output_type": "execute_result"
    }
   ],
   "source": [
    "data=data.fillna(data.mean())\n",
    "data.isnull().sum()"
   ]
  },
  {
   "cell_type": "markdown",
   "metadata": {},
   "source": [
    "<span style='color:Black'>\n",
    "<b>\n",
    "<i>\n",
    "Dropping the records which has Cost value as '0' since it is not a valid entry\n",
    "</i>\n",
    "</b>\n",
    "</span>"
   ]
  },
  {
   "cell_type": "code",
   "execution_count": 12,
   "metadata": {},
   "outputs": [
    {
     "data": {
      "text/plain": [
       "(158, 6)"
      ]
     },
     "execution_count": 12,
     "metadata": {},
     "output_type": "execute_result"
    }
   ],
   "source": [
    "data=data.loc[data['Cost'] != 0]\n",
    "data.shape"
   ]
  },
  {
   "cell_type": "markdown",
   "metadata": {},
   "source": [
    "<span style='color:Black'>\n",
    "<b>\n",
    "<i>\n",
    "Checking for duplicate values, there are no duplicates in our dataset\n",
    "</i>\n",
    "</b>\n",
    "</span>"
   ]
  },
  {
   "cell_type": "code",
   "execution_count": 13,
   "metadata": {},
   "outputs": [
    {
     "data": {
      "text/plain": [
       "0"
      ]
     },
     "execution_count": 13,
     "metadata": {},
     "output_type": "execute_result"
    }
   ],
   "source": [
    "dv = data.duplicated()\n",
    "dv.sum()"
   ]
  },
  {
   "cell_type": "markdown",
   "metadata": {},
   "source": [
    "# Exploring the data\n",
    "\n",
    "<span style='color:Black'>\n",
    "<b>\n",
    "\n",
    "Take a look at basic statistics of the numerical features:\n",
    "</b>\n",
    "</span>"
   ]
  },
  {
   "cell_type": "code",
   "execution_count": 14,
   "metadata": {},
   "outputs": [
    {
     "data": {
      "text/html": [
       "<div>\n",
       "<style scoped>\n",
       "    .dataframe tbody tr th:only-of-type {\n",
       "        vertical-align: middle;\n",
       "    }\n",
       "\n",
       "    .dataframe tbody tr th {\n",
       "        vertical-align: top;\n",
       "    }\n",
       "\n",
       "    .dataframe thead th {\n",
       "        text-align: right;\n",
       "    }\n",
       "</style>\n",
       "<table border=\"1\" class=\"dataframe\">\n",
       "  <thead>\n",
       "    <tr style=\"text-align: right;\">\n",
       "      <th></th>\n",
       "      <th>Cost</th>\n",
       "      <th>Weight</th>\n",
       "      <th>Weight1</th>\n",
       "      <th>Length</th>\n",
       "      <th>Height</th>\n",
       "      <th>Width</th>\n",
       "    </tr>\n",
       "  </thead>\n",
       "  <tbody>\n",
       "    <tr>\n",
       "      <th>count</th>\n",
       "      <td>158.000000</td>\n",
       "      <td>158.000000</td>\n",
       "      <td>158.000000</td>\n",
       "      <td>158.000000</td>\n",
       "      <td>158.000000</td>\n",
       "      <td>158.000000</td>\n",
       "    </tr>\n",
       "    <tr>\n",
       "      <th>mean</th>\n",
       "      <td>400.847468</td>\n",
       "      <td>26.305821</td>\n",
       "      <td>28.465823</td>\n",
       "      <td>31.292653</td>\n",
       "      <td>8.948681</td>\n",
       "      <td>3850.244799</td>\n",
       "    </tr>\n",
       "    <tr>\n",
       "      <th>std</th>\n",
       "      <td>357.697796</td>\n",
       "      <td>10.004005</td>\n",
       "      <td>10.731707</td>\n",
       "      <td>11.626525</td>\n",
       "      <td>4.268535</td>\n",
       "      <td>47731.135799</td>\n",
       "    </tr>\n",
       "    <tr>\n",
       "      <th>min</th>\n",
       "      <td>5.900000</td>\n",
       "      <td>7.500000</td>\n",
       "      <td>8.400000</td>\n",
       "      <td>8.800000</td>\n",
       "      <td>1.728400</td>\n",
       "      <td>1.047600</td>\n",
       "    </tr>\n",
       "    <tr>\n",
       "      <th>25%</th>\n",
       "      <td>121.250000</td>\n",
       "      <td>19.150000</td>\n",
       "      <td>21.000000</td>\n",
       "      <td>23.200000</td>\n",
       "      <td>5.940600</td>\n",
       "      <td>3.408225</td>\n",
       "    </tr>\n",
       "    <tr>\n",
       "      <th>50%</th>\n",
       "      <td>281.500000</td>\n",
       "      <td>25.400000</td>\n",
       "      <td>27.400000</td>\n",
       "      <td>30.050000</td>\n",
       "      <td>7.789000</td>\n",
       "      <td>4.314050</td>\n",
       "    </tr>\n",
       "    <tr>\n",
       "      <th>75%</th>\n",
       "      <td>650.000000</td>\n",
       "      <td>32.700000</td>\n",
       "      <td>35.750000</td>\n",
       "      <td>39.675000</td>\n",
       "      <td>12.248700</td>\n",
       "      <td>5.820525</td>\n",
       "    </tr>\n",
       "    <tr>\n",
       "      <th>max</th>\n",
       "      <td>1650.000000</td>\n",
       "      <td>59.000000</td>\n",
       "      <td>63.400000</td>\n",
       "      <td>68.000000</td>\n",
       "      <td>18.957000</td>\n",
       "      <td>600000.000000</td>\n",
       "    </tr>\n",
       "  </tbody>\n",
       "</table>\n",
       "</div>"
      ],
      "text/plain": [
       "              Cost      Weight     Weight1      Length      Height  \\\n",
       "count   158.000000  158.000000  158.000000  158.000000  158.000000   \n",
       "mean    400.847468   26.305821   28.465823   31.292653    8.948681   \n",
       "std     357.697796   10.004005   10.731707   11.626525    4.268535   \n",
       "min       5.900000    7.500000    8.400000    8.800000    1.728400   \n",
       "25%     121.250000   19.150000   21.000000   23.200000    5.940600   \n",
       "50%     281.500000   25.400000   27.400000   30.050000    7.789000   \n",
       "75%     650.000000   32.700000   35.750000   39.675000   12.248700   \n",
       "max    1650.000000   59.000000   63.400000   68.000000   18.957000   \n",
       "\n",
       "               Width  \n",
       "count     158.000000  \n",
       "mean     3850.244799  \n",
       "std     47731.135799  \n",
       "min         1.047600  \n",
       "25%         3.408225  \n",
       "50%         4.314050  \n",
       "75%         5.820525  \n",
       "max    600000.000000  "
      ]
     },
     "execution_count": 14,
     "metadata": {},
     "output_type": "execute_result"
    }
   ],
   "source": [
    "data.describe()"
   ]
  },
  {
   "cell_type": "markdown",
   "metadata": {},
   "source": [
    "# Plotting Data"
   ]
  },
  {
   "cell_type": "markdown",
   "metadata": {},
   "source": [
    "<span style='color:Black'>\n",
    "<b>\n",
    "\n",
    "Histogram Plot to check the distribution/skewness of the data\n",
    "</b>\n",
    "</span>"
   ]
  },
  {
   "cell_type": "code",
   "execution_count": 15,
   "metadata": {},
   "outputs": [
    {
     "data": {
      "text/plain": [
       "[Text(0.5, 1.0, 'histogram of Width')]"
      ]
     },
     "execution_count": 15,
     "metadata": {},
     "output_type": "execute_result"
    },
    {
     "data": {
      "image/png": "[encoded data removed]",
      "text/plain": [
       "<Figure size 1296x720 with 6 Axes>"
      ]
     },
     "metadata": {
      "needs_background": "light"
     },
     "output_type": "display_data"
    }
   ],
   "source": [
    "fig, axes = plt.subplots(2, 3, figsize=(18, 10))\n",
    "fig.suptitle('Sub plots for performance columns using histograms')\n",
    "sns.histplot(ax=axes[0, 0],data=data,x='Cost',bins=50).set(title=\"histogram of Cost\")\n",
    "sns.histplot(ax=axes[0, 1],data=data,x='Weight',bins=50).set(title=\"histogram of Weight\")\n",
    "sns.histplot(ax=axes[0, 2],data=data,x='Weight1',bins=50).set(title=\"histogram of Weight1\")\n",
    "sns.histplot(ax=axes[1, 0],data=data,x='Height',bins=50).set(title=\"histogram of Height\")\n",
    "sns.histplot(ax=axes[1, 1],data=data,x='Length',bins=50).set(title=\"histogram of Length\")\n",
    "sns.histplot(ax=axes[1, 2],data=data,x='Width',bins=50).set(title=\"histogram of Width\")"
   ]
  },
  {
   "cell_type": "markdown",
   "metadata": {},
   "source": [
    "<span style='color:Black'>\n",
    "<b>\n",
    "\n",
    "Relationship plots to check the relation between each feature with the dependant variable \n",
    "</b>\n",
    "</span>"
   ]
  },
  {
   "cell_type": "code",
   "execution_count": 16,
   "metadata": {},
   "outputs": [
    {
     "data": {
      "text/plain": [
       "<seaborn.axisgrid.FacetGrid at 0x2a9d0ba4760>"
      ]
     },
     "execution_count": 16,
     "metadata": {},
     "output_type": "execute_result"
    },
    {
     "data": {
      "image/png": "[encoded data removed]",
      "text/plain": [
       "<Figure size 360x360 with 1 Axes>"
      ]
     },
     "metadata": {
      "needs_background": "light"
     },
     "output_type": "display_data"
    }
   ],
   "source": [
    "sns.relplot(x=\"Weight\",y= \"Cost\",data=data)\n",
    "#Relationship plot between 'Weight' & 'Cost'"
   ]
  },
  {
   "cell_type": "code",
   "execution_count": 17,
   "metadata": {},
   "outputs": [
    {
     "data": {
      "text/plain": [
       "<seaborn.axisgrid.FacetGrid at 0x2a9d064cc70>"
      ]
     },
     "execution_count": 17,
     "metadata": {},
     "output_type": "execute_result"
    },
    {
     "data": {
      "image/png": "[encoded data removed]",
      "text/plain": [
       "<Figure size 360x360 with 1 Axes>"
      ]
     },
     "metadata": {
      "needs_background": "light"
     },
     "output_type": "display_data"
    }
   ],
   "source": [
    "sns.relplot(x=\"Length\",y= \"Cost\",data=data)\n",
    "#Relationship plot between 'Length' & 'Cost'"
   ]
  },
  {
   "cell_type": "code",
   "execution_count": 18,
   "metadata": {},
   "outputs": [
    {
     "data": {
      "text/plain": [
       "<seaborn.axisgrid.FacetGrid at 0x2a9d04d2df0>"
      ]
     },
     "execution_count": 18,
     "metadata": {},
     "output_type": "execute_result"
    },
    {
     "data": {
      "image/png": "[encoded data removed]",
      "text/plain": [
       "<Figure size 360x360 with 1 Axes>"
      ]
     },
     "metadata": {
      "needs_background": "light"
     },
     "output_type": "display_data"
    }
   ],
   "source": [
    "sns.relplot(x=\"Height\",y= \"Cost\",data=data)\n",
    "#Relationship plot between 'Height' & 'Cost'"
   ]
  },
  {
   "cell_type": "code",
   "execution_count": 19,
   "metadata": {},
   "outputs": [
    {
     "data": {
      "text/plain": [
       "<seaborn.axisgrid.FacetGrid at 0x2a9d06ba640>"
      ]
     },
     "execution_count": 19,
     "metadata": {},
     "output_type": "execute_result"
    },
    {
     "data": {
      "image/png": "[encoded data removed]",
      "text/plain": [
       "<Figure size 360x360 with 1 Axes>"
      ]
     },
     "metadata": {
      "needs_background": "light"
     },
     "output_type": "display_data"
    }
   ],
   "source": [
    "sns.relplot(x=\"Width\",y= \"Cost\",data=data)\n",
    "#Relationship plot between 'Width' & 'Cost'"
   ]
  },
  {
   "cell_type": "code",
   "execution_count": 20,
   "metadata": {},
   "outputs": [
    {
     "data": {
      "text/plain": [
       "<seaborn.axisgrid.FacetGrid at 0x2a9d07d5550>"
      ]
     },
     "execution_count": 20,
     "metadata": {},
     "output_type": "execute_result"
    },
    {
     "data": {
      "image/png": "[encoded data removed]",
      "text/plain": [
       "<Figure size 360x360 with 1 Axes>"
      ]
     },
     "metadata": {
      "needs_background": "light"
     },
     "output_type": "display_data"
    }
   ],
   "source": [
    "sns.relplot(x=\"Weight1\",y= \"Weight\",data=data)\n"
   ]
  },
  {
   "cell_type": "markdown",
   "metadata": {},
   "source": [
    "<span style='color:Black'>\n",
    "<b>\n",
    "<i>\n",
    "Weight & Weight1 columns seem to be very linear hence only 1 of these columns could be considered\n",
    "It would just be a duplicate to use both of these since they are both same attribute too\n",
    "Hence I am going to drop Weight1 from my dataframe going forward\n",
    "</i>\n",
    "</b>\n",
    "</span>\n"
   ]
  },
  {
   "cell_type": "markdown",
   "metadata": {},
   "source": [
    "<span style='color:Black'>\n",
    "<b>\n",
    "\n",
    "BOX PLOT FOR BETTER UNDERSTANDING OF DATA DISTRIBUTION AND OUTLIER DETECTION \n",
    "</b>\n",
    "</span>\n"
   ]
  },
  {
   "cell_type": "code",
   "execution_count": 21,
   "metadata": {},
   "outputs": [
    {
     "data": {
      "text/plain": [
       "[Text(0.5, 1.0, 'boxplot of Width')]"
      ]
     },
     "execution_count": 21,
     "metadata": {},
     "output_type": "execute_result"
    },
    {
     "data": {
      "image/png": "[encoded data removed]",
      "text/plain": [
       "<Figure size 1296x720 with 6 Axes>"
      ]
     },
     "metadata": {
      "needs_background": "light"
     },
     "output_type": "display_data"
    }
   ],
   "source": [
    "#Now lets do boxplots for all the columns for better understanding of outliers\n",
    "fig, axes = plt.subplots(2, 3, figsize=(18, 10))\n",
    "fig.suptitle('Sub plots for performance columns using boxplots')\n",
    "sns.boxplot(ax=axes[0, 0],data=data,x='Cost').set(title=\"boxplot of Cost\")\n",
    "sns.boxplot(ax=axes[0, 1],data=data,x='Weight').set(title=\"boxplot of Weight\")\n",
    "sns.boxplot(ax=axes[0, 2],data=data,x='Weight1').set(title=\"boxplot of Weight1\")\n",
    "sns.boxplot(ax=axes[1, 0],data=data,x='Height').set(title=\"boxplot of Height\")\n",
    "sns.boxplot(ax=axes[1, 1],data=data,x='Length').set(title=\"boxplot of Length\")\n",
    "sns.boxplot(ax=axes[1, 2],data=data,x='Width').set(title=\"boxplot of Width\")"
   ]
  },
  {
   "cell_type": "markdown",
   "metadata": {},
   "source": [
    "# OBSERVATIONS:\n",
    "\n",
    "\n",
    "<span style='color:Black'>\n",
    "<b>\n",
    "\n",
    "BOX PLOT FOR COST:\n",
    "</b>\n",
    "</span>\n",
    "\n",
    "The box plot for Cost shows that there are 3 outliers.\n",
    "The same can be confirmed using IQR method\n",
    "\n",
    "<span style='color:Black'>\n",
    "<b>\n",
    "\n",
    "BOX PLOT FOR WEIGHT:\n",
    "</b>\n",
    "</span>\n",
    "\n",
    "This box plot for Weight feature shows that there are 2 outliers.\n",
    "The same can be confirmed using IQR method\n",
    "\n",
    "<span style='color:Black'>\n",
    "<b>\n",
    "\n",
    "BOX PLOT FOR WEIGHT1:\n",
    "</b>\n",
    "</span>\n",
    "\n",
    "This box plot for Weight1 feature shows that there are 2 outliers.\n",
    "I am anyways going to drop this feature hence ignoring the outliers here\n",
    "\n",
    "<span style='color:Black'>\n",
    "<b>\n",
    "\n",
    "BOX PLOT FOR LENGTH:\n",
    "</b>\n",
    "</span>\n",
    "\n",
    "This box plot for Weight1 feature shows that there is 1 outlier.\n",
    "The same can be confirmed using IQR method\n",
    "\n",
    "<span style='color:Black'>\n",
    "<b>\n",
    "\n",
    "BOX PLOT FOR HEIGHT:\n",
    "</b>\n",
    "</span>\n",
    "\n",
    "The plot below seems to not have any outliers.\n",
    "\n",
    "<span style='color:Black'>\n",
    "<b>\n",
    "    \n",
    "BOX PLOT FOR WIDTH:\n",
    "</b>\n",
    "</span>\n",
    "\n",
    "When we try to esblish a relationship between two features, outliers can distort the coorelation. \n",
    "There seems to be a very large value in Width column which needs to be treated most importantly\n"
   ]
  },
  {
   "cell_type": "markdown",
   "metadata": {},
   "source": [
    "<span style='color:Black'>\n",
    "<i>\n",
    "<b>\n",
    "\n",
    "As per the above inferences, I am going to drop the Weight1 feature and taking the rest of the features into a new dataframe for future computations\n",
    "</b>\n",
    "</i>\n",
    "</span>\n"
   ]
  },
  {
   "cell_type": "code",
   "execution_count": 22,
   "metadata": {},
   "outputs": [
    {
     "data": {
      "text/html": [
       "<div>\n",
       "<style scoped>\n",
       "    .dataframe tbody tr th:only-of-type {\n",
       "        vertical-align: middle;\n",
       "    }\n",
       "\n",
       "    .dataframe tbody tr th {\n",
       "        vertical-align: top;\n",
       "    }\n",
       "\n",
       "    .dataframe thead th {\n",
       "        text-align: right;\n",
       "    }\n",
       "</style>\n",
       "<table border=\"1\" class=\"dataframe\">\n",
       "  <thead>\n",
       "    <tr style=\"text-align: right;\">\n",
       "      <th></th>\n",
       "      <th>Cost</th>\n",
       "      <th>Weight</th>\n",
       "      <th>Length</th>\n",
       "      <th>Height</th>\n",
       "      <th>Width</th>\n",
       "    </tr>\n",
       "  </thead>\n",
       "  <tbody>\n",
       "    <tr>\n",
       "      <th>0</th>\n",
       "      <td>242.0</td>\n",
       "      <td>23.2</td>\n",
       "      <td>30.0</td>\n",
       "      <td>11.5200</td>\n",
       "      <td>4.0200</td>\n",
       "    </tr>\n",
       "    <tr>\n",
       "      <th>1</th>\n",
       "      <td>290.0</td>\n",
       "      <td>24.0</td>\n",
       "      <td>31.2</td>\n",
       "      <td>12.4800</td>\n",
       "      <td>4.3056</td>\n",
       "    </tr>\n",
       "    <tr>\n",
       "      <th>2</th>\n",
       "      <td>340.0</td>\n",
       "      <td>23.9</td>\n",
       "      <td>31.1</td>\n",
       "      <td>12.3778</td>\n",
       "      <td>4.6961</td>\n",
       "    </tr>\n",
       "    <tr>\n",
       "      <th>3</th>\n",
       "      <td>363.0</td>\n",
       "      <td>26.3</td>\n",
       "      <td>33.5</td>\n",
       "      <td>12.7300</td>\n",
       "      <td>4.4555</td>\n",
       "    </tr>\n",
       "    <tr>\n",
       "      <th>4</th>\n",
       "      <td>430.0</td>\n",
       "      <td>26.5</td>\n",
       "      <td>34.0</td>\n",
       "      <td>12.4440</td>\n",
       "      <td>5.1340</td>\n",
       "    </tr>\n",
       "  </tbody>\n",
       "</table>\n",
       "</div>"
      ],
      "text/plain": [
       "    Cost  Weight  Length   Height   Width\n",
       "0  242.0    23.2    30.0  11.5200  4.0200\n",
       "1  290.0    24.0    31.2  12.4800  4.3056\n",
       "2  340.0    23.9    31.1  12.3778  4.6961\n",
       "3  363.0    26.3    33.5  12.7300  4.4555\n",
       "4  430.0    26.5    34.0  12.4440  5.1340"
      ]
     },
     "execution_count": 22,
     "metadata": {},
     "output_type": "execute_result"
    }
   ],
   "source": [
    "datanew=data[['Cost','Weight','Length','Height','Width']]\n",
    "datanew.head()"
   ]
  },
  {
   "cell_type": "markdown",
   "metadata": {},
   "source": [
    "<span style='color:Black'>\n",
    "<b>\n",
    "\n",
    "HEAT MAP to check the correlation between the features\n",
    "</b>\n",
    "</span>\n"
   ]
  },
  {
   "cell_type": "code",
   "execution_count": 23,
   "metadata": {},
   "outputs": [
    {
     "data": {
      "text/plain": [
       "<AxesSubplot:>"
      ]
     },
     "execution_count": 23,
     "metadata": {},
     "output_type": "execute_result"
    },
    {
     "data": {
      "image/png": "[encoded data removed]",
      "text/plain": [
       "<Figure size 432x288 with 2 Axes>"
      ]
     },
     "metadata": {
      "needs_background": "light"
     },
     "output_type": "display_data"
    }
   ],
   "source": [
    "correlation = datanew.corr()\n",
    "sns.heatmap(correlation,xticklabels=correlation.columns, yticklabels=correlation.columns,annot=True)"
   ]
  },
  {
   "cell_type": "markdown",
   "metadata": {},
   "source": [
    "<span style='color:Black'>\n",
    "<i>\n",
    "<b>\n",
    "\n",
    "This map shows that the Width feature doesnt have good correlation with Cost \n",
    "However, there is an outlier in Width which might have impacted this. Let's first treat the outliers to confirm this\n",
    "</b>\n",
    "</i>\n",
    "</span>\n"
   ]
  },
  {
   "cell_type": "markdown",
   "metadata": {},
   "source": [
    "# DETECTING OUTLIERS AND TREATING THEM USING IQR METHOD"
   ]
  },
  {
   "cell_type": "code",
   "execution_count": 24,
   "metadata": {},
   "outputs": [
    {
     "name": "stdout",
     "output_type": "stream",
     "text": [
      "Q1 25 percentile of the given data is,  122.5\n",
      "Q3 75 percentile of the given data is,  650.0\n",
      "Interquartile range is 527.5\n",
      "low_limit is -668.75\n",
      "up_limit is 1441.25\n",
      "outlier in the Cost feature is [1600.0, 1550.0, 1650.0]\n",
      "median,mean 281.5 400.84746835443036\n"
     ]
    }
   ],
   "source": [
    "#Finding IQR in 'Cost' to identify Outliers\n",
    "Q1 = np.percentile(datanew.Cost, 25, interpolation = 'midpoint') \n",
    "Q3 = np.percentile(datanew.Cost, 75, interpolation = 'midpoint') \n",
    "  \n",
    "print('Q1 25 percentile of the given data is, ', Q1)\n",
    "print('Q3 75 percentile of the given data is, ', Q3)\n",
    "  \n",
    "IQR = Q3 - Q1 \n",
    "print('Interquartile range is', IQR)\n",
    "\n",
    "#Another way to find IQR\n",
    "#IQR = stats.iqr(datanew.Length, interpolation = 'midpoint')\n",
    "\n",
    "low_lim = Q1 - 1.5 * IQR\n",
    "up_lim = Q3 + 1.5 * IQR\n",
    "print('low_limit is', low_lim)\n",
    "print('up_limit is', up_lim)\n",
    "\n",
    "#Finding Outliers of Cost variable\n",
    "outlier =[]\n",
    "for x in datanew['Cost']:\n",
    "    if ((x > up_lim) or (x < low_lim)):\n",
    "         outlier.append(x)\n",
    "print('outlier in the Cost feature is', outlier)\n",
    "\n",
    "#Calculating mean & median to check if the outliers can be replaced by one of them\n",
    "median = float(datanew['Cost'].median())\n",
    "mean = float(datanew['Cost'].mean())\n",
    "print ('median,mean',median,mean)\n",
    "\n",
    "#Instead of dropping the outliers, I am replacing with the upper_limit value\n",
    "#Because in Cost column, the 3 outliers are present in the upper boundary and are almost closer to upper limit\n",
    "datanew[\"Cost\"] = np.where(datanew[\"Cost\"] >up_lim, up_lim,datanew['Cost'])\n",
    "datanew[\"Cost\"] = np.where(datanew[\"Cost\"] <low_lim, low_lim,datanew['Cost'])\n",
    "\n",
    "# We can drop the outliers with below code but I am not going to drop them since we have small data\n",
    "#index = datanew[(datanew['Cost'] > up_lim) ].index\n",
    "#datanew.drop(index, inplace=True)\n",
    "\n",
    "#index = datanew[(datanew['Cost'] < low_lim) ].index\n",
    "#datanew.drop(index, inplace=True)"
   ]
  },
  {
   "cell_type": "code",
   "execution_count": 25,
   "metadata": {},
   "outputs": [
    {
     "name": "stdout",
     "output_type": "stream",
     "text": [
      "Q1 25 percentile of the given data is,  19.200000000000003\n",
      "Q1 75 percentile of the given data is,  32.7\n",
      "Interquartile range is 13.5\n",
      "low_limit is -1.0499999999999972\n",
      "up_limit is 52.95\n",
      " outlier in the dataset is [56.0, 56.0, 59.0]\n",
      " median,mean 25.4 26.305821172297023\n"
     ]
    }
   ],
   "source": [
    "#Finding IQR in 'Weight' to identify Outliers\n",
    "Q1 = np.percentile(datanew.Weight, 25, interpolation = 'midpoint') \n",
    "Q3 = np.percentile(datanew.Weight, 75, interpolation = 'midpoint') \n",
    "  \n",
    "print('Q1 25 percentile of the given data is, ', Q1)\n",
    "print('Q1 75 percentile of the given data is, ', Q3)\n",
    "  \n",
    "IQR = Q3 - Q1 \n",
    "print('Interquartile range is', IQR)\n",
    "\n",
    "low_lim = Q1 - 1.5 * IQR\n",
    "up_lim = Q3 + 1.5 * IQR\n",
    "print('low_limit is', low_lim)\n",
    "print('up_limit is', up_lim)\n",
    "\n",
    "#Finding Outliers of Weight variable\n",
    "outlier =[]\n",
    "for x in datanew['Weight']:\n",
    "    if ((x > up_lim) or (x < low_lim)):\n",
    "         outlier.append(x)\n",
    "print(' outlier in the dataset is', outlier)\n",
    "\n",
    "#Calculating mean & median to check if the outliers can be replaced by one of them\n",
    "median = float(datanew['Weight'].median())\n",
    "mean = float(datanew['Weight'].mean())\n",
    "print(' median,mean', median, mean)\n",
    "\n",
    "#Instead of dropping the outliers, I am replacing with the upper_limit value\n",
    "#Because in Weight column, the 3 outliers are present in the upper boundary and are almost closer to upper limit\n",
    "datanew[\"Weight\"] = np.where(datanew[\"Weight\"] >up_lim, median,datanew['Weight'])\n",
    "datanew[\"Weight\"] = np.where(datanew[\"Weight\"] <low_lim, median,datanew['Weight'])"
   ]
  },
  {
   "cell_type": "code",
   "execution_count": 26,
   "metadata": {},
   "outputs": [
    {
     "name": "stdout",
     "output_type": "stream",
     "text": [
      "Q1 25 percentile of the given data is,  23.2\n",
      "Q1 75 percentile of the given data is,  39.650000000000006\n",
      "Interquartile range is 16.450000000000006\n",
      "low_limit is -1.475000000000012\n",
      "up_limit is 64.32500000000002\n",
      " outlier in the dataset is [68.0]\n",
      "median,mean 30.05 31.29265342092615\n"
     ]
    }
   ],
   "source": [
    "#Finding IQR in 'Length' to identify Outliers\n",
    "Q1 = np.percentile(datanew.Length, 25, interpolation = 'midpoint') \n",
    "Q3 = np.percentile(datanew.Length, 75, interpolation = 'midpoint') \n",
    "  \n",
    "print('Q1 25 percentile of the given data is, ', Q1)\n",
    "print('Q1 75 percentile of the given data is, ', Q3)\n",
    "  \n",
    "IQR = Q3 - Q1 \n",
    "print('Interquartile range is', IQR)\n",
    "\n",
    "low_lim = Q1 - 1.5 * IQR\n",
    "up_lim = Q3 + 1.5 * IQR\n",
    "print('low_limit is', low_lim)\n",
    "print('up_limit is', up_lim)\n",
    "\n",
    "#Finding Outliers of Width variable\n",
    "outlier =[]\n",
    "for x in datanew['Length']:\n",
    "    if ((x > up_lim) or (x < low_lim)):\n",
    "         outlier.append(x)\n",
    "print(' outlier in the dataset is', outlier)\n",
    "\n",
    "#Calculating mean & median to check if the outliers can be replaced by one of them\n",
    "median = float(datanew['Length'].median())\n",
    "mean = float(datanew['Length'].mean())\n",
    "print('median,mean',median,mean)\n",
    "\n",
    "#Instead of dropping the outliers, I am replacing with the upper_limit value\n",
    "#Because in Length column, the outlier is present in the upper boundary and are almost closer to upper limit\n",
    "datanew[\"Length\"] = np.where(datanew[\"Length\"] >up_lim, up_lim,datanew['Length'])\n",
    "datanew[\"Length\"] = np.where(datanew[\"Length\"] <low_lim, low_lim,datanew['Length'])"
   ]
  },
  {
   "cell_type": "code",
   "execution_count": 27,
   "metadata": {},
   "outputs": [
    {
     "name": "stdout",
     "output_type": "stream",
     "text": [
      "Q1 25 percentile of the given data is,  3.40895\n",
      "Q1 75 percentile of the given data is,  5.78955\n",
      "Interquartile range is 2.3806000000000003\n",
      "low_limit is -0.16195000000000048\n",
      "up_limit is 9.36045\n",
      " outlier in the dataset is [3826.050501910828, 600000.0, 3826.050501910828]\n",
      "median,mean 4.31405 3850.244798758365\n"
     ]
    }
   ],
   "source": [
    "#Finding IQR in 'Width' to identify Outliers\n",
    "Q1 = np.percentile(datanew.Width, 25, interpolation = 'midpoint') \n",
    "Q3 = np.percentile(datanew.Width, 75, interpolation = 'midpoint') \n",
    "  \n",
    "print('Q1 25 percentile of the given data is, ', Q1)\n",
    "print('Q1 75 percentile of the given data is, ', Q3)\n",
    "  \n",
    "IQR = Q3 - Q1 \n",
    "print('Interquartile range is', IQR)\n",
    "\n",
    "\n",
    "#Another way to find IQR\n",
    "#IQR = stats.iqr(datanew.Width, interpolation = 'midpoint')\n",
    "\n",
    "low_lim = Q1 - 1.5 * IQR\n",
    "up_lim = Q3 + 1.5 * IQR\n",
    "print('low_limit is', low_lim)\n",
    "print('up_limit is', up_lim)\n",
    "\n",
    "#Finding Outliers of Width variable\n",
    "outlier =[]\n",
    "for x in datanew['Width']:\n",
    "    if ((x > up_lim) or (x < low_lim)):\n",
    "         outlier.append(x)\n",
    "print(' outlier in the dataset is', outlier)\n",
    "\n",
    "#Calculating mean & median to check if the outliers can be replaced by one of them\n",
    "median = float(datanew['Width'].median())\n",
    "mean = float(datanew['Width'].mean())\n",
    "\n",
    "print('median,mean',median,mean)\n",
    "\n",
    "#Instead of dropping the outliers, I am replacing with the upper_limit value\n",
    "#Because in Width column, the outliers are present in the upper boundary and are the biggest outliers \n",
    "datanew[\"Width\"] = np.where(datanew[\"Width\"] >up_lim, up_lim,datanew['Width'])\n",
    "datanew[\"Width\"] = np.where(datanew[\"Width\"] <low_lim, low_lim,datanew['Width'])"
   ]
  },
  {
   "cell_type": "code",
   "execution_count": 28,
   "metadata": {},
   "outputs": [],
   "source": [
    "#sns.pairplot(datanew, x_vars=['Weight','Weight','Length','Height','Width'], y_vars='Cost', height=7, aspect=0.7, kind='reg')"
   ]
  },
  {
   "cell_type": "markdown",
   "metadata": {},
   "source": [
    "### CHECK BOX PLOT ONCE AGAIN TO RE-CONFIRM THE OUTLIERS "
   ]
  },
  {
   "cell_type": "code",
   "execution_count": 29,
   "metadata": {},
   "outputs": [
    {
     "data": {
      "text/plain": [
       "<AxesSubplot:xlabel='variable', ylabel='value'>"
      ]
     },
     "execution_count": 29,
     "metadata": {},
     "output_type": "execute_result"
    },
    {
     "data": {
      "image/png": "[encoded data removed]",
      "text/plain": [
       "<Figure size 432x288 with 1 Axes>"
      ]
     },
     "metadata": {
      "needs_background": "light"
     },
     "output_type": "display_data"
    }
   ],
   "source": [
    "df_bag_boxplot = pd.DataFrame(data=datanew, columns=[\"Weight\",\"Length\",\"Height\",\"Width\"])\n",
    "sns.boxplot(x=\"variable\", y=\"value\",data=pd.melt(df_bag_boxplot))"
   ]
  },
  {
   "cell_type": "code",
   "execution_count": 30,
   "metadata": {},
   "outputs": [
    {
     "data": {
      "image/png": "[encoded data removed]",
      "text/plain": [
       "<Figure size 432x288 with 1 Axes>"
      ]
     },
     "metadata": {
      "needs_background": "light"
     },
     "output_type": "display_data"
    }
   ],
   "source": [
    "plt.boxplot(datanew[\"Cost\"])\n",
    "plt.show()"
   ]
  },
  {
   "cell_type": "markdown",
   "metadata": {},
   "source": [
    "<b>\n",
    "<i>\n",
    "There is still an outlier in Weight feature however it is very close to the upper limit hence I am ignoring it\n",
    "</i>\n",
    "</b>"
   ]
  },
  {
   "cell_type": "code",
   "execution_count": 31,
   "metadata": {},
   "outputs": [
    {
     "data": {
      "text/plain": [
       "<AxesSubplot:>"
      ]
     },
     "execution_count": 31,
     "metadata": {},
     "output_type": "execute_result"
    },
    {
     "data": {
      "image/png": "[encoded data removed]",
      "text/plain": [
       "<Figure size 432x288 with 2 Axes>"
      ]
     },
     "metadata": {
      "needs_background": "light"
     },
     "output_type": "display_data"
    }
   ],
   "source": [
    "#Before dropping, let's get some more confirmation by checking heatmap & boxplots\n",
    "correlation = datanew.corr()\n",
    "sns.heatmap(correlation,xticklabels=correlation.columns, yticklabels=correlation.columns,annot=True)"
   ]
  },
  {
   "cell_type": "markdown",
   "metadata": {},
   "source": [
    "<span style='color:Black'>\n",
    "<b>\n",
    "<i>\n",
    "Now, Width feature seems to have correlation with Cost so can be used for our modeling.\n",
    "</i>\n",
    "</b>\n",
    "</span>\n"
   ]
  },
  {
   "cell_type": "markdown",
   "metadata": {},
   "source": [
    "# SPLITTING DATA AND SCALING DATA FOR NORMALIZATION"
   ]
  },
  {
   "cell_type": "markdown",
   "metadata": {},
   "source": [
    "<span style='color:Black'>\n",
    "<b>\n",
    "Now lets start to prepare our data for Modeling. \n",
    "    \n",
    "\n",
    "For this I am going to split the data into 80:20 for traindata:testdata \n",
    "                (tried with 70:30 & 60:40 but 80:20 lead to better results with my data)\n",
    "    \n",
    "Before splitting I am going to scale the data using StandardScaler\n",
    "    \n",
    "StandardScaler follows Standard Normal Distribution. Therefore, it makes mean = 0 and scales the data to unit variance.\n",
    "</b>\n",
    "</span>\n"
   ]
  },
  {
   "cell_type": "code",
   "execution_count": 37,
   "metadata": {},
   "outputs": [],
   "source": [
    "scaler = StandardScaler()\n",
    "\n",
    "datanew  = pd.DataFrame(scaler.fit_transform(datanew),columns = datanew.columns)\n",
    "\n",
    "X = datanew.drop('Cost', axis=1)\n",
    "y = datanew[[\"Cost\"]]\n",
    "\n",
    "#X = pd.DataFrame(scaler.fit_transform(X),columns = X.columns)\n",
    "\n",
    "X_train, X_test, y_train, y_test = train_test_split(X, y, test_size=0.20, random_state=42)\n"
   ]
  },
  {
   "cell_type": "markdown",
   "metadata": {},
   "source": [
    "<b>\n",
    "<i>\n",
    "I tried to use MinMaxScaler but the models seem to be better with StandardScaler hence discontinued MinMaxScaler\n",
    "    </i>\n",
    "</b>"
   ]
  },
  {
   "cell_type": "code",
   "execution_count": 38,
   "metadata": {},
   "outputs": [],
   "source": [
    "# from sklearn.preprocessing import MinMaxScaler\n",
    "# scaler = MinMaxScaler()\n",
    "\n",
    "# datanew  = pd.DataFrame(scaler.fit_transform(datanew),columns = datanew.columns)\n",
    "\n",
    "# X = datanew.drop('Cost', axis=1)\n",
    "# y = datanew[[\"Cost\"]]\n",
    "\n",
    "# X_train, X_test, y_train, y_test = train_test_split(X, y, test_size=0.20, random_state=42)\n"
   ]
  },
  {
   "cell_type": "markdown",
   "metadata": {},
   "source": [
    "# OLS METHOD\n",
    "\n",
    "<b>\n",
    "\n",
    "Adding Constant to my X in order to get intercept\n",
    "</b>"
   ]
  },
  {
   "cell_type": "code",
   "execution_count": 39,
   "metadata": {},
   "outputs": [
    {
     "name": "stdout",
     "output_type": "stream",
     "text": [
      "model summary:                             OLS Regression Results                            \n",
      "==============================================================================\n",
      "Dep. Variable:                   Cost   R-squared:                       0.892\n",
      "Model:                            OLS   Adj. R-squared:                  0.888\n",
      "Method:                 Least Squares   F-statistic:                     249.0\n",
      "Date:                Sun, 30 May 2021   Prob (F-statistic):           2.20e-57\n",
      "Time:                        12:00:22   Log-Likelihood:                -36.473\n",
      "No. Observations:                 126   AIC:                             82.95\n",
      "Df Residuals:                     121   BIC:                             97.13\n",
      "Df Model:                           4                                         \n",
      "Covariance Type:            nonrobust                                         \n",
      "==============================================================================\n",
      "                 coef    std err          t      P>|t|      [0.025      0.975]\n",
      "------------------------------------------------------------------------------\n",
      "const         -0.0199      0.029     -0.674      0.502      -0.078       0.038\n",
      "Weight        -0.2448      0.066     -3.693      0.000      -0.376      -0.114\n",
      "Length         0.8319      0.071     11.772      0.000       0.692       0.972\n",
      "Height         0.1156      0.047      2.469      0.015       0.023       0.208\n",
      "Width          0.2644      0.051      5.163      0.000       0.163       0.366\n",
      "==============================================================================\n",
      "Omnibus:                        4.266   Durbin-Watson:                   2.236\n",
      "Prob(Omnibus):                  0.118   Jarque-Bera (JB):                3.951\n",
      "Skew:                           0.432   Prob(JB):                        0.139\n",
      "Kurtosis:                       3.079   Cond. No.                         5.37\n",
      "==============================================================================\n",
      "\n",
      "Notes:\n",
      "[1] Standard Errors assume that the covariance matrix of the errors is correctly specified.\n"
     ]
    }
   ],
   "source": [
    "import statsmodels.api as sm \n",
    "model= sm.OLS(y_train,sm.add_constant(X_train)).fit()          #fitting the model\n",
    "print(\"model summary:\",model.summary() )"
   ]
  },
  {
   "cell_type": "markdown",
   "metadata": {},
   "source": [
    "<b>\n",
    "<i>\n",
    "The P values for all the features seem to be very less, hence this seems to be good\n",
    "</i>\n",
    "</b>"
   ]
  },
  {
   "cell_type": "code",
   "execution_count": 40,
   "metadata": {},
   "outputs": [
    {
     "name": "stdout",
     "output_type": "stream",
     "text": [
      "rmse on training dataset using statsmodel:  0.32320403397161696\n",
      "mse on training dataset using statsmodel:  0.10446084757552614\n",
      "r2 score on training data set using statsmodel:  0.8916696610200369\n"
     ]
    }
   ],
   "source": [
    "model_predict = model.predict(sm.add_constant(X_train))\n",
    "\n",
    "model_rmse = (np.sqrt(mean_squared_error(y_train, model_predict)))\n",
    "print(\"rmse on training dataset using statsmodel: \",model_rmse)\n",
    "\n",
    "model_mse = mean_squared_error(y_train, model_predict)\n",
    "print(\"mse on training dataset using statsmodel: \",model_mse)\n",
    "\n",
    "model_r2_score = r2_score(y_train, model_predict)\n",
    "print(\"r2 score on training data set using statsmodel: \",model_r2_score)"
   ]
  },
  {
   "cell_type": "markdown",
   "metadata": {},
   "source": [
    "<b>\n",
    "Testing the Model with testset and calculating the statistics\n",
    "</b>"
   ]
  },
  {
   "cell_type": "code",
   "execution_count": 41,
   "metadata": {},
   "outputs": [
    {
     "name": "stdout",
     "output_type": "stream",
     "text": [
      "rmse on test dataset using statsmodel:  0.3535780174259422\n",
      "mse on test dataset using statsmodel:  0.12501741440685987\n",
      "r2 score on test data set using statsmodel:  0.8879220397261601\n"
     ]
    }
   ],
   "source": [
    "model_predict = model.predict(sm.add_constant(X_test))\n",
    "\n",
    "model_rmse = (np.sqrt(mean_squared_error(y_test, model_predict)))\n",
    "print(\"rmse on test dataset using statsmodel: \",model_rmse)\n",
    "\n",
    "model_mse = mean_squared_error(y_test, model_predict)\n",
    "print(\"mse on test dataset using statsmodel: \",model_mse)\n",
    "\n",
    "model_r2_score = r2_score(y_test, model_predict)\n",
    "print(\"r2 score on test data set using statsmodel: \",model_r2_score)"
   ]
  },
  {
   "cell_type": "markdown",
   "metadata": {},
   "source": [
    "# LINEAR REGRESSION USING SKLEARN\n",
    "\n",
    "<b>\n",
    "    \n",
    "Fitting multiple linear regression to trainingset using Sklearn, just to cross-check the OLS method statistics\n",
    "</b>"
   ]
  },
  {
   "cell_type": "code",
   "execution_count": 42,
   "metadata": {},
   "outputs": [
    {
     "name": "stdout",
     "output_type": "stream",
     "text": [
      "Coefficients are: [[-0.24478328  0.83191319  0.11562902  0.26442902]]\n",
      "Intercept is: [-0.01985858]\n",
      "rmse:  0.32320403397161696\n",
      "mse:  0.10446084757552612\n",
      "rse:  0.3258000920131493\n",
      "r2 score of training dataset: 0.8916696610200369\n"
     ]
    }
   ],
   "source": [
    "reg = LinearRegression().fit(X_train,y_train)\n",
    "\n",
    "print(\"Coefficients are:\", reg.coef_)\n",
    "print(\"Intercept is:\", reg.intercept_)\n",
    "Coef = (reg.coef_)\n",
    "Int = (reg.intercept_)\n",
    "\n",
    "ne_rmse = math.sqrt(mean_squared_error(reg.predict(X_train),y_train))\n",
    "ne_rse = (ne_rmse**2)*X_train.shape[0]\n",
    "ne_rse/= X_train.shape[0]-2\n",
    "ne_rse = math.sqrt(ne_rse)\n",
    "ne_mse = ne_rmse**2\n",
    "print(\"rmse: \",ne_rmse)\n",
    "print(\"mse: \",ne_mse)\n",
    "print(\"rse: \",ne_rse)\n",
    "print(\"r2 score of training dataset:\" , reg.score(X_train,y_train))"
   ]
  },
  {
   "cell_type": "code",
   "execution_count": 43,
   "metadata": {},
   "outputs": [
    {
     "name": "stdout",
     "output_type": "stream",
     "text": [
      "rmse:  0.3535780174259424\n",
      "mse:  0.12501741440686004\n",
      "rse:  0.36517380615352285\n",
      "r2 score of test dataset: 0.88792203972616\n"
     ]
    }
   ],
   "source": [
    "y_pred = reg.predict(X_test)\n",
    "\n",
    "ne_rmse = math.sqrt(mean_squared_error(y_pred,y_test))\n",
    "ne_rse = (ne_rmse**2)*X_test.shape[0]\n",
    "ne_rse/= X_test.shape[0]-2\n",
    "ne_rse = math.sqrt(ne_rse)\n",
    "ne_mse = ne_rmse**2\n",
    "print(\"rmse: \",ne_rmse)\n",
    "print(\"mse: \",ne_mse)\n",
    "print(\"rse: \",ne_rse)\n",
    "print(\"r2 score of test dataset:\" , reg.score(X_test,y_test))"
   ]
  },
  {
   "cell_type": "markdown",
   "metadata": {},
   "source": [
    "<b>\n",
    "<i>\n",
    "The results of OLS Method & Linear Regression using Sklearn are matching\n",
    "</i>\n",
    "</b>"
   ]
  },
  {
   "cell_type": "markdown",
   "metadata": {},
   "source": [
    "# STOCHASTIC GRADIENT DESCENT METHOD\n",
    "\n",
    "<b>\n",
    "    \n",
    "Tried with various iterations, tolerance rate and eta values and found these to be giving better results\n",
    "</b>"
   ]
  },
  {
   "cell_type": "code",
   "execution_count": 44,
   "metadata": {},
   "outputs": [
    {
     "name": "stdout",
     "output_type": "stream",
     "text": [
      "Coefficients are: [0.18394347 0.33579118 0.18670391 0.27248671]\n",
      "Intercept is: [-0.0123551]\n",
      "rmse:  0.39287496150093953\n",
      "mse:  0.15435073537436472\n",
      "rse:  0.39603063437602126\n",
      "r2 score: 0.8399317268336142\n"
     ]
    }
   ],
   "source": [
    "sgd_reg = SGDRegressor(max_iter=1000,tol=0.0001,eta0=0.001)\n",
    "sgd_reg.fit(X_train,y_train['Cost'])\n",
    "\n",
    "print(\"Coefficients are:\", sgd_reg.coef_)\n",
    "print(\"Intercept is:\", sgd_reg.intercept_)\n",
    "\n",
    "sgd_rmse2 = math.sqrt(mean_squared_error(sgd_reg.predict(X_train),y_train))\n",
    "y_pred = sgd_reg.predict(X_train)\n",
    "sgd_rse2 = (sgd_rmse2**2)*X_train.shape[0]\n",
    "sgd_rse2/= X_train.shape[0]-2\n",
    "sgd_rse2 = math.sqrt(sgd_rse2)\n",
    "sgd_mse2 = sgd_rmse2**2\n",
    "print(\"rmse: \",sgd_rmse2)\n",
    "print(\"mse: \",sgd_mse2)\n",
    "print(\"rse: \",sgd_rse2)\n",
    "print(\"r2 score:\" , sgd_reg.score(X_train,y_train))"
   ]
  },
  {
   "cell_type": "code",
   "execution_count": 45,
   "metadata": {},
   "outputs": [
    {
     "name": "stdout",
     "output_type": "stream",
     "text": [
      "rmse:  0.3307217654368028\n",
      "mse:  0.10937688613363562\n",
      "rse:  0.3415679706040141\n",
      "r2 score: 0.9019437543391614\n"
     ]
    }
   ],
   "source": [
    "sgd_rmse2 = math.sqrt(mean_squared_error(sgd_reg.predict(X_test),y_test))\n",
    "y_pred = sgd_reg.predict(X_test)\n",
    "sgd_rse2 = (sgd_rmse2**2)*X_test.shape[0]\n",
    "sgd_rse2/= X_test.shape[0]-2\n",
    "sgd_rse2 = math.sqrt(sgd_rse2)\n",
    "sgd_mse2 = sgd_rmse2**2\n",
    "print(\"rmse: \",sgd_rmse2)\n",
    "print(\"mse: \",sgd_mse2)\n",
    "print(\"rse: \",sgd_rse2)\n",
    "print(\"r2 score:\" , sgd_reg.score(X_test,y_test))"
   ]
  },
  {
   "cell_type": "markdown",
   "metadata": {},
   "source": [
    "\n",
    "# GRADIENT DESCENT APPROACH\n",
    "\n",
    "<b>\n",
    "    \n",
    "Tried this method also with various learning rates and number of iterations and concluded on below values\n",
    "    learning_rate = 0.001\n",
    "    num_iterations = 1000\n",
    "</b>"
   ]
  },
  {
   "cell_type": "code",
   "execution_count": 46,
   "metadata": {},
   "outputs": [],
   "source": [
    "#Y=w0+w1X1+w2X2+w3x3+w4x4\n",
    "def compute_error(X0, X1, X2, X3, Y, start_vector):\n",
    "    y_pred = start_vector[0]+start_vector[1]*X0+start_vector[2]*X1+start_vector[3]*X2+start_vector[4]*X3\n",
    "    y_error = Y - y_pred\n",
    "    sse = np.sum(np.square(y_error))\n",
    "    sse1 = np.mean(sse)\n",
    "    return sse1\n",
    "\n",
    "def stepGradient(start_vector, X0, X1, X2, X3, Y, learningRate):\n",
    "    w0_gradient = 0\n",
    "    w1_gradient = 0 \n",
    "    w2_gradient = 0\n",
    "    w3_gradient = 0\n",
    "    w4_gradient = 0\n",
    "    w0_gradient1= 0\n",
    "    \n",
    "    error = compute_error(X0,X1,X2,X3, Y,start_vector)\n",
    "    \n",
    "    w0_gradient = np.mean((start_vector[0]+(start_vector[1]*X0)+(start_vector[2]*X1)+(start_vector[3]*X2))-Y)\n",
    "    w1_gradient = np.mean(((start_vector[0]+(start_vector[1]*X0)+(start_vector[2]*X1)+(start_vector[3]*X2))-Y)*X0)\n",
    "    w2_gradient = np.mean(((start_vector[0]+(start_vector[1]*X0)+(start_vector[2]*X1)+(start_vector[3]*X2))-Y)*X1)\n",
    "    w3_gradient = np.mean(((start_vector[0]+(start_vector[1]*X0)+(start_vector[2]*X1)+(start_vector[3]*X2))-Y)*X2)\n",
    "    w4_gradient = np.mean(((start_vector[0]+(start_vector[1]*X0)+(start_vector[2]*X1)+(start_vector[3]*X2))-Y)*X3)\n",
    "     \n",
    "    new_w0 = start_vector[0] - (learningRate * w0_gradient) \n",
    "    new_w1 = start_vector[1] - (learningRate * w1_gradient) \n",
    "    new_w2 = start_vector[2] - (learningRate * w2_gradient)\n",
    "    new_w3 = start_vector[3] - (learningRate * w3_gradient)\n",
    "    new_w4 = start_vector[4] - (learningRate * w4_gradient)\n",
    "    \n",
    "    return [new_w0, new_w1, new_w2, new_w3, new_w4,error]\n",
    "\n",
    "def gradient_descent(X0, X1, X2, X3, Y, start_vector, learning_rate, num_iteartions):\n",
    "\n",
    "    cost = np.empty(num_iterations, dtype=float)\n",
    "    \n",
    "    for i in range(num_iterations):\n",
    "        [w0,w1,w2,w3,w4,error] = stepGradient(start_vector, X0, X1, X2, X3, Y, learning_rate)\n",
    "        start_vector = [w0,w1,w2,w3,w4]\n",
    "        cost[i] = error\n",
    "        if (i !=0 and cost[i] > cost[i-1]):\n",
    "            j = i\n",
    "            i = num_iterations\n",
    "            break\n",
    "        print('error',cost[i])\n",
    "    return [w0,w1,w2,w3,w4,cost,j] \n",
    "\n",
    "def compute_Yhat(X0,X1,X2,X3,Y,start_vector):\n",
    "    y_pred = start_vector[0]+start_vector[1]*X0+start_vector[2]*X1+start_vector[3]*X2+start_vector[4]*X3\n",
    "    y_error = (Y - y_pred)\n",
    "    return y_pred"
   ]
  },
  {
   "cell_type": "code",
   "execution_count": 47,
   "metadata": {},
   "outputs": [
    {
     "name": "stdout",
     "output_type": "stream",
     "text": [
      "error 121.66264557067119\n",
      "error 121.03752602247097\n",
      "error 120.41576271432648\n",
      "error 119.79733908526735\n",
      "error 119.18223865378968\n",
      "error 118.57044501747923\n",
      "error 117.96194185263613\n",
      "error 117.35671291390142\n",
      "error 116.75474203388539\n",
      "error 116.15601312279775\n",
      "error 115.56051016807932\n",
      "error 114.96821723403576\n",
      "error 114.37911846147273\n",
      "error 113.79319806733295\n",
      "error 113.21044034433505\n",
      "error 112.63082966061386\n",
      "error 112.0543504593626\n",
      "error 111.4809872584768\n",
      "error 110.91072465019973\n",
      "error 110.3435473007696\n",
      "error 109.77943995006838\n",
      "error 109.21838741127247\n",
      "error 108.66037457050471\n",
      "error 108.10538638648822\n",
      "error 107.55340789020194\n",
      "error 107.00442418453747\n",
      "error 106.45842044395815\n",
      "error 105.91538191415894\n",
      "error 105.37529391172863\n",
      "error 104.83814182381326\n",
      "error 104.30391110778109\n",
      "error 103.77258729088949\n",
      "error 103.24415596995308\n",
      "error 102.71860281101355\n",
      "error 102.19591354901105\n",
      "error 101.67607398745707\n",
      "error 101.15906999810912\n",
      "error 100.64488752064642\n",
      "error 100.13351256234778\n",
      "error 99.62493119777038\n",
      "error 99.11912956843065\n",
      "error 98.61609388248606\n",
      "error 98.11581041441889\n",
      "error 97.6182655047214\n",
      "error 97.12344555958215\n",
      "error 96.6313370505743\n",
      "error 96.14192651434509\n",
      "error 95.65520055230675\n",
      "error 95.17114583032901\n",
      "error 94.68974907843301\n",
      "error 94.21099709048681\n",
      "error 93.73487672390189\n",
      "error 93.26137489933161\n",
      "error 92.79047860037079\n",
      "error 92.32217487325681\n",
      "error 91.8564508265721\n",
      "error 91.393293630948\n",
      "error 90.93269051877007\n",
      "error 90.4746287838848\n",
      "error 90.01909578130771\n",
      "error 89.56607892693265\n",
      "error 89.11556569724283\n",
      "error 88.66754362902286\n",
      "error 88.22200031907238\n",
      "error 87.77892342392096\n",
      "error 87.33830065954427\n",
      "error 86.9001198010818\n",
      "error 86.46436868255569\n",
      "error 86.03103519659103\n",
      "error 85.60010729413742\n",
      "error 85.17157298419188\n",
      "error 84.74542033352303\n",
      "error 84.32163746639658\n",
      "error 83.90021256430221\n",
      "error 83.48113386568168\n",
      "error 83.06438966565796\n",
      "error 82.64996831576623\n",
      "error 82.23785822368556\n",
      "error 81.82804785297232\n",
      "error 81.42052572279438\n",
      "error 81.01528040766705\n",
      "error 80.61230053719004\n",
      "error 80.21157479578535\n",
      "error 79.81309192243718\n",
      "error 79.41684071043223\n",
      "error 79.02281000710185\n",
      "error 78.63098871356496\n",
      "error 78.24136578447253\n",
      "error 77.85393022775308\n",
      "error 77.46867110435937\n",
      "error 77.08557752801643\n",
      "error 76.70463866497067\n",
      "error 76.32584373374013\n",
      "error 75.94918200486607\n",
      "error 75.5746428006656\n",
      "error 75.2022154949855\n",
      "error 74.83188951295735\n",
      "error 74.46365433075347\n",
      "error 74.09749947534452\n",
      "error 73.73341452425768\n",
      "error 73.37138910533648\n",
      "error 73.01141289650138\n",
      "error 72.65347562551186\n",
      "error 72.29756706972911\n",
      "error 71.9436770558804\n",
      "error 71.59179545982425\n",
      "error 71.24191220631674\n",
      "error 70.89401726877897\n",
      "error 70.54810066906559\n",
      "error 70.2041524772345\n",
      "error 69.86216281131759\n",
      "error 69.52212183709244\n",
      "error 69.18401976785536\n",
      "error 68.84784686419522\n",
      "error 68.5135934337686\n",
      "error 68.18124983107585\n",
      "error 67.8508064572382\n",
      "error 67.52225375977613\n",
      "error 67.19558223238833\n",
      "error 66.87078241473233\n",
      "error 66.54784489220577\n",
      "error 66.22676029572851\n",
      "error 65.90751930152636\n",
      "error 65.59011263091541\n",
      "error 65.27453105008748\n",
      "error 64.96076536989641\n",
      "error 64.64880644564585\n",
      "error 64.33864517687748\n",
      "error 64.03027250716063\n",
      "error 63.72367942388271\n",
      "error 63.41885695804066\n",
      "error 63.115796184033336\n",
      "error 62.81448821945517\n",
      "error 62.514924224890336\n",
      "error 62.21709540370824\n",
      "error 61.92099300185982\n",
      "error 61.62660830767498\n",
      "error 61.33393265166064\n",
      "error 61.04295740630023\n",
      "error 60.753673985853624\n",
      "error 60.466073846158395\n",
      "error 60.18014848443186\n",
      "error 59.895889439074\n",
      "error 59.6132882894715\n",
      "error 59.332336655802514\n",
      "error 59.05302619884248\n",
      "error 58.7753486197708\n",
      "error 58.49929565997848\n",
      "error 58.22485910087662\n",
      "error 57.952030763705835\n",
      "error 57.68080250934657\n",
      "error 57.411166238130434\n",
      "error 57.14311388965217\n",
      "error 56.87663744258271\n",
      "error 56.61172891448314\n",
      "error 56.34838036161932\n",
      "error 56.08658387877771\n",
      "error 55.82633159908174\n",
      "error 55.567615693809266\n",
      "error 55.31042837221081\n",
      "error 55.054761881328666\n",
      "error 54.80060850581683\n",
      "error 54.54796056776195\n",
      "error 54.29681042650476\n",
      "error 54.04715047846284\n",
      "error 53.79897315695378\n",
      "error 53.55227093201945\n",
      "error 53.30703631025095\n",
      "error 53.06326183461458\n",
      "error 52.820940084278355\n",
      "error 52.580063674439586\n",
      "error 52.34062525615316\n",
      "error 52.10261751616065\n",
      "error 51.86603317672022\n",
      "error 51.63086499543742\n",
      "error 51.39710576509662\n",
      "error 51.164748313493405\n",
      "error 50.93378550326771\n",
      "error 50.70421023173763\n",
      "error 50.476015430734215\n",
      "error 50.249194066436935\n",
      "error 50.023739139209866\n",
      "error 49.799643683438774\n",
      "error 49.57690076736894\n",
      "error 49.355503492943676\n",
      "error 49.135444995643674\n",
      "error 48.91671844432712\n",
      "error 48.69931704107049\n",
      "error 48.48323402101024\n",
      "error 48.26846265218507\n",
      "error 48.05499623537911\n",
      "error 47.842828103965644\n",
      "error 47.63195162375175\n",
      "error 47.42236019282374\n",
      "error 47.21404724139295\n",
      "error 47.00700623164271\n",
      "error 46.801230657575815\n",
      "error 46.59671404486268\n",
      "error 46.393449950690325\n",
      "error 46.19143196361205\n",
      "error 45.99065370339776\n",
      "error 45.791108820885064\n",
      "error 45.59279099783108\n",
      "error 45.39569394676481\n",
      "error 45.199811410840475\n",
      "error 45.005137163691295\n",
      "error 44.81166500928405\n",
      "error 44.61938878177436\n",
      "error 44.42830234536264\n",
      "error 44.23839959415069\n",
      "error 44.04967445199901\n",
      "error 43.86212087238478\n",
      "error 43.67573283826052\n",
      "error 43.49050436191334\n",
      "error 43.306429484825\n",
      "error 43.12350227753255\n",
      "error 42.94171683948961\n",
      "error 42.761067298928275\n",
      "error 42.581547812721865\n",
      "error 42.4031525662481\n",
      "error 42.22587577325304\n",
      "error 42.04971167571559\n",
      "error 41.87465454371277\n",
      "error 41.70069867528556\n",
      "error 41.52783839630525\n",
      "error 41.35606806034071\n",
      "error 41.18538204852603\n",
      "error 41.015774769428866\n",
      "error 40.84724065891947\n",
      "error 40.679774180040255\n",
      "error 40.5133698228761\n",
      "error 40.348022104425\n",
      "error 40.183725568469754\n",
      "error 40.02047478544983\n",
      "error 39.858264352334096\n",
      "error 39.69708889249414\n",
      "error 39.53694305557801\n",
      "error 39.377821517384774\n",
      "error 39.219718979739554\n",
      "error 39.06263017036915\n",
      "error 38.90654984277827\n",
      "error 38.751472776126434\n",
      "error 38.59739377510527\n",
      "error 38.44430766981658\n",
      "error 38.292209315650844\n",
      "error 38.14109359316643\n",
      "error 37.99095540796923\n",
      "error 37.84178969059299\n",
      "error 37.69359139638018\n",
      "error 37.54635550536331\n",
      "error 37.40007702214703\n",
      "error 37.254750975790564\n",
      "error 37.110372419690854\n",
      "error 36.966936431466166\n",
      "error 36.824438112840355\n",
      "error 36.68287258952752\n",
      "error 36.54223501111733\n",
      "error 36.40252055096087\n",
      "error 36.26372440605703\n",
      "error 36.12584179693934\n",
      "error 35.98886796756351\n",
      "error 35.85279818519533\n",
      "error 35.7176277402993\n",
      "error 35.58335194642746\n",
      "error 35.44996614010922\n",
      "error 35.31746568074122\n",
      "error 35.185845950478075\n",
      "error 35.05510235412344\n",
      "error 34.925230319021665\n",
      "error 34.796225294950005\n",
      "error 34.66808275401118\n",
      "error 34.540798190526644\n",
      "error 34.414367120930244\n",
      "error 34.28878508366237\n",
      "error 34.164047639064684\n",
      "error 34.04015036927528\n",
      "error 33.91708887812439\n",
      "error 33.794858791030556\n",
      "error 33.67345575489723\n",
      "error 33.5528754380101\n",
      "error 33.433113529934516\n",
      "error 33.31416574141384\n",
      "error 33.196027804267885\n",
      "error 33.07869547129208\n",
      "error 32.96216451615709\n",
      "error 32.846430733308765\n",
      "error 32.73148993786876\n",
      "error 32.61733796553543\n",
      "error 32.50397067248538\n",
      "error 32.39138393527534\n",
      "error 32.27957365074463\n",
      "error 32.168535735917864\n",
      "error 32.05826612790847\n",
      "error 31.948760783822305\n",
      "error 31.840015680661978\n",
      "error 31.732026815231503\n",
      "error 31.6247902040414\n",
      "error 31.518301883214384\n",
      "error 31.412557908391303\n",
      "error 31.307554354637638\n",
      "error 31.20328731635047\n",
      "error 31.099752907165815\n",
      "error 30.99694725986641\n",
      "error 30.89486652628998\n",
      "error 30.793506877237927\n",
      "error 30.6928645023844\n",
      "error 30.592935610185858\n",
      "error 30.493716427791036\n",
      "error 30.395203200951354\n",
      "error 30.2973921939317\n",
      "error 30.200279689421734\n",
      "error 30.103861988447473\n",
      "error 30.008135410283455\n",
      "error 29.91309629236517\n",
      "error 29.818740990202045\n",
      "error 29.7250658772907\n",
      "error 29.63206734502872\n",
      "error 29.53974180262883\n",
      "error 29.448085677033408\n",
      "error 29.357095412829448\n",
      "error 29.266767472163956\n",
      "error 29.17709833465968\n",
      "error 29.088084497331298\n",
      "error 28.999722474501983\n",
      "error 28.91200879772033\n",
      "error 28.824940015677726\n",
      "error 28.73851269412609\n",
      "error 28.652723415796057\n",
      "error 28.567568780315394\n",
      "error 28.483045404128\n",
      "error 28.399149920413166\n",
      "error 28.315878979005237\n",
      "error 28.233229246313716\n",
      "error 28.151197405243632\n",
      "error 28.069780155116423\n",
      "error 27.98897421159107\n",
      "error 27.908776306585704\n",
      "error 27.82918318819948\n",
      "error 27.75019162063498\n",
      "error 27.67179838412079\n",
      "error 27.5940002748346\n"
     ]
    },
    {
     "name": "stdout",
     "output_type": "stream",
     "text": [
      "error 27.516794104826577\n",
      "error 27.440176701943177\n",
      "error 27.36414490975119\n",
      "error 27.288695587462374\n",
      "error 27.213825609858148\n",
      "error 27.1395318672149\n",
      "error 27.065811265229527\n",
      "error 26.992660724945328\n",
      "error 26.920077182678288\n",
      "error 26.848057589943693\n",
      "error 26.77659891338305\n",
      "error 26.70569813469152\n",
      "error 26.635352250545413\n",
      "error 26.565558272530296\n",
      "error 26.4963132270693\n",
      "error 26.427614155351808\n",
      "error 26.35945811326246\n",
      "error 26.291842171310524\n",
      "error 26.22476341455957\n",
      "error 26.158218942557532\n",
      "error 26.09220586926702\n",
      "error 26.02672132299603\n",
      "error 25.961762446328954\n",
      "error 25.89732639605795\n",
      "error 25.83341034311456\n",
      "error 25.77001147250178\n",
      "error 25.70712698322629\n",
      "error 25.64475408823115\n",
      "error 25.58289001432875\n",
      "error 25.521532002134084\n",
      "error 25.460677305998313\n",
      "error 25.40032319394276\n",
      "error 25.34046694759301\n",
      "error 25.28110586211356\n",
      "error 25.22223724614257\n",
      "error 25.163858421727088\n",
      "error 25.105966724258494\n",
      "error 25.048559502408246\n",
      "error 24.99163411806399\n",
      "error 24.935187946265888\n",
      "error 24.879218375143374\n",
      "error 24.823722805852057\n",
      "error 24.768698652511045\n",
      "error 24.71414334214052\n",
      "error 24.660054314599595\n",
      "error 24.606429022524505\n",
      "error 24.55326493126706\n",
      "error 24.50055951883338\n",
      "error 24.448310275823005\n",
      "error 24.396514705368137\n",
      "error 24.345170323073347\n",
      "error 24.294274656955455\n",
      "error 24.243825247383725\n",
      "error 24.19381964702032\n",
      "error 24.144255420761123\n",
      "error 24.095130145676734\n",
      "error 24.04644141095381\n",
      "error 23.99818681783669\n",
      "error 23.950363979569232\n",
      "error 23.902970521337007\n",
      "error 23.856004080209715\n",
      "error 23.809462305083876\n",
      "error 23.763342856625847\n",
      "error 23.717643407215046\n",
      "error 23.672361640887463\n",
      "error 23.62749525327946\n",
      "error 23.583041951571822\n",
      "error 23.53899945443407\n",
      "error 23.495365491969068\n",
      "error 23.452137805657838\n",
      "error 23.409314148304688\n",
      "error 23.366892283982583\n",
      "error 23.324869987978776\n",
      "error 23.283245046740685\n",
      "error 23.242015257822054\n",
      "error 23.201178429829355\n",
      "error 23.160732382368423\n",
      "error 23.12067494599138\n",
      "error 23.081003962143818\n",
      "error 23.041717283112163\n",
      "error 23.002812771971406\n",
      "error 22.964288302532957\n",
      "error 22.92614175929283\n",
      "error 22.888371037380043\n",
      "error 22.850974042505275\n",
      "error 22.81394869090977\n",
      "error 22.777292909314465\n",
      "error 22.741004634869363\n",
      "error 22.705081815103167\n",
      "error 22.669522407873142\n",
      "error 22.634324381315217\n",
      "error 22.599485713794294\n",
      "error 22.56500439385486\n",
      "error 22.5308784201718\n",
      "error 22.497105801501363\n",
      "error 22.46368455663254\n",
      "error 22.430612714338487\n",
      "error 22.39788831332833\n",
      "error 22.36550940219907\n",
      "error 22.333474039387816\n",
      "error 22.301780293124217\n",
      "error 22.270426241383056\n",
      "error 22.239409971837194\n",
      "error 22.20872958181062\n",
      "error 22.178383178231787\n",
      "error 22.148368877587163\n",
      "error 22.118684805874988\n",
      "error 22.089329098559258\n",
      "error 22.06029990052392\n",
      "error 22.031595366027318\n",
      "error 22.00321365865681\n",
      "error 21.975152951283647\n",
      "error 21.947411426017982\n",
      "error 21.919987274164242\n",
      "error 21.892878696176542\n",
      "error 21.86608390161444\n",
      "error 21.83960110909884\n",
      "error 21.813428546268124\n",
      "error 21.787564449734482\n",
      "error 21.762007065040468\n",
      "error 21.73675464661573\n",
      "error 21.711805457733984\n",
      "error 21.687157770470197\n",
      "error 21.66280986565788\n",
      "error 21.638760032846776\n",
      "error 21.61500657026049\n",
      "error 21.591547784754574\n",
      "error 21.568381991774647\n",
      "error 21.545507515314757\n",
      "error 21.52292268787602\n",
      "error 21.500625850425273\n",
      "error 21.478615352354137\n",
      "error 21.456889551438138\n",
      "error 21.435446813796045\n",
      "error 21.41428551384943\n",
      "error 21.393404034282426\n",
      "error 21.37280076600162\n",
      "error 21.352474108096217\n",
      "error 21.33242246779831\n",
      "error 21.31264426044339\n",
      "error 21.293137909431074\n",
      "error 21.273901846185918\n",
      "error 21.254934510118538\n",
      "error 21.236234348586805\n",
      "error 21.21779981685734\n",
      "error 21.19962937806705\n",
      "error 21.181721503184992\n",
      "error 21.164074670974333\n",
      "error 21.146687367954506\n",
      "error 21.129558088363545\n",
      "error 21.112685334120645\n",
      "error 21.09606761478881\n",
      "error 21.079703447537764\n",
      "error 21.063591357106993\n",
      "error 21.04772987576899\n",
      "error 21.03211754329264\n",
      "error 21.01675290690682\n",
      "error 21.001634521264137\n",
      "error 20.986760948404868\n",
      "error 20.972130757721036\n",
      "error 20.957742525920736\n",
      "error 20.94359483699247\n",
      "error 20.929686282169893\n",
      "error 20.916015459896453\n",
      "error 20.90258097579045\n",
      "error 20.889381442610077\n",
      "error 20.876415480218753\n",
      "error 20.86368171555049\n",
      "error 20.8511787825756\n",
      "error 20.83890532226641\n",
      "error 20.82685998256317\n",
      "error 20.815041418340254\n",
      "error 20.803448291372312\n",
      "error 20.79207927030076\n",
      "error 20.78093303060032\n",
      "error 20.7700082545458\n",
      "error 20.759303631178973\n",
      "error 20.74881785627562\n",
      "error 20.73854963231278\n",
      "error 20.728497668436095\n",
      "error 20.71866068042734\n",
      "error 20.70903739067211\n",
      "error 20.699626528127656\n",
      "error 20.69042682829087\n",
      "error 20.68143703316644\n",
      "error 20.67265589123511\n",
      "error 20.664082157422154\n",
      "error 20.655714593065998\n",
      "error 20.64755196588689\n",
      "error 20.639593049955856\n",
      "error 20.63183662566373\n",
      "error 20.624281479690328\n",
      "error 20.61692640497381\n",
      "error 20.609770200680128\n",
      "error 20.602811672172717\n",
      "error 20.596049630982186\n",
      "error 20.58948289477631\n",
      "error 20.583110287330065\n",
      "error 20.57693063849582\n",
      "error 20.57094278417371\n",
      "error 20.565145566282094\n",
      "error 20.559537832728243\n",
      "error 20.554118437379007\n",
      "error 20.54888624003184\n",
      "error 20.543840106385783\n",
      "error 20.538978908012655\n",
      "error 20.534301522328388\n",
      "error 20.529806832564507\n",
      "error 20.525493727739683\n",
      "error 20.521361102631484\n",
      "error 20.517407857748278\n",
      "error 20.513632899301204\n",
      "error 20.510035139176278\n",
      "error 20.506613494906738\n",
      "error 20.503366889645356\n",
      "error 20.500294252137056\n",
      "error 20.497394516691536\n",
      "error 20.49466662315604\n",
      "error 20.492109516888352\n",
      "error 20.489722148729772\n",
      "error 20.487503474978364\n",
      "error 20.48545245736223\n",
      "error 20.483568063012946\n",
      "error 20.481849264439166\n",
      "error 20.480295039500273\n",
      "error 20.478904371380224\n",
      "error 20.477676248561462\n",
      "error 20.47660966479901\n",
      "error 20.47570361909467\n",
      "error 20.474957115671316\n",
      "error 20.474369163947312\n",
      "error 20.47393877851114\n",
      "error 20.47366497909601\n",
      "error 20.473546790554693\n",
      "After 575 iterations w0 = -0.008878790884331553, w1 = 0.2179132616436716, w2 = 0.2996645301865608, w3 = 0.2076005779032681, w4 = 0.29009024319354987 error = 20.47377337095209, learning_rate = 0.001\n"
     ]
    }
   ],
   "source": [
    "w0 = 0\n",
    "w1 = 0 \n",
    "w2 = 0  \n",
    "w3 = 0  \n",
    "w4 = 0\n",
    "j = 0\n",
    "\n",
    "learning_rate = 0.001\n",
    "num_iterations = 1000\n",
    "\n",
    "X0 = X_train['Weight']\n",
    "X1 = X_train['Length']\n",
    "X2 = X_train['Height']\n",
    "X3 = X_train['Width']\n",
    "y  = y_train['Cost']\n",
    "cost = np.empty(num_iterations, dtype=float)\n",
    "\n",
    "[w0, w1, w2, w3, w4,cost,j] = gradient_descent(X0 ,X1, X2, X3, y, [w0, w1, w2, w3, w4], learning_rate, num_iterations)\n",
    "num_iterations = j\n",
    "\n",
    "print(\"After {0} iterations w0 = {1}, w1 = {2}, w2 = {3}, w3 = {4}, w4 = {5} error = {6}, learning_rate = {7}\".format(num_iterations, w0, w1, w2, w3, w4,\n",
    "                            compute_error(X0,X1,X2,X3, y, [w0, w1, w2, w3, w4]),learning_rate))\n",
    "error = compute_error(X0,X1,X2,X3, y, [w0, w1, w2, w3, w4])"
   ]
  },
  {
   "cell_type": "code",
   "execution_count": 48,
   "metadata": {},
   "outputs": [
    {
     "data": {
      "text/plain": [
       "Text(0, 0.5, 'Cost')"
      ]
     },
     "execution_count": 48,
     "metadata": {},
     "output_type": "execute_result"
    },
    {
     "data": {
      "image/png": "[encoded data removed]",
      "text/plain": [
       "<Figure size 432x288 with 1 Axes>"
      ]
     },
     "metadata": {
      "needs_background": "light"
     },
     "output_type": "display_data"
    }
   ],
   "source": [
    "cost = list(cost)\n",
    "n_iterations = [x for x in range(1,j+1)]\n",
    "plt.plot(n_iterations, cost[0:j])\n",
    "plt.xlabel('No. of iterations')\n",
    "plt.ylabel('Cost')"
   ]
  },
  {
   "cell_type": "code",
   "execution_count": 49,
   "metadata": {},
   "outputs": [
    {
     "name": "stdout",
     "output_type": "stream",
     "text": [
      "r2 score for GD model is 0.8314906888028986\n",
      "RSE: Residual Square Sum of  Error:  0.4063386218072241\n",
      "mse, rmse on training dataset using statsmodel:  0.16249026484882612 0.403100812265153\n"
     ]
    }
   ],
   "source": [
    "l=X_train.shape[0]\n",
    "X0 = X_train['Weight']\n",
    "X1 = X_train['Length']\n",
    "X2 = X_train['Height']\n",
    "X3 = X_train['Width']\n",
    "y  = y_train['Cost']\n",
    "\n",
    "y_hat = compute_Yhat(X0,X1,X2,X3, y, [w0,w1,w2,w3,w4])\n",
    "\n",
    "r2 = r2_score(y, y_hat)\n",
    "print('r2 score for GD model is', r2)\n",
    "\n",
    "gd_mse = error/l\n",
    "gd_rmse = (np.sqrt(gd_mse))\n",
    "# RSE - Residual Sum of Error . \n",
    "gd_rse = error/(l-2)\n",
    "gd_rse = math.sqrt(gd_rse)\n",
    "print('RSE: Residual Square Sum of  Error: ', gd_rse)\n",
    "print(\"mse, rmse on training dataset using statsmodel: \",gd_mse, gd_rmse)"
   ]
  },
  {
   "cell_type": "code",
   "execution_count": 50,
   "metadata": {},
   "outputs": [
    {
     "name": "stdout",
     "output_type": "stream",
     "text": [
      "r2 score for GD model is 0.9038068990189688\n",
      "RSE: Residual Square Sum of  Error:  0.33830737977438086\n",
      "mse, rmse on test dataset using statsmodel:  0.10729864050919423 0.32756471194131126\n"
     ]
    }
   ],
   "source": [
    "l=X_test.shape[0]\n",
    "X0 = X_test['Weight']\n",
    "X1 = X_test['Length']\n",
    "X2 = X_test['Height']\n",
    "X3 = X_test['Width']\n",
    "y  = y_test['Cost']\n",
    "\n",
    "y_hat = compute_Yhat(X0,X1,X2,X3, y, [w0,w1,w2,w3,w4])\n",
    "\n",
    "r2 = r2_score(y, y_hat)\n",
    "print('r2 score for GD model is', r2)\n",
    "\n",
    "y_error = y - y_hat\n",
    "gd_mse = np.mean(np.sum(np.square(y_error)))/l\n",
    "gd_rmse = (np.sqrt(gd_mse))\n",
    "# RSE - Residual Sum of Error . \n",
    "gd_rse = gd_mse*l/(l-2)\n",
    "gd_rse = math.sqrt(gd_rse)\n",
    "print('RSE: Residual Square Sum of  Error: ', gd_rse)\n",
    "print(\"mse, rmse on test dataset using statsmodel: \",gd_mse, gd_rmse)"
   ]
  },
  {
   "cell_type": "code",
   "execution_count": 51,
   "metadata": {},
   "outputs": [
    {
     "data": {
      "image/png": "[encoded data removed]",
      "text/plain": [
       "<Figure size 432x288 with 1 Axes>"
      ]
     },
     "metadata": {
      "needs_background": "light"
     },
     "output_type": "display_data"
    }
   ],
   "source": [
    "sns.scatterplot(x=X3,y=y).set(title=\"scatter plot and best fit line with learning rate 0.001\",xlabel=\"Weight\",ylabel=\"Cost\")\n",
    "                \n",
    "plt.plot([min(X3),max(X3)],[min(y_hat),max(y_hat)],color='red')\n",
    "plt.show()"
   ]
  },
  {
   "cell_type": "code",
   "execution_count": 52,
   "metadata": {},
   "outputs": [
    {
     "data": {
      "image/png": "[encoded data removed]",
      "text/plain": [
       "<Figure size 432x288 with 1 Axes>"
      ]
     },
     "metadata": {
      "needs_background": "light"
     },
     "output_type": "display_data"
    }
   ],
   "source": [
    "sns.scatterplot(x=X2,y=y).set(title=\"scatter plot and best fit line with learning rate 0.001\",xlabel=\"Length\",ylabel=\"Cost\")\n",
    "                \n",
    "plt.plot([min(X2),max(X2)],[min(y_hat),max(y_hat)],color='red')\n",
    "plt.show()"
   ]
  },
  {
   "cell_type": "code",
   "execution_count": 53,
   "metadata": {},
   "outputs": [
    {
     "data": {
      "image/png": "[encoded data removed]",
      "text/plain": [
       "<Figure size 432x288 with 1 Axes>"
      ]
     },
     "metadata": {
      "needs_background": "light"
     },
     "output_type": "display_data"
    }
   ],
   "source": [
    "sns.scatterplot(x=X3,y=y).set(title=\"scatter plot and best fit line with learning rate 0.001\",xlabel=\"Height\",ylabel=\"Cost\")\n",
    "                \n",
    "plt.plot([min(X3),max(X3)],[min(y_hat),max(y_hat)],color='red')\n",
    "plt.show()"
   ]
  },
  {
   "cell_type": "code",
   "execution_count": 54,
   "metadata": {},
   "outputs": [
    {
     "data": {
      "image/png": "[encoded data removed]",
      "text/plain": [
       "<Figure size 432x288 with 1 Axes>"
      ]
     },
     "metadata": {
      "needs_background": "light"
     },
     "output_type": "display_data"
    }
   ],
   "source": [
    "sns.scatterplot(x=X3,y=y).set(title=\"scatter plot and best fit line with learning rate 0.001\",xlabel=\"Width\",ylabel=\"Cost\")\n",
    "                \n",
    "plt.plot([min(X3),max(X3)],[min(y_hat),max(y_hat)],color='red')\n",
    "plt.show()"
   ]
  },
  {
   "cell_type": "markdown",
   "metadata": {},
   "source": [
    "# MINI BATCH GRADIENT DESCENT APPROACH\n",
    "\n",
    "<b>\n",
    "    \n",
    "Tried this method also with various learning , batch size and number of iterations and concluded on below values\n",
    "    learning_rate = 0.0001\n",
    "    num_iterations = 1000\n",
    "    batch size = 20\n",
    "</b>"
   ]
  },
  {
   "cell_type": "code",
   "execution_count": 55,
   "metadata": {},
   "outputs": [],
   "source": [
    "#Y=w0+w1X1+w2X2+w3x3+w4x4\n",
    "def compute_error(X0, X1, X2, X3, Y, start_vector):\n",
    "    y_pred = start_vector[0]+start_vector[1]*X0+start_vector[2]*X1+start_vector[3]*X2+start_vector[4]*X3\n",
    "    y_error = Y - y_pred\n",
    "    sse = np.sum(np.square(y_error))\n",
    "    return sse\n",
    "\n",
    "def stepGradient(start_vector, X0, X1, X2, X3, Y, learningRate):\n",
    "    w0_gradient = 0\n",
    "    w1_gradient = 0 \n",
    "    w2_gradient = 0\n",
    "    w3_gradient = 0\n",
    "    w4_gradient = 0\n",
    "\n",
    "    error = compute_error(X0,X1,X2,X3, Y,start_vector)\n",
    "\n",
    "    w0_gradient = np.mean((start_vector[0]+(start_vector[1]*X0)+(start_vector[2]*X1)+(start_vector[3]*X2))-Y)\n",
    "    w1_gradient = np.mean(((start_vector[0]+(start_vector[1]*X0)+(start_vector[2]*X1)+(start_vector[3]*X2))-Y)*X0)\n",
    "    w2_gradient = np.mean(((start_vector[0]+(start_vector[1]*X0)+(start_vector[2]*X1)+(start_vector[3]*X2))-Y)*X1)\n",
    "    w3_gradient = np.mean(((start_vector[0]+(start_vector[1]*X0)+(start_vector[2]*X1)+(start_vector[3]*X2))-Y)*X2)\n",
    "    w4_gradient = np.mean(((start_vector[0]+(start_vector[1]*X0)+(start_vector[2]*X1)+(start_vector[3]*X2))-Y)*X3)\n",
    "   \n",
    "    new_w0 = start_vector[0] - (learningRate * w0_gradient) \n",
    "    new_w1 = start_vector[1] - (learningRate * w1_gradient) \n",
    "    new_w2 = start_vector[2] - (learningRate * w2_gradient)\n",
    "    new_w3 = start_vector[3] - (learningRate * w3_gradient)\n",
    "    new_w4 = start_vector[4] - (learningRate * w4_gradient)\n",
    "    \n",
    "    return [new_w0, new_w1, new_w2, new_w3, new_w4, error]\n",
    "\n",
    "def mini_gradient_descent(X0, X1, X2, X3, Y, start_vector, learning_rate, num_iteartions,b):\n",
    "    w0 = 0\n",
    "    w1 = 0\n",
    "    w2 = 0\n",
    "    w3 = 0\n",
    "    w4 = 0\n",
    "    N = Y.shape[0]\n",
    "    \n",
    "    for i in range(0,N,b):\n",
    "        X0_i = X0[i:i+b]\n",
    "        X1_i = X1[i:i+b]\n",
    "        X2_i = X2[i:i+b]\n",
    "        X3_i = X3[i:i+b]\n",
    "        Y_i  = Y[i:i+b]\n",
    "\n",
    "        [w0,w1,w2,w3,w4,error] = stepGradient(start_vector, X0_i, X1_i, X2_i, X3_i, Y_i, learning_rate)\n",
    "        start_vector = [w0,w1,w2,w3,w4]\n",
    "        error = compute_error(X0,X1,X2,X3, Y,start_vector)\n",
    "\n",
    "    return [w0,w1,w2,w3,w4,error] \n",
    "\n",
    "def compute_Yhat(X0,X1,X2,X3,Y,start_vector):\n",
    "    y_pred = start_vector[0]+start_vector[1]*X0+start_vector[2]*X1+start_vector[3]*X2+start_vector[4]*X3\n",
    "    y_error = (Y - y_pred)\n",
    "    return y_pred"
   ]
  },
  {
   "cell_type": "code",
   "execution_count": 56,
   "metadata": {},
   "outputs": [
    {
     "name": "stdout",
     "output_type": "stream",
     "text": [
      "error is  120.85950791313232\n",
      "error is  120.0619389908093\n",
      "error is  119.26990317459344\n",
      "error is  118.4833650573173\n",
      "error is  117.70228945238728\n",
      "error is  116.92664139242449\n",
      "error is  116.15638612791386\n",
      "error is  115.39148912586172\n",
      "error is  114.63191606846144\n",
      "error is  113.87763285176734\n",
      "error is  113.12860558437683\n",
      "error is  112.38480058612035\n",
      "error is  111.64618438675971\n",
      "error is  110.91272372469419\n",
      "error is  110.1843855456746\n",
      "error is  109.46113700152532\n",
      "error is  108.7429454488741\n",
      "error is  108.02977844788971\n",
      "error is  107.32160376102729\n",
      "error is  106.61838935178136\n",
      "error is  105.92010338344672\n",
      "error is  105.22671421788658\n",
      "error is  104.53819041430859\n",
      "error is  103.85450072804814\n",
      "error is  103.17561410935929\n",
      "error is  102.50149970221301\n",
      "error is  101.83212684310298\n",
      "error is  101.1674650598583\n",
      "error is  100.50748407046413\n",
      "error is  99.85215378188884\n",
      "error is  99.20144428891903\n",
      "error is  98.5553258730012\n",
      "error is  97.91376900109087\n",
      "error is  97.27674432450846\n",
      "error is  96.64422267780246\n",
      "error is  96.01617507761951\n",
      "error is  95.39257272158113\n",
      "error is  94.77338698716805\n",
      "error is  94.15858943061033\n",
      "error is  93.54815178578541\n",
      "error is  92.94204596312215\n",
      "error is  92.34024404851186\n",
      "error is  91.74271830222611\n",
      "error is  91.14944115784085\n",
      "error is  90.5603852211677\n",
      "error is  89.97552326919123\n",
      "error is  89.394828249013\n",
      "error is  88.81827327680215\n",
      "error is  88.24583163675231\n",
      "error is  87.67747678004508\n",
      "error is  87.11318232381956\n",
      "error is  86.55292205014857\n",
      "error is  85.99666990502088\n",
      "error is  85.44439999732985\n",
      "error is  84.89608659786823\n",
      "error is  84.35170413832914\n",
      "error is  83.81122721031302\n",
      "error is  83.27463056434108\n",
      "error is  82.74188910887432\n",
      "error is  82.21297790933892\n",
      "error is  81.68787218715752\n",
      "error is  81.16654731878623\n",
      "error is  80.64897883475807\n",
      "error is  80.13514241873179\n",
      "error is  79.62501390654649\n",
      "error is  79.11856928528269\n",
      "error is  78.6157846923284\n",
      "error is  78.11663641445139\n",
      "error is  77.62110088687696\n",
      "error is  77.12915469237147\n",
      "error is  76.64077456033151\n",
      "error is  76.15593736587849\n",
      "error is  75.674620128959\n",
      "error is  75.19680001345064\n",
      "error is  74.72245432627315\n",
      "error is  74.25156051650535\n",
      "error is  73.78409617450724\n",
      "error is  73.32003903104746\n",
      "error is  72.8593669564364\n",
      "error is  72.40205795966418\n",
      "error is  71.94809018754447\n",
      "error is  71.49744192386311\n",
      "error is  71.05009158853214\n",
      "error is  70.60601773674912\n",
      "error is  70.16519905816138\n",
      "error is  69.72761437603556\n",
      "error is  69.29324264643239\n",
      "error is  68.86206295738602\n",
      "error is  68.43405452808916\n",
      "error is  68.00919670808251\n",
      "error is  67.58746897644951\n",
      "error is  67.16885094101616\n",
      "error is  66.75332233755532\n",
      "error is  66.34086302899635\n",
      "error is  65.93145300463938\n",
      "error is  65.52507237937436\n",
      "error is  65.12170139290524\n",
      "error is  64.72132040897824\n",
      "error is  64.32390991461565\n",
      "error is  63.929450519353864\n",
      "error is  63.53792295448607\n",
      "error is  63.14930807230995\n",
      "error is  62.763586845379585\n",
      "error is  62.38074036576223\n",
      "error is  62.00074984429957\n",
      "error is  61.62359660987351\n",
      "error is  61.249262108676426\n",
      "error is  60.87772790348605\n",
      "error is  60.50897567294459\n",
      "error is  60.14298721084248\n",
      "error is  59.77974442540649\n",
      "error is  59.419229338592025\n",
      "error is  59.06142408538012\n",
      "error is  58.70631091307829\n",
      "error is  58.35387218062619\n",
      "error is  58.004090357905135\n",
      "error is  57.65694802505208\n",
      "error is  57.31242787177769\n",
      "error is  56.97051269668872\n",
      "error is  56.63118540661448\n",
      "error is  56.29442901593741\n",
      "error is  55.96022664592789\n",
      "error is  55.628561524083004\n",
      "error is  55.29941698346942\n",
      "error is  54.972776462070385\n",
      "error is  54.64862350213658\n",
      "error is  54.32694174954107\n",
      "error is  54.007714953138176\n",
      "error is  53.690926964126405\n",
      "error is  53.37656173541501\n",
      "error is  53.06460332099472\n",
      "error is  52.75503587531233\n",
      "error is  52.447843652648885\n",
      "error is  52.14301100650197\n",
      "error is  51.84052238897161\n",
      "error is  51.540362350149984\n",
      "error is  51.24251553751498\n",
      "error is  50.94696669532738\n",
      "error is  50.65370066403181\n",
      "error is  50.362702379661265\n",
      "error is  50.07395687324538\n",
      "error is  49.787449270222474\n",
      "error is  49.5031647898549\n",
      "error is  49.22108874464814\n",
      "error is  48.94120653977365\n",
      "error is  48.66350367249492\n",
      "error is  48.3879657315973\n",
      "error is  48.11457839682124\n",
      "error is  47.843327438299056\n",
      "error is  47.57419871599507\n",
      "error is  47.30717817914929\n",
      "error is  47.04225186572453\n",
      "error is  46.77940590185679\n",
      "error is  46.51862650130914\n",
      "error is  46.259899964928906\n",
      "error is  46.00321268010819\n",
      "error is  45.74855112024779\n",
      "error is  45.49590184422428\n",
      "error is  45.24525149586043\n",
      "error is  44.99658680339895\n",
      "error is  44.74989457897935\n",
      "error is  44.505161718118124\n",
      "error is  44.26237519919202\n",
      "error is  44.021522082924626\n",
      "error is  43.78258951187593\n",
      "error is  43.54556470993519\n",
      "error is  43.31043498181688\n",
      "error is  43.077187712559635\n",
      "error is  42.845810367028385\n",
      "error is  42.616290489419555\n",
      "error is  42.38861570276922\n",
      "error is  42.16277370846435\n",
      "error is  41.93875228575704\n",
      "error is  41.71653929128175\n",
      "error is  41.4961226585755\n",
      "error is  41.27749039760099\n",
      "error is  41.06063059427267\n",
      "error is  40.84553140998577\n",
      "error is  40.632181081148126\n",
      "error is  40.42056791871502\n",
      "error is  40.210680307726754\n",
      "error is  40.00250670684917\n",
      "error is  39.796035647916845\n",
      "error is  39.59125573547936\n",
      "error is  39.388155646350036\n",
      "error is  39.186724129157675\n",
      "error is  38.98695000390104\n",
      "error is  38.78882216150597\n",
      "error is  38.59232956338527\n",
      "error is  38.39746124100139\n",
      "error is  38.20420629543156\n",
      "error is  38.01255389693598\n",
      "error is  37.82249328452823\n",
      "error is  37.6340137655487\n",
      "error is  37.4471047152404\n",
      "error is  37.26175557632749\n",
      "error is  37.07795585859635\n",
      "error is  36.895695138479304\n",
      "error is  36.714963058640805\n",
      "error is  36.535749327566215\n",
      "error is  36.358043719153194\n",
      "error is  36.18183607230538\n",
      "error is  36.0071162905289\n",
      "error is  35.83387434153101\n",
      "error is  35.6621002568215\n",
      "error is  35.49178413131628\n",
      "error is  35.32291612294373\n",
      "error is  35.15548645225316\n",
      "error is  34.98948540202585\n",
      "error is  34.82490331688848\n",
      "error is  34.66173060292883\n",
      "error is  34.49995772731396\n",
      "error is  34.339575217910806\n",
      "error is  34.180573662908806\n",
      "error is  34.02294371044519\n",
      "error is  33.86667606823236\n",
      "error is  33.7117615031877\n",
      "error is  33.55819084106556\n",
      "error is  33.405954966091585\n",
      "error is  33.25504482059918\n",
      "error is  33.1054514046684\n",
      "error is  32.95716577576686\n",
      "error is  32.81017904839302\n",
      "error is  32.664482393721514\n",
      "error is  32.52006703925083\n",
      "error is  32.376924268453045\n",
      "error is  32.235045420425685\n",
      "error is  32.09442188954585\n",
      "error is  31.9550451251264\n",
      "error is  31.816906631074268\n",
      "error is  31.679997965550825\n",
      "error is  31.544310740634444\n",
      "error is  31.40983662198503\n",
      "error is  31.27656732851069\n",
      "error is  31.144494632036466\n",
      "error is  31.013610356975015\n",
      "error is  30.883906379999388\n",
      "error is  30.755374629717863\n",
      "error is  30.628007086350667\n",
      "error is  30.501795781408763\n",
      "error is  30.376732797374657\n",
      "error is  30.252810267385065\n",
      "error is  30.130020374915595\n",
      "error is  30.00835535346735\n",
      "error is  29.88780748625555\n",
      "error is  29.768369105899875\n",
      "error is  29.650032594116954\n",
      "error is  29.532790381414536\n",
      "error is  29.41663494678769\n",
      "error is  29.30155881741686\n",
      "error is  29.18755456836765\n",
      "error is  29.074614822292617\n",
      "error is  28.962732249134863\n",
      "error is  28.851899565833357\n",
      "error is  28.74210953603019\n",
      "error is  28.63335496977959\n",
      "error is  28.525628723258706\n",
      "error is  28.418923698480203\n",
      "error is  28.31323284300663\n",
      "error is  28.2085491496665\n",
      "error is  28.104865656272256\n",
      "error is  28.002175445339745\n",
      "error is  27.900471643809617\n",
      "error is  27.799747422770373\n",
      "error is  27.699995997183166\n",
      "error is  27.601210625608154\n",
      "error is  27.503384609932727\n",
      "error is  27.406511295101264\n",
      "error is  27.31058406884667\n",
      "error is  27.21559636142344\n",
      "error is  27.121541645342507\n",
      "error is  27.028413435107634\n",
      "error is  26.936205286953392\n",
      "error is  26.844910798584927\n",
      "error is  26.754523608919108\n",
      "error is  26.66503739782748\n",
      "error is  26.57644588588061\n",
      "error is  26.488742834094158\n",
      "error is  26.40192204367644\n",
      "error is  26.315977355777573\n",
      "error is  26.230902651240115\n",
      "error is  26.1466918503514\n",
      "error is  26.06333891259711\n",
      "error is  25.980837836416686\n",
      "error is  25.899182658960047\n",
      "error is  25.81836745584584\n",
      "error is  25.738386340921274\n",
      "error is  25.659233466023302\n",
      "error is  25.580903020741342\n",
      "error is  25.503389232181522\n",
      "error is  25.426686364732223\n",
      "error is  25.350788719831268\n"
     ]
    },
    {
     "name": "stdout",
     "output_type": "stream",
     "text": [
      "error is  25.275690635734342\n",
      "error is  25.201386487284967\n",
      "error is  25.127870685685906\n",
      "error is  25.055137678271887\n",
      "error is  24.9831819482838\n",
      "error is  24.91199801464429\n",
      "error is  24.841580431734627\n",
      "error is  24.771923789173158\n",
      "error is  24.703022711594897\n",
      "error is  24.634871858432636\n",
      "error is  24.56746592369933\n",
      "error is  24.500799635771862\n",
      "error is  24.434867757176136\n",
      "error is  24.369665084373416\n",
      "error is  24.305186447548135\n",
      "error is  24.241426710396908\n",
      "error is  24.178380769918835\n",
      "error is  24.1160435562072\n",
      "error is  24.054410032242302\n",
      "error is  23.993475193685736\n",
      "error is  23.933234068675795\n",
      "error is  23.873681717624237\n",
      "error is  23.814813233014245\n",
      "error is  23.756623739199682\n",
      "error is  23.699108392205506\n",
      "error is  23.642262379529544\n",
      "error is  23.58608091994536\n",
      "error is  23.530559263306426\n",
      "error is  23.475692690351433\n",
      "error is  23.4214765125109\n",
      "error is  23.36790607171485\n",
      "error is  23.314976740201818\n",
      "error is  23.262683920328907\n",
      "error is  23.211023044383076\n",
      "error is  23.159989574393613\n",
      "error is  23.109579001945736\n",
      "error is  23.059786847995344\n",
      "error is  23.01060866268491\n",
      "error is  22.962040025160533\n",
      "error is  22.91407654339013\n",
      "error is  22.866713853982652\n",
      "error is  22.819947622008584\n",
      "error is  22.773773540821413\n",
      "error is  22.728187331880218\n",
      "error is  22.683184744573456\n",
      "error is  22.638761556043686\n",
      "error is  22.594913571013542\n",
      "error is  22.551636621612612\n",
      "error is  22.50892656720553\n",
      "error is  22.466779294221013\n",
      "error is  22.425190715982055\n",
      "error is  22.38415677253709\n",
      "error is  22.343673430492284\n",
      "error is  22.303736682844708\n",
      "error is  22.264342548816774\n",
      "error is  22.225487073691486\n",
      "error is  22.18716632864878\n",
      "error is  22.149376410602944\n",
      "error is  22.112113442040926\n",
      "error is  22.075373570861704\n",
      "error is  22.03915297021668\n",
      "error is  22.00344783835098\n",
      "error is  21.968254398445804\n",
      "error is  21.933568898461704\n",
      "error is  21.899387610982856\n",
      "error is  21.865706833062323\n",
      "error is  21.832522886068165\n",
      "error is  21.799832115530638\n",
      "error is  21.767630890990265\n",
      "error is  21.735915605846852\n",
      "error is  21.7046826772094\n",
      "error is  21.673928545747064\n",
      "error is  21.643649675540907\n",
      "error is  21.613842553936617\n",
      "error is  21.584503691398158\n",
      "error is  21.555629621362282\n",
      "error is  21.52721690009401\n",
      "error is  21.499262106542908\n",
      "error is  21.471761842200323\n",
      "error is  21.444712730957495\n",
      "error is  21.41811141896454\n",
      "error is  21.39195457449026\n",
      "error is  21.36623888778291\n",
      "error is  21.34096107093175\n",
      "error is  21.316117857729484\n",
      "error is  21.29170600353554\n",
      "error is  21.267722285140234\n",
      "error is  21.24416350062969\n",
      "error is  21.221026469251687\n",
      "error is  21.198308031282288\n",
      "error is  21.1760050478933\n",
      "error is  21.15411440102057\n",
      "error is  21.132632993233063\n",
      "error is  21.111557747602774\n",
      "error is  21.090885607575455\n",
      "error is  21.070613536842128\n",
      "error is  21.050738519211393\n",
      "error is  21.031257558482498\n",
      "error is  21.012167678319287\n",
      "error is  20.993465922124788\n",
      "error is  20.97514935291673\n",
      "error is  20.95721505320369\n",
      "error is  20.939660124862122\n",
      "error is  20.922481689014074\n",
      "error is  20.905676885905674\n",
      "error is  20.8892428747864\n",
      "error is  20.87317683378911\n",
      "error is  20.85747595981069\n",
      "error is  20.842137468393602\n",
      "error is  20.827158593608118\n",
      "error is  20.81253658793518\n",
      "error is  20.79826872215014\n",
      "error is  20.784352285207113\n",
      "error is  20.77078458412412\n",
      "error is  20.75756294386883\n",
      "error is  20.744684707245167\n",
      "error is  20.732147234780456\n",
      "error is  20.71994790461346\n",
      "error is  20.708084112382842\n",
      "error is  20.696553271116617\n",
      "error is  20.685352811122083\n",
      "error is  20.674480179876497\n",
      "error is  20.66393284191845\n",
      "error is  20.65370827873986\n",
      "error is  20.64380398867872\n",
      "error is  20.634217486812403\n",
      "error is  20.624946304851733\n",
      "error is  20.615987991035645\n",
      "error is  20.607340110026502\n",
      "error is  20.599000242806106\n",
      "error is  20.5909659865723\n",
      "error is  20.58323495463624\n",
      "error is  20.575804776320318\n",
      "error is  20.56867309685667\n",
      "error is  20.561837577286365\n",
      "error is  20.555295894359173\n",
      "error is  20.549045740433993\n",
      "error is  20.54308482337991\n",
      "error is  20.53741086647777\n",
      "error is  20.532021608322502\n",
      "error is  20.526914802725948\n",
      "error is  20.522088218620308\n",
      "error is  20.517539639962248\n",
      "error is  20.513266865637515\n",
      "error is  20.509267709366217\n",
      "error is  20.50553999960862\n",
      "error is  20.502081579471614\n",
      "error is  20.49889030661568\n",
      "error is  20.495964053162485\n",
      "error is  20.493300705603033\n",
      "error is  20.490898164706362\n",
      "error is  20.488754345428877\n",
      "error is  20.48686717682417\n",
      "error is  20.485234601953415\n",
      "error is  20.483854577796404\n",
      "error is  20.482725075162957\n",
      "error is  20.481844078605114\n",
      "error is  20.48120958632965\n",
      "error is  20.480819610111276\n",
      "error is  20.480672175206355\n",
      "After 452 iterations w0 = -0.010272706261032955, w1 = 0.21801255570353525, w2 = 0.29950607390772677, w3 = 0.2080760152546893, w4 = 0.28936423277549794 error = 20.480765320267068, learning_rate = 0.0001\n"
     ]
    }
   ],
   "source": [
    "w0 = 0\n",
    "w1 = 0\n",
    "w2 = 0\n",
    "w3 = 0\n",
    "w4 = 0\n",
    "\n",
    "learning_rate = 0.0001\n",
    "num_iterations = 1000\n",
    "cost = np.empty(num_iterations, dtype=float)\n",
    "#scale the data\n",
    "\n",
    "X0 = X_train['Weight']\n",
    "X1 = X_train['Length']\n",
    "X2 = X_train['Height']\n",
    "X3 = X_train['Width']\n",
    "y  = y_train['Cost']\n",
    "\n",
    "i = 0\n",
    "j = 0\n",
    "b = 10\n",
    "\n",
    "for i in range(num_iterations):\n",
    "    [w0, w1, w2, w3, w4, error] = mini_gradient_descent(X0 ,X1, X2, X3, y, [w0, w1, w2, w3, w4], learning_rate, num_iterations,b)\n",
    "    cost[i] = error\n",
    "    if (i !=0 and cost[i] > cost[i-1]):\n",
    "        j = i\n",
    "        i = num_iterations\n",
    "        break\n",
    "    print('error is ', cost[i])\n",
    "num_iterations = j\n",
    "print(\"After {0} iterations w0 = {1}, w1 = {2}, w2 = {3}, w3 = {4}, w4 = {5} error = {6}, learning_rate = {7}\".format(num_iterations, w0, w1, w2, w3, w4,\n",
    "                            compute_error(X0,X1,X2,X3, y, [w0, w1, w2, w3, w4]),learning_rate))\n",
    "error = compute_error(X0,X1,X2,X3, y, [w0, w1, w2, w3, w4])"
   ]
  },
  {
   "cell_type": "code",
   "execution_count": 57,
   "metadata": {},
   "outputs": [
    {
     "data": {
      "text/plain": [
       "Text(0, 0.5, 'Cost')"
      ]
     },
     "execution_count": 57,
     "metadata": {},
     "output_type": "execute_result"
    },
    {
     "data": {
      "image/png": "[encoded data removed]",
      "text/plain": [
       "<Figure size 432x288 with 1 Axes>"
      ]
     },
     "metadata": {
      "needs_background": "light"
     },
     "output_type": "display_data"
    }
   ],
   "source": [
    "cost = list(cost)\n",
    "len(cost)\n",
    "n_iterations = [x for x in range(1,j+1)]\n",
    "plt.plot(n_iterations, cost[0:j])\n",
    "plt.xlabel('No. of iterations')\n",
    "plt.ylabel('Cost')"
   ]
  },
  {
   "cell_type": "code",
   "execution_count": 58,
   "metadata": {},
   "outputs": [
    {
     "name": "stdout",
     "output_type": "stream",
     "text": [
      "r2 score for Mini Batch GD model is 0.8314331415915641\n",
      "RSE: Residual Square Sum of  Error:  0.40640799974928926\n",
      "mse, rmse on training dataset using statsmodel:  0.1625457565100561 0.40316963738612077\n"
     ]
    }
   ],
   "source": [
    "l=X_train.shape[0]\n",
    "model_mse = (error)*1/(l)\n",
    "model_rmse = (np.sqrt(model_mse))\n",
    "\n",
    "X0 = X_train['Weight']\n",
    "X1 = X_train['Length']\n",
    "X2 = X_train['Height']\n",
    "X3 = X_train['Width']\n",
    "y  = y_train['Cost']\n",
    "\n",
    "y_hat = compute_Yhat(X0,X1,X2,X3, y, [w0,w1,w2,w3,w4])\n",
    "\n",
    "r2 = r2_score(y, y_hat)\n",
    "print('r2 score for Mini Batch GD model is', r2)\n",
    "\n",
    "mbgd_mse = error/l\n",
    "mbgd_rmse = (np.sqrt(mbgd_mse))\n",
    "# RSE - Residual Sum of Error . \n",
    "mbgd_rse = error/(l-2)\n",
    "mbgd_rse = math.sqrt(mbgd_rse)\n",
    "print('RSE: Residual Square Sum of  Error: ', mbgd_rse)\n",
    "print(\"mse, rmse on training dataset using statsmodel: \",model_mse, model_rmse)"
   ]
  },
  {
   "cell_type": "code",
   "execution_count": 59,
   "metadata": {},
   "outputs": [
    {
     "name": "stdout",
     "output_type": "stream",
     "text": [
      "r2 score for Mini Batch GD model is 0.9036608508283211\n",
      "RSE: Residual Square Sum of  Error:  0.33830737977438086\n",
      "mse, rmse on test dataset using statsmodel:  0.10746155003332339 0.32781328532157356\n"
     ]
    }
   ],
   "source": [
    "X0 = X_test['Weight']\n",
    "X1 = X_test['Length']\n",
    "X2 = X_test['Height']\n",
    "X3 = X_test['Width']\n",
    "y  = y_test['Cost']\n",
    "\n",
    "y_hat = compute_Yhat(X0,X1,X2,X3, y, [w0,w1,w2,w3,w4])\n",
    "\n",
    "r2 = r2_score(y, y_hat)\n",
    "print('r2 score for Mini Batch GD model is', r2)\n",
    "\n",
    "l=X_test.shape[0]\n",
    "y_error = y - y_hat\n",
    "mbgd_mse  = (np.sum(np.square(y_error)))/l\n",
    "mbgd_rmse = (np.sqrt(mbgd_mse))\n",
    "\n",
    "# RSE - Residual Sum of Error . \n",
    "mbgd_rse = mbgd_mse*l/(l-2)\n",
    "mbgd_rse = math.sqrt(mbgd_rse)\n",
    "print('RSE: Residual Square Sum of  Error: ', gd_rse)\n",
    "print(\"mse, rmse on test dataset using statsmodel: \",mbgd_mse, mbgd_rmse)"
   ]
  },
  {
   "cell_type": "markdown",
   "metadata": {},
   "source": [
    "# RESULTS FROM THE 4 MODELS:"
   ]
  },
  {
   "cell_type": "code",
   "execution_count": 60,
   "metadata": {},
   "outputs": [],
   "source": [
    "# OLS METHOD:\n",
    "\n",
    "# On Training Data:\n",
    "# rmse    :  0.32320403397161696\n",
    "# mse     :  0.10446084757552614\n",
    "# r2 score:  0.8916696610200369\n",
    "\n",
    "# On Test Data:\n",
    "# rmse    :  0.3535780174259422\n",
    "# mse     :  0.12501741440685987\n",
    "# r2 score:  0.8879220397261601\n",
    "\n",
    "# LINEAR REGRESSION using Sklearn:\n",
    "    \n",
    "# On Training Data:\n",
    "# rmse    :  0.32320403397161696\n",
    "# mse     :  0.10446084757552612\n",
    "# rse     :  0.3258000920131493\n",
    "# r2 score:  0.8916696610200369\n",
    "\n",
    "# On Test Data:\n",
    "# rmse    :  0.3535780174259424\n",
    "# mse     :  0.12501741440686004\n",
    "# rse     :  0.36517380615352285\n",
    "# r2 score:  0.88792203972616\n",
    "\n",
    "# STOCHASTIC GRADIENT DESCENT APPROACH using Sklearn:\n",
    "\n",
    "# On Training Data:\n",
    "# rmse    :  0.39272650448077484\n",
    "# mse     :  0.15423410732168807\n",
    "# rse     :  0.39588098491083573\n",
    "# r2 score:  0.8400526750814435\n",
    "\n",
    "# On Test Data:   \n",
    "# rmse    :  0.33066421102644866\n",
    "# mse     :  0.10933882045374377\n",
    "# rse     :  0.34150852866460013\n",
    "# r2 score:  0.9019778801749816\n",
    "\n",
    "# GRADIENT DESCENT APPROACH:\n",
    "    \n",
    "# On Training Data: \n",
    "# rmse    :  0.403100812265153 \n",
    "# mse     :  0.16249026484882612 \n",
    "# rse     :  0.4063386218072241\n",
    "# r2 score:  0.8314906888028986\n",
    "\n",
    "# On Test Data: \n",
    "# rmse    :  0.32756471194131126 \n",
    "# mse     :  0.10729864050919423 \n",
    "# rse     :  0.33830737977438086 \n",
    "# r2 score:  0.9038068990189688\n",
    "\n",
    "# MINI BATCH GRADIENT DESCENT APPROACH:\n",
    "    \n",
    "# On Training Data:    \n",
    "# rmse    :  0.40316963738612077\n",
    "# mse     :  0.1625457565100561 \n",
    "# rse     :  0.40640799974928926\n",
    "# r2 score:  0.8314331415915641\n",
    "\n",
    "# On Test Data: \n",
    "# rmse    :  0.32781328532157356 \n",
    "# mse     :  0.10746155003332339 \n",
    "# rse     :  0.33830737977438086\n",
    "# r2 score:  0.9036608508283211"
   ]
  },
  {
   "cell_type": "markdown",
   "metadata": {},
   "source": [
    "# SUMMARY"
   ]
  },
  {
   "cell_type": "markdown",
   "metadata": {},
   "source": [
    "<b>\n",
    "HERE IS THE LIST OF THINGS I HAVE PERFORMED IN THIS PROJECT\n",
    "\n",
    "\n",
    "1) EXPLORATORY DATA ANALYSIS\n",
    "\n",
    "    (i)  Reading Data\n",
    "    \n",
    "    (ii) Understanding Data\n",
    "    \n",
    "    (iii)Dealing with Missing Values\n",
    "    \n",
    "    (iV) Plotting Data (Histograms, Relplots, Box plots and Heatmaps)\n",
    "    \n",
    "    (v)  Outlier Detection and treatment using IQR method\n",
    "    \n",
    "    (vi) Scaling of data using StandardScaler\n",
    "    \n",
    "    (vii)Splitting of data into trainset & testset\n",
    "    \n",
    "    \n",
    "2) MODELING\n",
    "\n",
    "    (i)  OLS Method & Linear Regression using Sklearn\n",
    "    \n",
    "    (ii) STOCHASTIC GRADIENT DESCENT using Sklearn\n",
    "    \n",
    "    (iii)GRADIENT DESCENT METHOD with convergence check included\n",
    "    \n",
    "    (iv) MINI-BATCH GRADIENT DESCENT METHOD with convergence check included\n",
    "    \n",
    "    \n",
    "3) MODEL ANALYSIS\n",
    "\n",
    "    (i) Analyse R2 score, MSE & RMSE values and conclude the best model\n",
    "</b>\n",
    "    \n",
    "<b>\n",
    "<i>\n",
    "4) CONCLUSION\n",
    "    \n",
    "    By analyzing the R2 score and error values of the 4 models, I have concluded that for the given dataset, \n",
    "    \"GRADIENT DESCENT\" is the best model as we got better R2 score with less error in less number of iterations\n",
    "    \n",
    "    This again is not fixed, it depends on the extent and type of data cleaning that we do\n",
    "    \n",
    "    It also seems to be slightly overfitting looking at the R2 scores on test data and this may be again because of the way we did cleaning and the outlier treatment considered. But, considering the small input data and the amount of data cleaning I had performed, I am concluding that GRADIENT DESCENT is my best model among the 4 models.\n",
    "</i>\n",
    "</b>\n"
   ]
  },
  {
   "cell_type": "code",
   "execution_count": null,
   "metadata": {},
   "outputs": [],
   "source": []
  }
 ],
 "metadata": {
  "kernelspec": {
   "display_name": "Python 3",
   "language": "python",
   "name": "python3"
  },
  "language_info": {
   "codemirror_mode": {
    "name": "ipython",
    "version": 3
   },
   "file_extension": ".py",
   "mimetype": "text/x-python",
   "name": "python",
   "nbconvert_exporter": "python",
   "pygments_lexer": "ipython3",
   "version": "3.8.5"
  }
 },
 "nbformat": 4,
 "nbformat_minor": 4
}
