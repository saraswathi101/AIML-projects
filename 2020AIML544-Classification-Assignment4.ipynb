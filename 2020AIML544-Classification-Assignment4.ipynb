{
 "cells": [
  {
   "cell_type": "markdown",
   "metadata": {},
   "source": [
    "#  2020AIML544 - CLASSIFICATION - ASSIGNMENT4\n",
    "\n",
    "## CAR ACCEPTABILITY PREDICTION"
   ]
  },
  {
   "cell_type": "markdown",
   "metadata": {},
   "source": [
    "## Overall Approach\n",
    "\n",
    "### EDA TASKS PERFORMED:\n",
    "    1. READ THE EXCEL FILE INTO A DATAFRAME  \n",
    "    2. CHECK THE STATISTICS OF DATA USING DESCRIBE FUNCTION\n",
    "    3. CHECK FOR DUPLICATE ROWS & NULL VALUES \n",
    "    4. CHANGE TO APPROPRIATE DATATYPES    \n",
    "    5. PAIRPLOTS & BARGRAPHS OF ATTRIBUTES\n",
    "    6. UNIVARIATE ANALYSIS \n",
    "    7. BIVARIATE ANALYSIS & HEATMAP TO SHOW CORRELATION\n",
    "\n",
    "### MODEL BUILDING:\n",
    "    1. STRATIFIED TRAIN TEST SPLIT \n",
    "    2. FEATURE SCALING USING STANDARD SCALER\n",
    "    3. BUILD SVM MODEL - \"ONE VS ONE\" APPROACH(DUE TO CLASS IMBALANCE)\n",
    "       A. WITH LINEAR KERNEL\n",
    "       B. WITH POLYNOMIAL KERNEL\n",
    "       C. WITH GAUSSIAN RADIAL BASIS FUNCTION KERNEL\n",
    "       D. WITH SIGMOID KERNEL\n",
    "    4. BUILD 5-FOLD CROSS-VALIDATION MODELS FOR THESE METHODS\n",
    "        \n",
    "### MODEL PERFORMANCE ANALYSIS:\n",
    "    1. FIND ACCURACY SCORES & F1 SCORES\n",
    "    2. PRINT CONFUSION MATRIX & CLASSIFICATION REPORTS\n",
    "    3. GRIDSEARCH CV FOR RADIAL BASIS FUNCTION KERNEL\n",
    "    4. FIND THE BEST KERNEL METHOD FOR SVM MODEL "
   ]
  },
  {
   "cell_type": "markdown",
   "metadata": {},
   "source": [
    "#### Import all needed libraries"
   ]
  },
  {
   "cell_type": "code",
   "execution_count": 1,
   "metadata": {},
   "outputs": [],
   "source": [
    "import pandas as pd\n",
    "import numpy as np\n",
    "import matplotlib.pyplot as plt\n",
    "import seaborn as sns\n",
    "import math\n",
    "\n",
    "from pandas import DataFrame\n",
    "from sklearn.model_selection import train_test_split\n",
    "from sklearn import preprocessing\n",
    "from sklearn.metrics import classification_report, confusion_matrix\n",
    "from sklearn.metrics import f1_score\n",
    "from sklearn.model_selection import cross_val_score, cross_val_predict\n",
    "from sklearn.preprocessing import StandardScaler\n",
    "from matplotlib import cm\n",
    "from sklearn.svm import SVC\n",
    "from sklearn.pipeline import Pipeline \n",
    "from sklearn.model_selection import GridSearchCV \n",
    "\n",
    "import warnings\n",
    "warnings.filterwarnings('ignore')\n",
    "pd.set_option('display.max_columns', None)"
   ]
  },
  {
   "cell_type": "markdown",
   "metadata": {},
   "source": [
    "## EXPLORATORY DATA ANALYSIS "
   ]
  },
  {
   "cell_type": "markdown",
   "metadata": {},
   "source": [
    "### <span style='background : yellow' > **Q-1: Import the data dataset from given URL:**   </span>"
   ]
  },
  {
   "cell_type": "markdown",
   "metadata": {},
   "source": [
    "#### Read the input excel file into a dataframe"
   ]
  },
  {
   "cell_type": "code",
   "execution_count": 2,
   "metadata": {},
   "outputs": [],
   "source": [
    "url =  \"https://archive.ics.uci.edu/ml/machine-learning-databases/car/car.data\"\n",
    "\n",
    "header = ['buying_price', 'maint_price', 'num_doors', 'num_persons', 'lug_boot', 'safety', 'output_class']\n",
    "\n",
    "df = pd.read_csv(url, names = header)"
   ]
  },
  {
   "cell_type": "markdown",
   "metadata": {},
   "source": [
    "#### Display information about the dataframe using head function"
   ]
  },
  {
   "cell_type": "code",
   "execution_count": 3,
   "metadata": {},
   "outputs": [
    {
     "data": {
      "text/html": [
       "<div>\n",
       "<style scoped>\n",
       "    .dataframe tbody tr th:only-of-type {\n",
       "        vertical-align: middle;\n",
       "    }\n",
       "\n",
       "    .dataframe tbody tr th {\n",
       "        vertical-align: top;\n",
       "    }\n",
       "\n",
       "    .dataframe thead th {\n",
       "        text-align: right;\n",
       "    }\n",
       "</style>\n",
       "<table border=\"1\" class=\"dataframe\">\n",
       "  <thead>\n",
       "    <tr style=\"text-align: right;\">\n",
       "      <th></th>\n",
       "      <th>buying_price</th>\n",
       "      <th>maint_price</th>\n",
       "      <th>num_doors</th>\n",
       "      <th>num_persons</th>\n",
       "      <th>lug_boot</th>\n",
       "      <th>safety</th>\n",
       "      <th>output_class</th>\n",
       "    </tr>\n",
       "  </thead>\n",
       "  <tbody>\n",
       "    <tr>\n",
       "      <th>0</th>\n",
       "      <td>vhigh</td>\n",
       "      <td>vhigh</td>\n",
       "      <td>2</td>\n",
       "      <td>2</td>\n",
       "      <td>small</td>\n",
       "      <td>low</td>\n",
       "      <td>unacc</td>\n",
       "    </tr>\n",
       "    <tr>\n",
       "      <th>1</th>\n",
       "      <td>vhigh</td>\n",
       "      <td>vhigh</td>\n",
       "      <td>2</td>\n",
       "      <td>2</td>\n",
       "      <td>small</td>\n",
       "      <td>med</td>\n",
       "      <td>unacc</td>\n",
       "    </tr>\n",
       "    <tr>\n",
       "      <th>2</th>\n",
       "      <td>vhigh</td>\n",
       "      <td>vhigh</td>\n",
       "      <td>2</td>\n",
       "      <td>2</td>\n",
       "      <td>small</td>\n",
       "      <td>high</td>\n",
       "      <td>unacc</td>\n",
       "    </tr>\n",
       "    <tr>\n",
       "      <th>3</th>\n",
       "      <td>vhigh</td>\n",
       "      <td>vhigh</td>\n",
       "      <td>2</td>\n",
       "      <td>2</td>\n",
       "      <td>med</td>\n",
       "      <td>low</td>\n",
       "      <td>unacc</td>\n",
       "    </tr>\n",
       "    <tr>\n",
       "      <th>4</th>\n",
       "      <td>vhigh</td>\n",
       "      <td>vhigh</td>\n",
       "      <td>2</td>\n",
       "      <td>2</td>\n",
       "      <td>med</td>\n",
       "      <td>med</td>\n",
       "      <td>unacc</td>\n",
       "    </tr>\n",
       "  </tbody>\n",
       "</table>\n",
       "</div>"
      ],
      "text/plain": [
       "  buying_price maint_price num_doors num_persons lug_boot safety output_class\n",
       "0        vhigh       vhigh         2           2    small    low        unacc\n",
       "1        vhigh       vhigh         2           2    small    med        unacc\n",
       "2        vhigh       vhigh         2           2    small   high        unacc\n",
       "3        vhigh       vhigh         2           2      med    low        unacc\n",
       "4        vhigh       vhigh         2           2      med    med        unacc"
      ]
     },
     "execution_count": 3,
     "metadata": {},
     "output_type": "execute_result"
    }
   ],
   "source": [
    "df.head()"
   ]
  },
  {
   "cell_type": "markdown",
   "metadata": {},
   "source": [
    "#### Check the number of records in the dataset using shape function"
   ]
  },
  {
   "cell_type": "code",
   "execution_count": 4,
   "metadata": {},
   "outputs": [
    {
     "data": {
      "text/plain": [
       "(1728, 7)"
      ]
     },
     "execution_count": 4,
     "metadata": {},
     "output_type": "execute_result"
    }
   ],
   "source": [
    "df.shape"
   ]
  },
  {
   "cell_type": "markdown",
   "metadata": {},
   "source": [
    "There are 1728 records and 7 attributes in the dataset."
   ]
  },
  {
   "cell_type": "markdown",
   "metadata": {},
   "source": [
    "Let's take a quick look at the columns"
   ]
  },
  {
   "cell_type": "code",
   "execution_count": 5,
   "metadata": {},
   "outputs": [
    {
     "data": {
      "text/plain": [
       "Index(['buying_price', 'maint_price', 'num_doors', 'num_persons', 'lug_boot',\n",
       "       'safety', 'output_class'],\n",
       "      dtype='object')"
      ]
     },
     "execution_count": 5,
     "metadata": {},
     "output_type": "execute_result"
    }
   ],
   "source": [
    "df.columns"
   ]
  },
  {
   "cell_type": "markdown",
   "metadata": {},
   "source": [
    "#### Check the statistics of attributes using describe function. "
   ]
  },
  {
   "cell_type": "code",
   "execution_count": 6,
   "metadata": {},
   "outputs": [
    {
     "data": {
      "text/html": [
       "<div>\n",
       "<style scoped>\n",
       "    .dataframe tbody tr th:only-of-type {\n",
       "        vertical-align: middle;\n",
       "    }\n",
       "\n",
       "    .dataframe tbody tr th {\n",
       "        vertical-align: top;\n",
       "    }\n",
       "\n",
       "    .dataframe thead th {\n",
       "        text-align: right;\n",
       "    }\n",
       "</style>\n",
       "<table border=\"1\" class=\"dataframe\">\n",
       "  <thead>\n",
       "    <tr style=\"text-align: right;\">\n",
       "      <th></th>\n",
       "      <th>buying_price</th>\n",
       "      <th>maint_price</th>\n",
       "      <th>num_doors</th>\n",
       "      <th>num_persons</th>\n",
       "      <th>lug_boot</th>\n",
       "      <th>safety</th>\n",
       "      <th>output_class</th>\n",
       "    </tr>\n",
       "  </thead>\n",
       "  <tbody>\n",
       "    <tr>\n",
       "      <th>count</th>\n",
       "      <td>1728</td>\n",
       "      <td>1728</td>\n",
       "      <td>1728</td>\n",
       "      <td>1728</td>\n",
       "      <td>1728</td>\n",
       "      <td>1728</td>\n",
       "      <td>1728</td>\n",
       "    </tr>\n",
       "    <tr>\n",
       "      <th>unique</th>\n",
       "      <td>4</td>\n",
       "      <td>4</td>\n",
       "      <td>4</td>\n",
       "      <td>3</td>\n",
       "      <td>3</td>\n",
       "      <td>3</td>\n",
       "      <td>4</td>\n",
       "    </tr>\n",
       "    <tr>\n",
       "      <th>top</th>\n",
       "      <td>low</td>\n",
       "      <td>low</td>\n",
       "      <td>5more</td>\n",
       "      <td>more</td>\n",
       "      <td>med</td>\n",
       "      <td>low</td>\n",
       "      <td>unacc</td>\n",
       "    </tr>\n",
       "    <tr>\n",
       "      <th>freq</th>\n",
       "      <td>432</td>\n",
       "      <td>432</td>\n",
       "      <td>432</td>\n",
       "      <td>576</td>\n",
       "      <td>576</td>\n",
       "      <td>576</td>\n",
       "      <td>1210</td>\n",
       "    </tr>\n",
       "  </tbody>\n",
       "</table>\n",
       "</div>"
      ],
      "text/plain": [
       "       buying_price maint_price num_doors num_persons lug_boot safety  \\\n",
       "count          1728        1728      1728        1728     1728   1728   \n",
       "unique            4           4         4           3        3      3   \n",
       "top             low         low     5more        more      med    low   \n",
       "freq            432         432       432         576      576    576   \n",
       "\n",
       "       output_class  \n",
       "count          1728  \n",
       "unique            4  \n",
       "top           unacc  \n",
       "freq           1210  "
      ]
     },
     "execution_count": 6,
     "metadata": {},
     "output_type": "execute_result"
    }
   ],
   "source": [
    "df.describe()"
   ]
  },
  {
   "cell_type": "markdown",
   "metadata": {},
   "source": [
    "**Observation:** This is the statistical summary of the data. Since our attributes are categorical, we cannot see the mean, median values, instead can find the unique values and top occurances"
   ]
  },
  {
   "cell_type": "markdown",
   "metadata": {},
   "source": [
    "### <span style='color: Black'>Data Cleaning </span>"
   ]
  },
  {
   "cell_type": "markdown",
   "metadata": {},
   "source": [
    "<b>\n",
    "Checking for duplicate rows\n",
    "</b>\n",
    "\n",
    "**Observation:** There are no duplicate rows in our dataset"
   ]
  },
  {
   "cell_type": "code",
   "execution_count": 7,
   "metadata": {},
   "outputs": [
    {
     "data": {
      "text/plain": [
       "0"
      ]
     },
     "execution_count": 7,
     "metadata": {},
     "output_type": "execute_result"
    }
   ],
   "source": [
    "dv = df.duplicated(keep=False)\n",
    "dv.sum()"
   ]
  },
  {
   "cell_type": "markdown",
   "metadata": {},
   "source": [
    "### <span style='color: Black'>Missing Values Imputation </span>"
   ]
  },
  {
   "cell_type": "markdown",
   "metadata": {},
   "source": [
    "**Observation:** There are no Null values in the data. "
   ]
  },
  {
   "cell_type": "code",
   "execution_count": 8,
   "metadata": {},
   "outputs": [
    {
     "data": {
      "text/plain": [
       "buying_price    0\n",
       "maint_price     0\n",
       "num_doors       0\n",
       "num_persons     0\n",
       "lug_boot        0\n",
       "safety          0\n",
       "output_class    0\n",
       "dtype: int64"
      ]
     },
     "execution_count": 8,
     "metadata": {},
     "output_type": "execute_result"
    }
   ],
   "source": [
    "df.isnull().sum()"
   ]
  },
  {
   "cell_type": "markdown",
   "metadata": {},
   "source": [
    "<b>\n",
    "Check the quality of the data and data types of each column using info function\n",
    "</b>\n",
    "\n",
    "**Observation:** The datatype of all the attributes is object, we need to do numerical encoding for model building purpose."
   ]
  },
  {
   "cell_type": "code",
   "execution_count": 9,
   "metadata": {},
   "outputs": [
    {
     "name": "stdout",
     "output_type": "stream",
     "text": [
      "<class 'pandas.core.frame.DataFrame'>\n",
      "RangeIndex: 1728 entries, 0 to 1727\n",
      "Data columns (total 7 columns):\n",
      " #   Column        Non-Null Count  Dtype \n",
      "---  ------        --------------  ----- \n",
      " 0   buying_price  1728 non-null   object\n",
      " 1   maint_price   1728 non-null   object\n",
      " 2   num_doors     1728 non-null   object\n",
      " 3   num_persons   1728 non-null   object\n",
      " 4   lug_boot      1728 non-null   object\n",
      " 5   safety        1728 non-null   object\n",
      " 6   output_class  1728 non-null   object\n",
      "dtypes: object(7)\n",
      "memory usage: 94.6+ KB\n"
     ]
    }
   ],
   "source": [
    "df.info()"
   ]
  },
  {
   "cell_type": "markdown",
   "metadata": {},
   "source": [
    "<b> Converting categorical to numerical encoding - ordinal values </b>"
   ]
  },
  {
   "cell_type": "code",
   "execution_count": 10,
   "metadata": {},
   "outputs": [
    {
     "data": {
      "text/html": [
       "<div>\n",
       "<style scoped>\n",
       "    .dataframe tbody tr th:only-of-type {\n",
       "        vertical-align: middle;\n",
       "    }\n",
       "\n",
       "    .dataframe tbody tr th {\n",
       "        vertical-align: top;\n",
       "    }\n",
       "\n",
       "    .dataframe thead th {\n",
       "        text-align: right;\n",
       "    }\n",
       "</style>\n",
       "<table border=\"1\" class=\"dataframe\">\n",
       "  <thead>\n",
       "    <tr style=\"text-align: right;\">\n",
       "      <th></th>\n",
       "      <th>buying_price</th>\n",
       "      <th>maint_price</th>\n",
       "      <th>num_doors</th>\n",
       "      <th>num_persons</th>\n",
       "      <th>lug_boot</th>\n",
       "      <th>safety</th>\n",
       "      <th>output_class</th>\n",
       "    </tr>\n",
       "  </thead>\n",
       "  <tbody>\n",
       "    <tr>\n",
       "      <th>0</th>\n",
       "      <td>1</td>\n",
       "      <td>1</td>\n",
       "      <td>2</td>\n",
       "      <td>2</td>\n",
       "      <td>1</td>\n",
       "      <td>1</td>\n",
       "      <td>1</td>\n",
       "    </tr>\n",
       "    <tr>\n",
       "      <th>1</th>\n",
       "      <td>1</td>\n",
       "      <td>1</td>\n",
       "      <td>2</td>\n",
       "      <td>2</td>\n",
       "      <td>1</td>\n",
       "      <td>2</td>\n",
       "      <td>1</td>\n",
       "    </tr>\n",
       "    <tr>\n",
       "      <th>2</th>\n",
       "      <td>1</td>\n",
       "      <td>1</td>\n",
       "      <td>2</td>\n",
       "      <td>2</td>\n",
       "      <td>1</td>\n",
       "      <td>3</td>\n",
       "      <td>1</td>\n",
       "    </tr>\n",
       "    <tr>\n",
       "      <th>3</th>\n",
       "      <td>1</td>\n",
       "      <td>1</td>\n",
       "      <td>2</td>\n",
       "      <td>2</td>\n",
       "      <td>2</td>\n",
       "      <td>1</td>\n",
       "      <td>1</td>\n",
       "    </tr>\n",
       "    <tr>\n",
       "      <th>4</th>\n",
       "      <td>1</td>\n",
       "      <td>1</td>\n",
       "      <td>2</td>\n",
       "      <td>2</td>\n",
       "      <td>2</td>\n",
       "      <td>2</td>\n",
       "      <td>1</td>\n",
       "    </tr>\n",
       "  </tbody>\n",
       "</table>\n",
       "</div>"
      ],
      "text/plain": [
       "   buying_price  maint_price  num_doors  num_persons  lug_boot  safety  \\\n",
       "0             1            1          2            2         1       1   \n",
       "1             1            1          2            2         1       2   \n",
       "2             1            1          2            2         1       3   \n",
       "3             1            1          2            2         2       1   \n",
       "4             1            1          2            2         2       2   \n",
       "\n",
       "   output_class  \n",
       "0             1  \n",
       "1             1  \n",
       "2             1  \n",
       "3             1  \n",
       "4             1  "
      ]
     },
     "execution_count": 10,
     "metadata": {},
     "output_type": "execute_result"
    }
   ],
   "source": [
    "df1 = df.copy()\n",
    "\n",
    "cleanup_nums = {\"buying_price\": {\"vhigh\": 1, \"high\": 2, \"med\": 3, \"low\": 4 },\n",
    "               \"maint_price\": {\"vhigh\": 1, \"high\": 2, \"med\": 3, \"low\": 4},\n",
    "               \"num_doors\": {\"2\": 2, \"3\": 3, \"4\": 4, \"5more\": 5},\n",
    "               \"num_persons\": {\"2\": 2, \"4\": 4, \"more\": 5},\n",
    "               \"lug_boot\": {\"small\": 1, \"med\": 2, \"big\": 3},\n",
    "               \"safety\": {\"low\": 1, \"med\": 2, \"high\": 3},\n",
    "               \"output_class\": {\"unacc\": 1, \"acc\": 2, \"good\": 3, \"vgood\": 4}\n",
    "               }\n",
    "\n",
    "df1 = df1.replace(cleanup_nums)\n",
    "df1.head()"
   ]
  },
  {
   "cell_type": "code",
   "execution_count": 11,
   "metadata": {},
   "outputs": [
    {
     "name": "stdout",
     "output_type": "stream",
     "text": [
      "<class 'pandas.core.frame.DataFrame'>\n",
      "RangeIndex: 1728 entries, 0 to 1727\n",
      "Data columns (total 7 columns):\n",
      " #   Column        Non-Null Count  Dtype\n",
      "---  ------        --------------  -----\n",
      " 0   buying_price  1728 non-null   int64\n",
      " 1   maint_price   1728 non-null   int64\n",
      " 2   num_doors     1728 non-null   int64\n",
      " 3   num_persons   1728 non-null   int64\n",
      " 4   lug_boot      1728 non-null   int64\n",
      " 5   safety        1728 non-null   int64\n",
      " 6   output_class  1728 non-null   int64\n",
      "dtypes: int64(7)\n",
      "memory usage: 94.6 KB\n"
     ]
    }
   ],
   "source": [
    "# All the datatypes are \"int\" now\n",
    "df1.info()"
   ]
  },
  {
   "cell_type": "markdown",
   "metadata": {},
   "source": [
    "### <span style='background : yellow' > **Q-2: Extract X as all columns except the last column and Y as the last column."
   ]
  },
  {
   "cell_type": "code",
   "execution_count": 12,
   "metadata": {},
   "outputs": [],
   "source": [
    "X = df1.drop('output_class', axis=1)\n",
    "# X = df1[['buying_price', 'safety']]\n",
    "y = df1['output_class']"
   ]
  },
  {
   "cell_type": "markdown",
   "metadata": {},
   "source": [
    "### <span style='background : yellow' > **Q-3: Data Visualization (using Pairplots & Bargraphs)"
   ]
  },
  {
   "cell_type": "code",
   "execution_count": 13,
   "metadata": {},
   "outputs": [
    {
     "data": {
      "text/plain": [
       "<seaborn.axisgrid.PairGrid at 0x1f655e66040>"
      ]
     },
     "execution_count": 13,
     "metadata": {},
     "output_type": "execute_result"
    },
    {
     "data": {
      "image/png": "[encoded data removed]",
      "text/plain": [
       "<Figure size 1260x1260 with 56 Axes>"
      ]
     },
     "metadata": {
      "needs_background": "light"
     },
     "output_type": "display_data"
    }
   ],
   "source": [
    "sns.pairplot(df1)"
   ]
  },
  {
   "cell_type": "markdown",
   "metadata": {},
   "source": [
    "### UNIVARIATE ANALYSIS - BARGRAPHS"
   ]
  },
  {
   "cell_type": "code",
   "execution_count": 14,
   "metadata": {},
   "outputs": [
    {
     "data": {
      "text/plain": [
       "<AxesSubplot:title={'center':'num_doors'}>"
      ]
     },
     "execution_count": 14,
     "metadata": {},
     "output_type": "execute_result"
    },
    {
     "data": {
      "image/png": "[encoded data removed]",
      "text/plain": [
       "<Figure size 1440x720 with 4 Axes>"
      ]
     },
     "metadata": {
      "needs_background": "light"
     },
     "output_type": "display_data"
    }
   ],
   "source": [
    "cmap = cm.get_cmap('jet')\n",
    "cmap1 = cm.get_cmap('Spectral')\n",
    "df['output_class'].value_counts().plot.barh(cmap=cmap)\n",
    "\n",
    "plt.figure(1)\n",
    "\n",
    "plt.subplot(221) \n",
    "df['output_class'].value_counts(normalize=True).plot.bar(figsize=(20,10), cmap=cmap, title= 'output_class') \n",
    "\n",
    "plt.subplot(222) \n",
    "df['buying_price'].value_counts(normalize=True).plot.bar(title= 'buying_price', cmap=cmap1) \n",
    "\n",
    "plt.subplot(223) \n",
    "df['maint_price'].value_counts(normalize=True).plot.bar(title= 'maint_price', cmap=cmap1) \n",
    "\n",
    "plt.subplot(224) \n",
    "df['num_doors'].value_counts(normalize=True).plot.bar(title= 'num_doors', cmap=cmap)"
   ]
  },
  {
   "cell_type": "code",
   "execution_count": 15,
   "metadata": {},
   "outputs": [
    {
     "data": {
      "text/plain": [
       "<AxesSubplot:title={'center':'safety'}>"
      ]
     },
     "execution_count": 15,
     "metadata": {},
     "output_type": "execute_result"
    },
    {
     "data": {
      "image/png": "[encoded data removed]",
      "text/plain": [
       "<Figure size 1440x720 with 2 Axes>"
      ]
     },
     "metadata": {
      "needs_background": "light"
     },
     "output_type": "display_data"
    }
   ],
   "source": [
    "plt.figure(2)\n",
    "\n",
    "plt.subplot(221) \n",
    "df['lug_boot'].value_counts(normalize=True).plot.bar(figsize=(20,10), cmap=cmap, title= 'lug_boot') \n",
    "\n",
    "plt.subplot(222) \n",
    "df['safety'].value_counts(normalize=True).plot.bar(title= 'safety', cmap=cmap1) "
   ]
  },
  {
   "cell_type": "markdown",
   "metadata": {},
   "source": [
    "### <span style='background : yellow' > **Q-4: VISUALIZE CORRELATION BETWEEN ALL THE VARIABLE\n",
    "### BIVARIATE ANALYSIS"
   ]
  },
  {
   "cell_type": "code",
   "execution_count": 16,
   "metadata": {},
   "outputs": [
    {
     "data": {
      "image/png": "[encoded data removed]",
      "text/plain": [
       "<Figure size 432x288 with 1 Axes>"
      ]
     },
     "metadata": {
      "needs_background": "light"
     },
     "output_type": "display_data"
    },
    {
     "data": {
      "image/png": "[encoded data removed]",
      "text/plain": [
       "<Figure size 432x288 with 1 Axes>"
      ]
     },
     "metadata": {
      "needs_background": "light"
     },
     "output_type": "display_data"
    },
    {
     "data": {
      "image/png": "[encoded data removed]",
      "text/plain": [
       "<Figure size 432x288 with 1 Axes>"
      ]
     },
     "metadata": {
      "needs_background": "light"
     },
     "output_type": "display_data"
    },
    {
     "data": {
      "image/png": "[encoded data removed]",
      "text/plain": [
       "<Figure size 432x288 with 1 Axes>"
      ]
     },
     "metadata": {
      "needs_background": "light"
     },
     "output_type": "display_data"
    },
    {
     "data": {
      "image/png": "[encoded data removed]",
      "text/plain": [
       "<Figure size 432x288 with 1 Axes>"
      ]
     },
     "metadata": {
      "needs_background": "light"
     },
     "output_type": "display_data"
    },
    {
     "data": {
      "image/png": "[encoded data removed]",
      "text/plain": [
       "<Figure size 432x288 with 1 Axes>"
      ]
     },
     "metadata": {
      "needs_background": "light"
     },
     "output_type": "display_data"
    }
   ],
   "source": [
    "cmap = cm.get_cmap('jet')\n",
    "cmap1 = cm.get_cmap('Spectral')\n",
    "\n",
    "for (columnName, columnData) in df.iteritems():\n",
    "    if columnName != 'output_class':\n",
    "        Bivariate_Plot = pd.crosstab(df[columnName],df['output_class'])\n",
    "        Bivariate_Plot.div(Bivariate_Plot.sum(1).astype(float), axis=0).plot(kind=\"barh\", cmap=cmap, stacked=True) \n",
    "        plt.show()"
   ]
  },
  {
   "cell_type": "code",
   "execution_count": 17,
   "metadata": {},
   "outputs": [
    {
     "data": {
      "image/png": "[encoded data removed]",
      "text/plain": [
       "<Figure size 432x288 with 1 Axes>"
      ]
     },
     "metadata": {
      "needs_background": "light"
     },
     "output_type": "display_data"
    },
    {
     "data": {
      "image/png": "[encoded data removed]",
      "text/plain": [
       "<Figure size 432x288 with 1 Axes>"
      ]
     },
     "metadata": {
      "needs_background": "light"
     },
     "output_type": "display_data"
    },
    {
     "data": {
      "image/png": "[encoded data removed]",
      "text/plain": [
       "<Figure size 432x288 with 1 Axes>"
      ]
     },
     "metadata": {
      "needs_background": "light"
     },
     "output_type": "display_data"
    },
    {
     "data": {
      "image/png": "[encoded data removed]",
      "text/plain": [
       "<Figure size 432x288 with 1 Axes>"
      ]
     },
     "metadata": {
      "needs_background": "light"
     },
     "output_type": "display_data"
    },
    {
     "data": {
      "image/png": "[encoded data removed]",
      "text/plain": [
       "<Figure size 432x288 with 1 Axes>"
      ]
     },
     "metadata": {
      "needs_background": "light"
     },
     "output_type": "display_data"
    }
   ],
   "source": [
    "day=pd.crosstab(df['buying_price'],df['maint_price']) \n",
    "day.div(day.sum(1).astype(float), axis=0).plot(kind=\"barh\", cmap=cmap, stacked=True) \n",
    "plt.show()\n",
    "\n",
    "Surge=pd.crosstab(df['buying_price'],df['num_doors']) \n",
    "Surge.div(Surge.sum(1).astype(float), axis=0).plot(kind=\"barh\", cmap=cmap, stacked=True) \n",
    "plt.show()\n",
    "\n",
    "Time=pd.crosstab(df['buying_price'],df['num_persons']) \n",
    "Time.div(Time.sum(1).astype(float), axis=0).plot(kind=\"barh\", cmap=cmap, stacked=True) \n",
    "plt.show()\n",
    "\n",
    "status=pd.crosstab(df['buying_price'],df['lug_boot']) \n",
    "status.div(status.sum(1).astype(float), axis=0).plot(kind=\"barh\", cmap=cmap, stacked=True) \n",
    "plt.show()\n",
    "\n",
    "day=pd.crosstab(df['buying_price'],df['safety']) \n",
    "day.div(day.sum(1).astype(float), axis=0).plot(kind=\"barh\", cmap=cmap, stacked=True) \n",
    "plt.show()"
   ]
  },
  {
   "cell_type": "code",
   "execution_count": 18,
   "metadata": {},
   "outputs": [
    {
     "data": {
      "image/png": "[encoded data removed]",
      "text/plain": [
       "<Figure size 432x288 with 1 Axes>"
      ]
     },
     "metadata": {
      "needs_background": "light"
     },
     "output_type": "display_data"
    },
    {
     "data": {
      "image/png": "[encoded data removed]",
      "text/plain": [
       "<Figure size 432x288 with 1 Axes>"
      ]
     },
     "metadata": {
      "needs_background": "light"
     },
     "output_type": "display_data"
    },
    {
     "data": {
      "image/png": "[encoded data removed]",
      "text/plain": [
       "<Figure size 432x288 with 1 Axes>"
      ]
     },
     "metadata": {
      "needs_background": "light"
     },
     "output_type": "display_data"
    },
    {
     "data": {
      "image/png": "[encoded data removed]",
      "text/plain": [
       "<Figure size 432x288 with 1 Axes>"
      ]
     },
     "metadata": {
      "needs_background": "light"
     },
     "output_type": "display_data"
    }
   ],
   "source": [
    "Surge=pd.crosstab(df['maint_price'],df['num_doors']) \n",
    "Surge.div(Surge.sum(1).astype(float), axis=0).plot(kind=\"barh\", cmap=cmap, stacked=True) \n",
    "plt.show()\n",
    "\n",
    "Time=pd.crosstab(df['maint_price'],df['num_persons']) \n",
    "Time.div(Time.sum(1).astype(float), axis=0).plot(kind=\"barh\", cmap=cmap, stacked=True) \n",
    "plt.show()\n",
    "\n",
    "status=pd.crosstab(df['maint_price'],df['lug_boot']) \n",
    "status.div(status.sum(1).astype(float), axis=0).plot(kind=\"barh\", cmap=cmap, stacked=True) \n",
    "plt.show()\n",
    "\n",
    "day=pd.crosstab(df['maint_price'],df['safety']) \n",
    "day.div(day.sum(1).astype(float), axis=0).plot(kind=\"barh\", cmap=cmap, stacked=True) \n",
    "plt.show()"
   ]
  },
  {
   "cell_type": "code",
   "execution_count": 19,
   "metadata": {},
   "outputs": [
    {
     "data": {
      "image/png": "[encoded data removed]",
      "text/plain": [
       "<Figure size 432x288 with 1 Axes>"
      ]
     },
     "metadata": {
      "needs_background": "light"
     },
     "output_type": "display_data"
    },
    {
     "data": {
      "image/png": "[encoded data removed]",
      "text/plain": [
       "<Figure size 432x288 with 1 Axes>"
      ]
     },
     "metadata": {
      "needs_background": "light"
     },
     "output_type": "display_data"
    },
    {
     "data": {
      "image/png": "[encoded data removed]",
      "text/plain": [
       "<Figure size 432x288 with 1 Axes>"
      ]
     },
     "metadata": {
      "needs_background": "light"
     },
     "output_type": "display_data"
    },
    {
     "data": {
      "image/png": "[encoded data removed]",
      "text/plain": [
       "<Figure size 432x288 with 1 Axes>"
      ]
     },
     "metadata": {
      "needs_background": "light"
     },
     "output_type": "display_data"
    },
    {
     "data": {
      "image/png": "[encoded data removed]",
      "text/plain": [
       "<Figure size 432x288 with 1 Axes>"
      ]
     },
     "metadata": {
      "needs_background": "light"
     },
     "output_type": "display_data"
    }
   ],
   "source": [
    "Time=pd.crosstab(df['num_doors'],df['num_persons']) \n",
    "Time.div(Time.sum(1).astype(float), axis=0).plot(kind=\"barh\", cmap=cmap, stacked=True) \n",
    "plt.show()\n",
    "\n",
    "status=pd.crosstab(df['num_doors'],df['lug_boot']) \n",
    "status.div(status.sum(1).astype(float), axis=0).plot(kind=\"barh\", cmap=cmap, stacked=True) \n",
    "plt.show()\n",
    "\n",
    "day=pd.crosstab(df['num_doors'],df['safety']) \n",
    "day.div(day.sum(1).astype(float), axis=0).plot(kind=\"barh\", cmap=cmap, stacked=True) \n",
    "plt.show()\n",
    "\n",
    "day=pd.crosstab(df['num_persons'],df['lug_boot']) \n",
    "day.div(day.sum(1).astype(float), axis=0).plot(kind=\"barh\", cmap=cmap, stacked=True) \n",
    "plt.show()\n",
    "\n",
    "day=pd.crosstab(df['num_persons'],df['safety']) \n",
    "day.div(day.sum(1).astype(float), axis=0).plot(kind=\"barh\", cmap=cmap, stacked=True) \n",
    "plt.show()"
   ]
  },
  {
   "cell_type": "markdown",
   "metadata": {},
   "source": [
    "<span style='color:Black'>\n",
    "<b>\n",
    "\n",
    "HEATMAP TO CHECK CORRELATION \n",
    "</b>\n",
    "</span>\n"
   ]
  },
  {
   "cell_type": "code",
   "execution_count": 20,
   "metadata": {},
   "outputs": [
    {
     "data": {
      "text/plain": [
       "<AxesSubplot:>"
      ]
     },
     "execution_count": 20,
     "metadata": {},
     "output_type": "execute_result"
    },
    {
     "data": {
      "image/png": "[encoded data removed]",
      "text/plain": [
       "<Figure size 864x720 with 2 Axes>"
      ]
     },
     "metadata": {
      "needs_background": "light"
     },
     "output_type": "display_data"
    }
   ],
   "source": [
    "plt.figure(figsize=(12, 10))\n",
    "correlation = df1.corr()\n",
    "sns.heatmap(correlation,xticklabels=correlation.columns, yticklabels=correlation.columns,annot=True)"
   ]
  },
  {
   "cell_type": "markdown",
   "metadata": {},
   "source": [
    "### <span style='background : yellow' > **Q-5: Feature Scaling:**   </span>"
   ]
  },
  {
   "cell_type": "code",
   "execution_count": 21,
   "metadata": {},
   "outputs": [],
   "source": [
    "sc = StandardScaler()\n",
    "\n",
    "X = sc.fit_transform(X)"
   ]
  },
  {
   "cell_type": "markdown",
   "metadata": {},
   "source": [
    "### <span style='background : yellow' > **Q-6: Stratified Train-Test Split**   </span>"
   ]
  },
  {
   "cell_type": "markdown",
   "metadata": {},
   "source": [
    "#### <span style='color:Black'> Now lets start to prepare our data for Modeling. For this, I am going to split the data into 75:25 for traindata:testdata\n",
    "#### Tried 80:20 & 70:30 split ratios however 75:25 gives better accuracy scores. After splitting I'll scale the data using Standard Scaler. \n",
    "#### StandardScaler follows Standard Normal Distribution. Therefore, it makes mean = 0 and scales the data to unit variance.\n",
    "</span>"
   ]
  },
  {
   "cell_type": "code",
   "execution_count": 22,
   "metadata": {},
   "outputs": [],
   "source": [
    "X_train, X_test, y_train, y_test = train_test_split(X, y, test_size=0.25, random_state=0,stratify=y) "
   ]
  },
  {
   "cell_type": "markdown",
   "metadata": {},
   "source": [
    "### <span style='background : yellow' > **Q-8: Build SVM model for the dataset**   </span>"
   ]
  },
  {
   "cell_type": "markdown",
   "metadata": {},
   "source": [
    "### BUILD \"ONE VS ONE\" SVM MODELS FOR DIFFERENT KERNEL METHODS"
   ]
  },
  {
   "cell_type": "code",
   "execution_count": 23,
   "metadata": {},
   "outputs": [],
   "source": [
    "linear = SVC(kernel='linear', C=1, decision_function_shape='ovo').fit(X_train, y_train)\n",
    "poly   = SVC(kernel='poly', degree=3, C=1, decision_function_shape='ovo').fit(X_train, y_train)\n",
    "rbf    = SVC(kernel='rbf', gamma=1, C=1, decision_function_shape='ovo').fit(X_train, y_train)\n",
    "sig    = SVC(kernel='sigmoid', C=1, decision_function_shape='ovo').fit(X_train, y_train)\n",
    "\n",
    "# print(\"Linear SVM support vectors:\\n\", linear.support_vectors_)\n",
    "# print(\"Polynomial SVM support vectors:\\n\", poly.support_vectors_)\n",
    "# print(\"RBF SVM support vectors:\\n\", rbf.support_vectors_)\n",
    "# print(\"Sigmoid SVM support vectors:\\n\", sig.support_vectors_)"
   ]
  },
  {
   "cell_type": "code",
   "execution_count": 24,
   "metadata": {},
   "outputs": [],
   "source": [
    "y_test_pred_lin = linear.predict(X_test)\n",
    "f1_SVC_lin = f1_score(y_test, y_test_pred_lin, average='weighted')\n",
    "\n",
    "y_test_pred_poly = poly.predict(X_test)\n",
    "f1_SVC_poly = f1_score(y_test, y_test_pred_poly, average='weighted')\n",
    "\n",
    "y_test_pred_rbf = rbf.predict(X_test)\n",
    "f1_SVC_rbf = f1_score(y_test, y_test_pred_rbf, average='weighted')\n",
    "\n",
    "y_test_pred_sig = sig.predict(X_test)\n",
    "f1_SVC_sig = f1_score(y_test, y_test_pred_sig, average='weighted')"
   ]
  },
  {
   "cell_type": "markdown",
   "metadata": {},
   "source": [
    "### <span style='background : yellow' > **Q-9: Print CONFUSION MATRIX & CLASSIFICATION REPORTS**   </span>"
   ]
  },
  {
   "cell_type": "code",
   "execution_count": 25,
   "metadata": {},
   "outputs": [
    {
     "name": "stdout",
     "output_type": "stream",
     "text": [
      "\n",
      "\n",
      " CONFUSION MATRIX for linear SVM\n",
      "\n",
      " [[292  10   0   1]\n",
      " [ 31  64   1   0]\n",
      " [  1   0  15   1]\n",
      " [  0   3   1  12]]\n",
      "\n",
      "\n",
      " CLASSIFICATION REPORT for linear SVM\n",
      "\n",
      "               precision    recall  f1-score   support\n",
      "\n",
      "           1       0.90      0.96      0.93       303\n",
      "           2       0.83      0.67      0.74        96\n",
      "           3       0.88      0.88      0.88        17\n",
      "           4       0.86      0.75      0.80        16\n",
      "\n",
      "    accuracy                           0.89       432\n",
      "   macro avg       0.87      0.82      0.84       432\n",
      "weighted avg       0.88      0.89      0.88       432\n",
      "\n"
     ]
    }
   ],
   "source": [
    "print('\\n\\n CONFUSION MATRIX for linear SVM\\n\\n', confusion_matrix(y_test, y_test_pred_lin))\n",
    "print('\\n\\n CLASSIFICATION REPORT for linear SVM\\n\\n', classification_report(y_test, y_test_pred_lin))"
   ]
  },
  {
   "cell_type": "code",
   "execution_count": 26,
   "metadata": {},
   "outputs": [
    {
     "name": "stdout",
     "output_type": "stream",
     "text": [
      "\n",
      "\n",
      " CONFUSION MATRIX for polynomial SVM\n",
      "\n",
      " [[296   7   0   0]\n",
      " [ 27  68   1   0]\n",
      " [  2   4  10   1]\n",
      " [  0   2   0  14]]\n",
      "\n",
      "\n",
      " CLASSIFICATION REPORT for polynomial SVM\n",
      "\n",
      "               precision    recall  f1-score   support\n",
      "\n",
      "           1       0.91      0.98      0.94       303\n",
      "           2       0.84      0.71      0.77        96\n",
      "           3       0.91      0.59      0.71        17\n",
      "           4       0.93      0.88      0.90        16\n",
      "\n",
      "    accuracy                           0.90       432\n",
      "   macro avg       0.90      0.79      0.83       432\n",
      "weighted avg       0.90      0.90      0.89       432\n",
      "\n"
     ]
    }
   ],
   "source": [
    "print('\\n\\n CONFUSION MATRIX for polynomial SVM\\n\\n', confusion_matrix(y_test, y_test_pred_poly))\n",
    "print('\\n\\n CLASSIFICATION REPORT for polynomial SVM\\n\\n', classification_report(y_test, y_test_pred_poly))"
   ]
  },
  {
   "cell_type": "code",
   "execution_count": 27,
   "metadata": {},
   "outputs": [
    {
     "name": "stdout",
     "output_type": "stream",
     "text": [
      "\n",
      "\n",
      " CONFUSION MATRIX for gaussian rbf SVM\n",
      "\n",
      " [[300   3   0   0]\n",
      " [  4  92   0   0]\n",
      " [  0   1  15   1]\n",
      " [  0   1   1  14]]\n",
      "\n",
      "\n",
      " CLASSIFICATION REPORT for gaussian rbf SVM\n",
      "\n",
      "               precision    recall  f1-score   support\n",
      "\n",
      "           1       0.99      0.99      0.99       303\n",
      "           2       0.95      0.96      0.95        96\n",
      "           3       0.94      0.88      0.91        17\n",
      "           4       0.93      0.88      0.90        16\n",
      "\n",
      "    accuracy                           0.97       432\n",
      "   macro avg       0.95      0.93      0.94       432\n",
      "weighted avg       0.97      0.97      0.97       432\n",
      "\n"
     ]
    }
   ],
   "source": [
    "print('\\n\\n CONFUSION MATRIX for gaussian rbf SVM\\n\\n', confusion_matrix(y_test, y_test_pred_rbf))\n",
    "print('\\n\\n CLASSIFICATION REPORT for gaussian rbf SVM\\n\\n', classification_report(y_test, y_test_pred_rbf))"
   ]
  },
  {
   "cell_type": "code",
   "execution_count": 28,
   "metadata": {},
   "outputs": [
    {
     "name": "stdout",
     "output_type": "stream",
     "text": [
      "\n",
      "\n",
      " CONFUSION MATRIX for sigmoid SVM\n",
      "\n",
      " [[275  25   2   1]\n",
      " [ 47  47   1   1]\n",
      " [  3   9   4   1]\n",
      " [  1   5   2   8]]\n",
      "\n",
      "\n",
      " CLASSIFICATION REPORT for sigmoid SVM\n",
      "\n",
      "               precision    recall  f1-score   support\n",
      "\n",
      "           1       0.84      0.91      0.87       303\n",
      "           2       0.55      0.49      0.52        96\n",
      "           3       0.44      0.24      0.31        17\n",
      "           4       0.73      0.50      0.59        16\n",
      "\n",
      "    accuracy                           0.77       432\n",
      "   macro avg       0.64      0.53      0.57       432\n",
      "weighted avg       0.76      0.77      0.76       432\n",
      "\n"
     ]
    }
   ],
   "source": [
    "print('\\n\\n CONFUSION MATRIX for sigmoid SVM\\n\\n', confusion_matrix(y_test, y_test_pred_sig))\n",
    "print('\\n\\n CLASSIFICATION REPORT for sigmoid SVM\\n\\n', classification_report(y_test, y_test_pred_sig))"
   ]
  },
  {
   "cell_type": "code",
   "execution_count": 29,
   "metadata": {},
   "outputs": [
    {
     "data": {
      "image/png": "[encoded data removed]",
      "text/plain": [
       "<Figure size 430.75x360 with 1 Axes>"
      ]
     },
     "metadata": {
      "needs_background": "light"
     },
     "output_type": "display_data"
    }
   ],
   "source": [
    "# Plot two features - just for an idea. Since we have 6 features, it will be a 6-Dimensional and difficult to visualize\n",
    "sns.lmplot('lug_boot','safety', data=df1, hue='output_class', palette='Set1', fit_reg=False, scatter_kws={\"s\": 70});"
   ]
  },
  {
   "cell_type": "markdown",
   "metadata": {},
   "source": [
    "### <span style='background : yellow' > **Q-7: Perform 5-fold cross-validation**   </span>"
   ]
  },
  {
   "cell_type": "markdown",
   "metadata": {},
   "source": [
    "### Linear SVM - 5-fold cross-validation"
   ]
  },
  {
   "cell_type": "code",
   "execution_count": 30,
   "metadata": {},
   "outputs": [
    {
     "name": "stdout",
     "output_type": "stream",
     "text": [
      "cross validation scores:\n",
      "\n",
      " [0.84615385 0.84169884 0.86872587 0.86100386 0.88416988]\n",
      "\n",
      "\n",
      " CONFUSION MATRIX \n",
      "\n",
      " True         1   2   3   4  All\n",
      "Predicted                      \n",
      "1          287  15   1   0  303\n",
      "2           28  66   1   1   96\n",
      "3            1   6   9   1   17\n",
      "4            0   2   3  11   16\n",
      "All        316  89  14  13  432\n",
      "\n",
      "\n",
      " CLASSIFICATION REPORT \n",
      "\n",
      "               precision    recall  f1-score   support\n",
      "\n",
      "           1       0.91      0.95      0.93       303\n",
      "           2       0.74      0.69      0.71        96\n",
      "           3       0.64      0.53      0.58        17\n",
      "           4       0.85      0.69      0.76        16\n",
      "\n",
      "    accuracy                           0.86       432\n",
      "   macro avg       0.78      0.71      0.75       432\n",
      "weighted avg       0.86      0.86      0.86       432\n",
      "\n"
     ]
    }
   ],
   "source": [
    "print(\"cross validation scores:\\n\\n\", cross_val_score(linear, X_train, y_train, cv=5, scoring='accuracy'))\n",
    "\n",
    "y_test_pred = cross_val_predict(linear, X_test, y_test, cv=5)\n",
    "\n",
    "f1_CV_lin = f1_score(y_test, y_test_pred, average='weighted')\n",
    "\n",
    "print('\\n\\n CONFUSION MATRIX \\n\\n', pd.crosstab(y_test,y_test_pred,rownames=['Predicted'],colnames=['True'],margins=True))\n",
    "print('\\n\\n CLASSIFICATION REPORT \\n\\n', classification_report(y_test, y_test_pred))"
   ]
  },
  {
   "cell_type": "markdown",
   "metadata": {},
   "source": [
    "### Polynomial SVM - 5-fold cross-validation"
   ]
  },
  {
   "cell_type": "code",
   "execution_count": 31,
   "metadata": {},
   "outputs": [
    {
     "name": "stdout",
     "output_type": "stream",
     "text": [
      "cross validation scores:\n",
      "\n",
      " [0.86538462 0.88416988 0.88416988 0.87258687 0.9034749 ]\n",
      "\n",
      "\n",
      " CONFUSION MATRIX \n",
      "\n",
      " True         1   2  3   4  All\n",
      "Predicted                     \n",
      "1          293  10  0   0  303\n",
      "2           41  54  1   0   96\n",
      "3            2   8  6   1   17\n",
      "4            1   3  2  10   16\n",
      "All        337  75  9  11  432\n",
      "\n",
      "\n",
      " CLASSIFICATION REPORT \n",
      "\n",
      "               precision    recall  f1-score   support\n",
      "\n",
      "           1       0.87      0.97      0.92       303\n",
      "           2       0.72      0.56      0.63        96\n",
      "           3       0.67      0.35      0.46        17\n",
      "           4       0.91      0.62      0.74        16\n",
      "\n",
      "    accuracy                           0.84       432\n",
      "   macro avg       0.79      0.63      0.69       432\n",
      "weighted avg       0.83      0.84      0.83       432\n",
      "\n"
     ]
    }
   ],
   "source": [
    "print(\"cross validation scores:\\n\\n\", cross_val_score(poly, X_train, y_train, cv=5, scoring='accuracy'))\n",
    "\n",
    "y_test_pred = cross_val_predict(poly, X_test, y_test, cv=5)\n",
    "\n",
    "f1_CV_poly = f1_score(y_test, y_test_pred, average='weighted')\n",
    "\n",
    "print('\\n\\n CONFUSION MATRIX \\n\\n', pd.crosstab(y_test,y_test_pred,rownames=['Predicted'],colnames=['True'],margins=True))\n",
    "print('\\n\\n CLASSIFICATION REPORT \\n\\n', classification_report(y_test, y_test_pred))"
   ]
  },
  {
   "cell_type": "markdown",
   "metadata": {},
   "source": [
    "### Gaussian Radial Basis Function - 5-fold cross-validation"
   ]
  },
  {
   "cell_type": "code",
   "execution_count": 32,
   "metadata": {},
   "outputs": [
    {
     "name": "stdout",
     "output_type": "stream",
     "text": [
      "cross validation scores:\n",
      "\n",
      " [0.96538462 0.96525097 0.97683398 0.96138996 0.98069498]\n",
      "\n",
      "\n",
      " CONFUSION MATRIX \n",
      "\n",
      " True         1   2  3  4  All\n",
      "Predicted                    \n",
      "1          302   1  0  0  303\n",
      "2           20  74  1  1   96\n",
      "3            9   8  0  0   17\n",
      "4            4   4  0  8   16\n",
      "All        335  87  1  9  432\n",
      "\n",
      "\n",
      " CLASSIFICATION REPORT \n",
      "\n",
      "               precision    recall  f1-score   support\n",
      "\n",
      "           1       0.90      1.00      0.95       303\n",
      "           2       0.85      0.77      0.81        96\n",
      "           3       0.00      0.00      0.00        17\n",
      "           4       0.89      0.50      0.64        16\n",
      "\n",
      "    accuracy                           0.89       432\n",
      "   macro avg       0.66      0.57      0.60       432\n",
      "weighted avg       0.85      0.89      0.87       432\n",
      "\n"
     ]
    }
   ],
   "source": [
    "print(\"cross validation scores:\\n\\n\", cross_val_score(rbf, X_train, y_train, cv=5, scoring='accuracy'))\n",
    "\n",
    "y_test_pred = cross_val_predict(rbf, X_test, y_test, cv=5)\n",
    "\n",
    "f1_CV_rbf = f1_score(y_test, y_test_pred, average='weighted')\n",
    "\n",
    "print('\\n\\n CONFUSION MATRIX \\n\\n', pd.crosstab(y_test,y_test_pred,rownames=['Predicted'],colnames=['True'],margins=True))\n",
    "print('\\n\\n CLASSIFICATION REPORT \\n\\n', classification_report(y_test, y_test_pred))"
   ]
  },
  {
   "cell_type": "markdown",
   "metadata": {},
   "source": [
    "### Sigmoid SVM - 5-fold cross-validation"
   ]
  },
  {
   "cell_type": "code",
   "execution_count": 33,
   "metadata": {},
   "outputs": [
    {
     "name": "stdout",
     "output_type": "stream",
     "text": [
      "cross validation scores:\n",
      "\n",
      " [0.74230769 0.74131274 0.77220077 0.77220077 0.77606178]\n",
      "\n",
      "\n",
      " CONFUSION MATRIX \n",
      "\n",
      " True         1   2  3  4  All\n",
      "Predicted                    \n",
      "1          284  17  1  1  303\n",
      "2           39  57  0  0   96\n",
      "3            3  12  2  0   17\n",
      "4            1  10  1  4   16\n",
      "All        327  96  4  5  432\n",
      "\n",
      "\n",
      " CLASSIFICATION REPORT \n",
      "\n",
      "               precision    recall  f1-score   support\n",
      "\n",
      "           1       0.87      0.94      0.90       303\n",
      "           2       0.59      0.59      0.59        96\n",
      "           3       0.50      0.12      0.19        17\n",
      "           4       0.80      0.25      0.38        16\n",
      "\n",
      "    accuracy                           0.80       432\n",
      "   macro avg       0.69      0.47      0.52       432\n",
      "weighted avg       0.79      0.80      0.79       432\n",
      "\n"
     ]
    }
   ],
   "source": [
    "print(\"cross validation scores:\\n\\n\", cross_val_score(sig, X_train, y_train, cv=5, scoring='accuracy'))\n",
    "\n",
    "y_test_pred = cross_val_predict(sig, X_test, y_test, cv=5)\n",
    "\n",
    "f1_CV_sig = f1_score(y_test, y_test_pred, average='weighted')\n",
    "\n",
    "print('\\n\\n CONFUSION MATRIX \\n\\n', pd.crosstab(y_test,y_test_pred,rownames=['Predicted'],colnames=['True'],margins=True))\n",
    "print('\\n\\n CLASSIFICATION REPORT \\n\\n', classification_report(y_test, y_test_pred))"
   ]
  },
  {
   "cell_type": "markdown",
   "metadata": {},
   "source": [
    "### Cross Validation using GRIDSEARCHCV for RBF kernel method"
   ]
  },
  {
   "cell_type": "code",
   "execution_count": 34,
   "metadata": {},
   "outputs": [
    {
     "name": "stdout",
     "output_type": "stream",
     "text": [
      "Fitting 5 folds for each of 49 candidates, totalling 245 fits\n"
     ]
    },
    {
     "name": "stderr",
     "output_type": "stream",
     "text": [
      "[Parallel(n_jobs=-1)]: Using backend LokyBackend with 4 concurrent workers.\n",
      "[Parallel(n_jobs=-1)]: Done  42 tasks      | elapsed:    7.0s\n",
      "[Parallel(n_jobs=-1)]: Done 245 out of 245 | elapsed:   12.4s finished\n"
     ]
    },
    {
     "data": {
      "text/plain": [
       "GridSearchCV(cv=5, estimator=Pipeline(steps=[('clf', SVC(C=1, gamma=0.1))]),\n",
       "             n_jobs=-1,\n",
       "             param_grid={'clf__C': (0.1, 0.5, 1, 2, 5, 10, 20),\n",
       "                         'clf__gamma': (0.001, 0.01, 0.1, 0.25, 0.5, 0.75, 1)},\n",
       "             scoring='accuracy', verbose=1)"
      ]
     },
     "execution_count": 34,
     "metadata": {},
     "output_type": "execute_result"
    }
   ],
   "source": [
    "pipeline = Pipeline([('clf', SVC(kernel='rbf', C=1, gamma=0.1))]) \n",
    "\n",
    "params = {'clf__C':(0.1, 0.5, 1, 2, 5, 10, 20), \n",
    "          'clf__gamma':(0.001, 0.01, 0.1, 0.25, 0.5, 0.75, 1)} \n",
    "\n",
    "svm_grid_rbf = GridSearchCV(pipeline, params, n_jobs=-1, cv=5, verbose=1, scoring='accuracy') \n",
    "\n",
    "svm_grid_rbf.fit(X_train, y_train) "
   ]
  },
  {
   "cell_type": "code",
   "execution_count": 35,
   "metadata": {},
   "outputs": [
    {
     "name": "stdout",
     "output_type": "stream",
     "text": [
      "Best hyperparameters \tclf__C: \t 5.00\n",
      "Best hyperparameters \tclf__gamma: \t 0.50\n"
     ]
    }
   ],
   "source": [
    "svm_grid_rbf.best_score_\n",
    "\n",
    "best = svm_grid_rbf.best_estimator_.get_params() \n",
    "\n",
    "for k in sorted(params.keys()): \n",
    "    print('Best hyperparameters \\t{0}: \\t {1:.2f}'.format(k, best[k]))\n",
    "    "
   ]
  },
  {
   "cell_type": "markdown",
   "metadata": {},
   "source": [
    "### With test dataset"
   ]
  },
  {
   "cell_type": "code",
   "execution_count": 36,
   "metadata": {},
   "outputs": [
    {
     "name": "stdout",
     "output_type": "stream",
     "text": [
      "\n",
      "\n",
      " CONFUSION MATRIX \n",
      "\n",
      " True         1   2   3   4  All\n",
      "Predicted                      \n",
      "1          302   1   0   0  303\n",
      "2            0  96   0   0   96\n",
      "3            0   0  17   0   17\n",
      "4            0   0   0  16   16\n",
      "All        302  97  17  16  432\n",
      "\n",
      "\n",
      " CLASSIFICATION REPORT \n",
      "\n",
      "               precision    recall  f1-score   support\n",
      "\n",
      "           1       1.00      1.00      1.00       303\n",
      "           2       0.99      1.00      0.99        96\n",
      "           3       1.00      1.00      1.00        17\n",
      "           4       1.00      1.00      1.00        16\n",
      "\n",
      "    accuracy                           1.00       432\n",
      "   macro avg       1.00      1.00      1.00       432\n",
      "weighted avg       1.00      1.00      1.00       432\n",
      "\n"
     ]
    }
   ],
   "source": [
    "y_test_pred = svm_grid_rbf.predict(X_test)\n",
    "\n",
    "f1_gridCV_rbf = f1_score(y_test, y_test_pred, average='weighted')\n",
    "\n",
    "print('\\n\\n CONFUSION MATRIX \\n\\n', pd.crosstab(y_test,y_test_pred,rownames=['Predicted'],colnames=['True'],margins=True))\n",
    "print('\\n\\n CLASSIFICATION REPORT \\n\\n', classification_report(y_test, y_test_pred))"
   ]
  },
  {
   "cell_type": "markdown",
   "metadata": {},
   "source": [
    "### DETERMINE THE WINNER"
   ]
  },
  {
   "cell_type": "code",
   "execution_count": 37,
   "metadata": {},
   "outputs": [
    {
     "data": {
      "text/html": [
       "        <script type=\"text/javascript\">\n",
       "        window.PlotlyConfig = {MathJaxConfig: 'local'};\n",
       "        if (window.MathJax) {MathJax.Hub.Config({SVG: {font: \"STIX-Web\"}});}\n",
       "        if (typeof require !== 'undefined') {\n",
       "        require.undef(\"plotly\");\n",
       "        requirejs.config({\n",
       "            paths: {\n",
       "                'plotly': ['https://cdn.plot.ly/plotly-2.3.1.min']\n",
       "            }\n",
       "        });\n",
       "        require(['plotly'], function(Plotly) {\n",
       "            window._Plotly = Plotly;\n",
       "        });\n",
       "        }\n",
       "        </script>\n",
       "        "
      ]
     },
     "metadata": {},
     "output_type": "display_data"
    },
    {
     "data": {
      "application/vnd.plotly.v1+json": {
       "config": {
        "plotlyServerURL": "https://plot.ly"
       },
       "data": [
        {
         "name": "f1_score",
         "type": "bar",
         "x": [
          "Linear SVC",
          "Polynomial SVC",
          "Gaussian RBF SVC",
          "Sigmoid SVC",
          "Linear CV",
          "Polynomial CV",
          "Gaussian RBF CV",
          "Sigmoid CV",
          "GridSearch RBF SVC"
         ],
         "y": [
          0.8820578644163981,
          0.893490173978929,
          0.9743871307466444,
          0.7621273713321643,
          0.8599044732006144,
          0.8281573139939217,
          0.8674352056460591,
          0.7859126984126983,
          0.9976892690446624
         ]
        }
       ],
       "layout": {
        "template": {
         "data": {
          "bar": [
           {
            "error_x": {
             "color": "#2a3f5f"
            },
            "error_y": {
             "color": "#2a3f5f"
            },
            "marker": {
             "line": {
              "color": "#E5ECF6",
              "width": 0.5
             },
             "pattern": {
              "fillmode": "overlay",
              "size": 10,
              "solidity": 0.2
             }
            },
            "type": "bar"
           }
          ],
          "barpolar": [
           {
            "marker": {
             "line": {
              "color": "#E5ECF6",
              "width": 0.5
             },
             "pattern": {
              "fillmode": "overlay",
              "size": 10,
              "solidity": 0.2
             }
            },
            "type": "barpolar"
           }
          ],
          "carpet": [
           {
            "aaxis": {
             "endlinecolor": "#2a3f5f",
             "gridcolor": "white",
             "linecolor": "white",
             "minorgridcolor": "white",
             "startlinecolor": "#2a3f5f"
            },
            "baxis": {
             "endlinecolor": "#2a3f5f",
             "gridcolor": "white",
             "linecolor": "white",
             "minorgridcolor": "white",
             "startlinecolor": "#2a3f5f"
            },
            "type": "carpet"
           }
          ],
          "choropleth": [
           {
            "colorbar": {
             "outlinewidth": 0,
             "ticks": ""
            },
            "type": "choropleth"
           }
          ],
          "contour": [
           {
            "colorbar": {
             "outlinewidth": 0,
             "ticks": ""
            },
            "colorscale": [
             [
              0,
              "#0d0887"
             ],
             [
              0.1111111111111111,
              "#46039f"
             ],
             [
              0.2222222222222222,
              "#7201a8"
             ],
             [
              0.3333333333333333,
              "#9c179e"
             ],
             [
              0.4444444444444444,
              "#bd3786"
             ],
             [
              0.5555555555555556,
              "#d8576b"
             ],
             [
              0.6666666666666666,
              "#ed7953"
             ],
             [
              0.7777777777777778,
              "#fb9f3a"
             ],
             [
              0.8888888888888888,
              "#fdca26"
             ],
             [
              1,
              "#f0f921"
             ]
            ],
            "type": "contour"
           }
          ],
          "contourcarpet": [
           {
            "colorbar": {
             "outlinewidth": 0,
             "ticks": ""
            },
            "type": "contourcarpet"
           }
          ],
          "heatmap": [
           {
            "colorbar": {
             "outlinewidth": 0,
             "ticks": ""
            },
            "colorscale": [
             [
              0,
              "#0d0887"
             ],
             [
              0.1111111111111111,
              "#46039f"
             ],
             [
              0.2222222222222222,
              "#7201a8"
             ],
             [
              0.3333333333333333,
              "#9c179e"
             ],
             [
              0.4444444444444444,
              "#bd3786"
             ],
             [
              0.5555555555555556,
              "#d8576b"
             ],
             [
              0.6666666666666666,
              "#ed7953"
             ],
             [
              0.7777777777777778,
              "#fb9f3a"
             ],
             [
              0.8888888888888888,
              "#fdca26"
             ],
             [
              1,
              "#f0f921"
             ]
            ],
            "type": "heatmap"
           }
          ],
          "heatmapgl": [
           {
            "colorbar": {
             "outlinewidth": 0,
             "ticks": ""
            },
            "colorscale": [
             [
              0,
              "#0d0887"
             ],
             [
              0.1111111111111111,
              "#46039f"
             ],
             [
              0.2222222222222222,
              "#7201a8"
             ],
             [
              0.3333333333333333,
              "#9c179e"
             ],
             [
              0.4444444444444444,
              "#bd3786"
             ],
             [
              0.5555555555555556,
              "#d8576b"
             ],
             [
              0.6666666666666666,
              "#ed7953"
             ],
             [
              0.7777777777777778,
              "#fb9f3a"
             ],
             [
              0.8888888888888888,
              "#fdca26"
             ],
             [
              1,
              "#f0f921"
             ]
            ],
            "type": "heatmapgl"
           }
          ],
          "histogram": [
           {
            "marker": {
             "pattern": {
              "fillmode": "overlay",
              "size": 10,
              "solidity": 0.2
             }
            },
            "type": "histogram"
           }
          ],
          "histogram2d": [
           {
            "colorbar": {
             "outlinewidth": 0,
             "ticks": ""
            },
            "colorscale": [
             [
              0,
              "#0d0887"
             ],
             [
              0.1111111111111111,
              "#46039f"
             ],
             [
              0.2222222222222222,
              "#7201a8"
             ],
             [
              0.3333333333333333,
              "#9c179e"
             ],
             [
              0.4444444444444444,
              "#bd3786"
             ],
             [
              0.5555555555555556,
              "#d8576b"
             ],
             [
              0.6666666666666666,
              "#ed7953"
             ],
             [
              0.7777777777777778,
              "#fb9f3a"
             ],
             [
              0.8888888888888888,
              "#fdca26"
             ],
             [
              1,
              "#f0f921"
             ]
            ],
            "type": "histogram2d"
           }
          ],
          "histogram2dcontour": [
           {
            "colorbar": {
             "outlinewidth": 0,
             "ticks": ""
            },
            "colorscale": [
             [
              0,
              "#0d0887"
             ],
             [
              0.1111111111111111,
              "#46039f"
             ],
             [
              0.2222222222222222,
              "#7201a8"
             ],
             [
              0.3333333333333333,
              "#9c179e"
             ],
             [
              0.4444444444444444,
              "#bd3786"
             ],
             [
              0.5555555555555556,
              "#d8576b"
             ],
             [
              0.6666666666666666,
              "#ed7953"
             ],
             [
              0.7777777777777778,
              "#fb9f3a"
             ],
             [
              0.8888888888888888,
              "#fdca26"
             ],
             [
              1,
              "#f0f921"
             ]
            ],
            "type": "histogram2dcontour"
           }
          ],
          "mesh3d": [
           {
            "colorbar": {
             "outlinewidth": 0,
             "ticks": ""
            },
            "type": "mesh3d"
           }
          ],
          "parcoords": [
           {
            "line": {
             "colorbar": {
              "outlinewidth": 0,
              "ticks": ""
             }
            },
            "type": "parcoords"
           }
          ],
          "pie": [
           {
            "automargin": true,
            "type": "pie"
           }
          ],
          "scatter": [
           {
            "marker": {
             "colorbar": {
              "outlinewidth": 0,
              "ticks": ""
             }
            },
            "type": "scatter"
           }
          ],
          "scatter3d": [
           {
            "line": {
             "colorbar": {
              "outlinewidth": 0,
              "ticks": ""
             }
            },
            "marker": {
             "colorbar": {
              "outlinewidth": 0,
              "ticks": ""
             }
            },
            "type": "scatter3d"
           }
          ],
          "scattercarpet": [
           {
            "marker": {
             "colorbar": {
              "outlinewidth": 0,
              "ticks": ""
             }
            },
            "type": "scattercarpet"
           }
          ],
          "scattergeo": [
           {
            "marker": {
             "colorbar": {
              "outlinewidth": 0,
              "ticks": ""
             }
            },
            "type": "scattergeo"
           }
          ],
          "scattergl": [
           {
            "marker": {
             "colorbar": {
              "outlinewidth": 0,
              "ticks": ""
             }
            },
            "type": "scattergl"
           }
          ],
          "scattermapbox": [
           {
            "marker": {
             "colorbar": {
              "outlinewidth": 0,
              "ticks": ""
             }
            },
            "type": "scattermapbox"
           }
          ],
          "scatterpolar": [
           {
            "marker": {
             "colorbar": {
              "outlinewidth": 0,
              "ticks": ""
             }
            },
            "type": "scatterpolar"
           }
          ],
          "scatterpolargl": [
           {
            "marker": {
             "colorbar": {
              "outlinewidth": 0,
              "ticks": ""
             }
            },
            "type": "scatterpolargl"
           }
          ],
          "scatterternary": [
           {
            "marker": {
             "colorbar": {
              "outlinewidth": 0,
              "ticks": ""
             }
            },
            "type": "scatterternary"
           }
          ],
          "surface": [
           {
            "colorbar": {
             "outlinewidth": 0,
             "ticks": ""
            },
            "colorscale": [
             [
              0,
              "#0d0887"
             ],
             [
              0.1111111111111111,
              "#46039f"
             ],
             [
              0.2222222222222222,
              "#7201a8"
             ],
             [
              0.3333333333333333,
              "#9c179e"
             ],
             [
              0.4444444444444444,
              "#bd3786"
             ],
             [
              0.5555555555555556,
              "#d8576b"
             ],
             [
              0.6666666666666666,
              "#ed7953"
             ],
             [
              0.7777777777777778,
              "#fb9f3a"
             ],
             [
              0.8888888888888888,
              "#fdca26"
             ],
             [
              1,
              "#f0f921"
             ]
            ],
            "type": "surface"
           }
          ],
          "table": [
           {
            "cells": {
             "fill": {
              "color": "#EBF0F8"
             },
             "line": {
              "color": "white"
             }
            },
            "header": {
             "fill": {
              "color": "#C8D4E3"
             },
             "line": {
              "color": "white"
             }
            },
            "type": "table"
           }
          ]
         },
         "layout": {
          "annotationdefaults": {
           "arrowcolor": "#2a3f5f",
           "arrowhead": 0,
           "arrowwidth": 1
          },
          "autotypenumbers": "strict",
          "coloraxis": {
           "colorbar": {
            "outlinewidth": 0,
            "ticks": ""
           }
          },
          "colorscale": {
           "diverging": [
            [
             0,
             "#8e0152"
            ],
            [
             0.1,
             "#c51b7d"
            ],
            [
             0.2,
             "#de77ae"
            ],
            [
             0.3,
             "#f1b6da"
            ],
            [
             0.4,
             "#fde0ef"
            ],
            [
             0.5,
             "#f7f7f7"
            ],
            [
             0.6,
             "#e6f5d0"
            ],
            [
             0.7,
             "#b8e186"
            ],
            [
             0.8,
             "#7fbc41"
            ],
            [
             0.9,
             "#4d9221"
            ],
            [
             1,
             "#276419"
            ]
           ],
           "sequential": [
            [
             0,
             "#0d0887"
            ],
            [
             0.1111111111111111,
             "#46039f"
            ],
            [
             0.2222222222222222,
             "#7201a8"
            ],
            [
             0.3333333333333333,
             "#9c179e"
            ],
            [
             0.4444444444444444,
             "#bd3786"
            ],
            [
             0.5555555555555556,
             "#d8576b"
            ],
            [
             0.6666666666666666,
             "#ed7953"
            ],
            [
             0.7777777777777778,
             "#fb9f3a"
            ],
            [
             0.8888888888888888,
             "#fdca26"
            ],
            [
             1,
             "#f0f921"
            ]
           ],
           "sequentialminus": [
            [
             0,
             "#0d0887"
            ],
            [
             0.1111111111111111,
             "#46039f"
            ],
            [
             0.2222222222222222,
             "#7201a8"
            ],
            [
             0.3333333333333333,
             "#9c179e"
            ],
            [
             0.4444444444444444,
             "#bd3786"
            ],
            [
             0.5555555555555556,
             "#d8576b"
            ],
            [
             0.6666666666666666,
             "#ed7953"
            ],
            [
             0.7777777777777778,
             "#fb9f3a"
            ],
            [
             0.8888888888888888,
             "#fdca26"
            ],
            [
             1,
             "#f0f921"
            ]
           ]
          },
          "colorway": [
           "#636efa",
           "#EF553B",
           "#00cc96",
           "#ab63fa",
           "#FFA15A",
           "#19d3f3",
           "#FF6692",
           "#B6E880",
           "#FF97FF",
           "#FECB52"
          ],
          "font": {
           "color": "#2a3f5f"
          },
          "geo": {
           "bgcolor": "white",
           "lakecolor": "white",
           "landcolor": "#E5ECF6",
           "showlakes": true,
           "showland": true,
           "subunitcolor": "white"
          },
          "hoverlabel": {
           "align": "left"
          },
          "hovermode": "closest",
          "mapbox": {
           "style": "light"
          },
          "paper_bgcolor": "white",
          "plot_bgcolor": "#E5ECF6",
          "polar": {
           "angularaxis": {
            "gridcolor": "white",
            "linecolor": "white",
            "ticks": ""
           },
           "bgcolor": "#E5ECF6",
           "radialaxis": {
            "gridcolor": "white",
            "linecolor": "white",
            "ticks": ""
           }
          },
          "scene": {
           "xaxis": {
            "backgroundcolor": "#E5ECF6",
            "gridcolor": "white",
            "gridwidth": 2,
            "linecolor": "white",
            "showbackground": true,
            "ticks": "",
            "zerolinecolor": "white"
           },
           "yaxis": {
            "backgroundcolor": "#E5ECF6",
            "gridcolor": "white",
            "gridwidth": 2,
            "linecolor": "white",
            "showbackground": true,
            "ticks": "",
            "zerolinecolor": "white"
           },
           "zaxis": {
            "backgroundcolor": "#E5ECF6",
            "gridcolor": "white",
            "gridwidth": 2,
            "linecolor": "white",
            "showbackground": true,
            "ticks": "",
            "zerolinecolor": "white"
           }
          },
          "shapedefaults": {
           "line": {
            "color": "#2a3f5f"
           }
          },
          "ternary": {
           "aaxis": {
            "gridcolor": "white",
            "linecolor": "white",
            "ticks": ""
           },
           "baxis": {
            "gridcolor": "white",
            "linecolor": "white",
            "ticks": ""
           },
           "bgcolor": "#E5ECF6",
           "caxis": {
            "gridcolor": "white",
            "linecolor": "white",
            "ticks": ""
           }
          },
          "title": {
           "x": 0.05
          },
          "xaxis": {
           "automargin": true,
           "gridcolor": "white",
           "linecolor": "white",
           "ticks": "",
           "title": {
            "standoff": 15
           },
           "zerolinecolor": "white",
           "zerolinewidth": 2
          },
          "yaxis": {
           "automargin": true,
           "gridcolor": "white",
           "linecolor": "white",
           "ticks": "",
           "title": {
            "standoff": 15
           },
           "zerolinecolor": "white",
           "zerolinewidth": 2
          }
         }
        }
       }
      },
      "text/html": [
       "<div>                            <div id=\"cff31be6-84e4-417b-86eb-67bb87f0c97f\" class=\"plotly-graph-div\" style=\"height:525px; width:100%;\"></div>            <script type=\"text/javascript\">                require([\"plotly\"], function(Plotly) {                    window.PLOTLYENV=window.PLOTLYENV || {};                                    if (document.getElementById(\"cff31be6-84e4-417b-86eb-67bb87f0c97f\")) {                    Plotly.newPlot(                        \"cff31be6-84e4-417b-86eb-67bb87f0c97f\",                        [{\"name\":\"f1_score\",\"type\":\"bar\",\"x\":[\"Linear SVC\",\"Polynomial SVC\",\"Gaussian RBF SVC\",\"Sigmoid SVC\",\"Linear CV\",\"Polynomial CV\",\"Gaussian RBF CV\",\"Sigmoid CV\",\"GridSearch RBF SVC\"],\"y\":[0.8820578644163981,0.893490173978929,0.9743871307466444,0.7621273713321643,0.8599044732006144,0.8281573139939217,0.8674352056460591,0.7859126984126983,0.9976892690446624]}],                        {\"template\":{\"data\":{\"bar\":[{\"error_x\":{\"color\":\"#2a3f5f\"},\"error_y\":{\"color\":\"#2a3f5f\"},\"marker\":{\"line\":{\"color\":\"#E5ECF6\",\"width\":0.5},\"pattern\":{\"fillmode\":\"overlay\",\"size\":10,\"solidity\":0.2}},\"type\":\"bar\"}],\"barpolar\":[{\"marker\":{\"line\":{\"color\":\"#E5ECF6\",\"width\":0.5},\"pattern\":{\"fillmode\":\"overlay\",\"size\":10,\"solidity\":0.2}},\"type\":\"barpolar\"}],\"carpet\":[{\"aaxis\":{\"endlinecolor\":\"#2a3f5f\",\"gridcolor\":\"white\",\"linecolor\":\"white\",\"minorgridcolor\":\"white\",\"startlinecolor\":\"#2a3f5f\"},\"baxis\":{\"endlinecolor\":\"#2a3f5f\",\"gridcolor\":\"white\",\"linecolor\":\"white\",\"minorgridcolor\":\"white\",\"startlinecolor\":\"#2a3f5f\"},\"type\":\"carpet\"}],\"choropleth\":[{\"colorbar\":{\"outlinewidth\":0,\"ticks\":\"\"},\"type\":\"choropleth\"}],\"contour\":[{\"colorbar\":{\"outlinewidth\":0,\"ticks\":\"\"},\"colorscale\":[[0.0,\"#0d0887\"],[0.1111111111111111,\"#46039f\"],[0.2222222222222222,\"#7201a8\"],[0.3333333333333333,\"#9c179e\"],[0.4444444444444444,\"#bd3786\"],[0.5555555555555556,\"#d8576b\"],[0.6666666666666666,\"#ed7953\"],[0.7777777777777778,\"#fb9f3a\"],[0.8888888888888888,\"#fdca26\"],[1.0,\"#f0f921\"]],\"type\":\"contour\"}],\"contourcarpet\":[{\"colorbar\":{\"outlinewidth\":0,\"ticks\":\"\"},\"type\":\"contourcarpet\"}],\"heatmap\":[{\"colorbar\":{\"outlinewidth\":0,\"ticks\":\"\"},\"colorscale\":[[0.0,\"#0d0887\"],[0.1111111111111111,\"#46039f\"],[0.2222222222222222,\"#7201a8\"],[0.3333333333333333,\"#9c179e\"],[0.4444444444444444,\"#bd3786\"],[0.5555555555555556,\"#d8576b\"],[0.6666666666666666,\"#ed7953\"],[0.7777777777777778,\"#fb9f3a\"],[0.8888888888888888,\"#fdca26\"],[1.0,\"#f0f921\"]],\"type\":\"heatmap\"}],\"heatmapgl\":[{\"colorbar\":{\"outlinewidth\":0,\"ticks\":\"\"},\"colorscale\":[[0.0,\"#0d0887\"],[0.1111111111111111,\"#46039f\"],[0.2222222222222222,\"#7201a8\"],[0.3333333333333333,\"#9c179e\"],[0.4444444444444444,\"#bd3786\"],[0.5555555555555556,\"#d8576b\"],[0.6666666666666666,\"#ed7953\"],[0.7777777777777778,\"#fb9f3a\"],[0.8888888888888888,\"#fdca26\"],[1.0,\"#f0f921\"]],\"type\":\"heatmapgl\"}],\"histogram\":[{\"marker\":{\"pattern\":{\"fillmode\":\"overlay\",\"size\":10,\"solidity\":0.2}},\"type\":\"histogram\"}],\"histogram2d\":[{\"colorbar\":{\"outlinewidth\":0,\"ticks\":\"\"},\"colorscale\":[[0.0,\"#0d0887\"],[0.1111111111111111,\"#46039f\"],[0.2222222222222222,\"#7201a8\"],[0.3333333333333333,\"#9c179e\"],[0.4444444444444444,\"#bd3786\"],[0.5555555555555556,\"#d8576b\"],[0.6666666666666666,\"#ed7953\"],[0.7777777777777778,\"#fb9f3a\"],[0.8888888888888888,\"#fdca26\"],[1.0,\"#f0f921\"]],\"type\":\"histogram2d\"}],\"histogram2dcontour\":[{\"colorbar\":{\"outlinewidth\":0,\"ticks\":\"\"},\"colorscale\":[[0.0,\"#0d0887\"],[0.1111111111111111,\"#46039f\"],[0.2222222222222222,\"#7201a8\"],[0.3333333333333333,\"#9c179e\"],[0.4444444444444444,\"#bd3786\"],[0.5555555555555556,\"#d8576b\"],[0.6666666666666666,\"#ed7953\"],[0.7777777777777778,\"#fb9f3a\"],[0.8888888888888888,\"#fdca26\"],[1.0,\"#f0f921\"]],\"type\":\"histogram2dcontour\"}],\"mesh3d\":[{\"colorbar\":{\"outlinewidth\":0,\"ticks\":\"\"},\"type\":\"mesh3d\"}],\"parcoords\":[{\"line\":{\"colorbar\":{\"outlinewidth\":0,\"ticks\":\"\"}},\"type\":\"parcoords\"}],\"pie\":[{\"automargin\":true,\"type\":\"pie\"}],\"scatter\":[{\"marker\":{\"colorbar\":{\"outlinewidth\":0,\"ticks\":\"\"}},\"type\":\"scatter\"}],\"scatter3d\":[{\"line\":{\"colorbar\":{\"outlinewidth\":0,\"ticks\":\"\"}},\"marker\":{\"colorbar\":{\"outlinewidth\":0,\"ticks\":\"\"}},\"type\":\"scatter3d\"}],\"scattercarpet\":[{\"marker\":{\"colorbar\":{\"outlinewidth\":0,\"ticks\":\"\"}},\"type\":\"scattercarpet\"}],\"scattergeo\":[{\"marker\":{\"colorbar\":{\"outlinewidth\":0,\"ticks\":\"\"}},\"type\":\"scattergeo\"}],\"scattergl\":[{\"marker\":{\"colorbar\":{\"outlinewidth\":0,\"ticks\":\"\"}},\"type\":\"scattergl\"}],\"scattermapbox\":[{\"marker\":{\"colorbar\":{\"outlinewidth\":0,\"ticks\":\"\"}},\"type\":\"scattermapbox\"}],\"scatterpolar\":[{\"marker\":{\"colorbar\":{\"outlinewidth\":0,\"ticks\":\"\"}},\"type\":\"scatterpolar\"}],\"scatterpolargl\":[{\"marker\":{\"colorbar\":{\"outlinewidth\":0,\"ticks\":\"\"}},\"type\":\"scatterpolargl\"}],\"scatterternary\":[{\"marker\":{\"colorbar\":{\"outlinewidth\":0,\"ticks\":\"\"}},\"type\":\"scatterternary\"}],\"surface\":[{\"colorbar\":{\"outlinewidth\":0,\"ticks\":\"\"},\"colorscale\":[[0.0,\"#0d0887\"],[0.1111111111111111,\"#46039f\"],[0.2222222222222222,\"#7201a8\"],[0.3333333333333333,\"#9c179e\"],[0.4444444444444444,\"#bd3786\"],[0.5555555555555556,\"#d8576b\"],[0.6666666666666666,\"#ed7953\"],[0.7777777777777778,\"#fb9f3a\"],[0.8888888888888888,\"#fdca26\"],[1.0,\"#f0f921\"]],\"type\":\"surface\"}],\"table\":[{\"cells\":{\"fill\":{\"color\":\"#EBF0F8\"},\"line\":{\"color\":\"white\"}},\"header\":{\"fill\":{\"color\":\"#C8D4E3\"},\"line\":{\"color\":\"white\"}},\"type\":\"table\"}]},\"layout\":{\"annotationdefaults\":{\"arrowcolor\":\"#2a3f5f\",\"arrowhead\":0,\"arrowwidth\":1},\"autotypenumbers\":\"strict\",\"coloraxis\":{\"colorbar\":{\"outlinewidth\":0,\"ticks\":\"\"}},\"colorscale\":{\"diverging\":[[0,\"#8e0152\"],[0.1,\"#c51b7d\"],[0.2,\"#de77ae\"],[0.3,\"#f1b6da\"],[0.4,\"#fde0ef\"],[0.5,\"#f7f7f7\"],[0.6,\"#e6f5d0\"],[0.7,\"#b8e186\"],[0.8,\"#7fbc41\"],[0.9,\"#4d9221\"],[1,\"#276419\"]],\"sequential\":[[0.0,\"#0d0887\"],[0.1111111111111111,\"#46039f\"],[0.2222222222222222,\"#7201a8\"],[0.3333333333333333,\"#9c179e\"],[0.4444444444444444,\"#bd3786\"],[0.5555555555555556,\"#d8576b\"],[0.6666666666666666,\"#ed7953\"],[0.7777777777777778,\"#fb9f3a\"],[0.8888888888888888,\"#fdca26\"],[1.0,\"#f0f921\"]],\"sequentialminus\":[[0.0,\"#0d0887\"],[0.1111111111111111,\"#46039f\"],[0.2222222222222222,\"#7201a8\"],[0.3333333333333333,\"#9c179e\"],[0.4444444444444444,\"#bd3786\"],[0.5555555555555556,\"#d8576b\"],[0.6666666666666666,\"#ed7953\"],[0.7777777777777778,\"#fb9f3a\"],[0.8888888888888888,\"#fdca26\"],[1.0,\"#f0f921\"]]},\"colorway\":[\"#636efa\",\"#EF553B\",\"#00cc96\",\"#ab63fa\",\"#FFA15A\",\"#19d3f3\",\"#FF6692\",\"#B6E880\",\"#FF97FF\",\"#FECB52\"],\"font\":{\"color\":\"#2a3f5f\"},\"geo\":{\"bgcolor\":\"white\",\"lakecolor\":\"white\",\"landcolor\":\"#E5ECF6\",\"showlakes\":true,\"showland\":true,\"subunitcolor\":\"white\"},\"hoverlabel\":{\"align\":\"left\"},\"hovermode\":\"closest\",\"mapbox\":{\"style\":\"light\"},\"paper_bgcolor\":\"white\",\"plot_bgcolor\":\"#E5ECF6\",\"polar\":{\"angularaxis\":{\"gridcolor\":\"white\",\"linecolor\":\"white\",\"ticks\":\"\"},\"bgcolor\":\"#E5ECF6\",\"radialaxis\":{\"gridcolor\":\"white\",\"linecolor\":\"white\",\"ticks\":\"\"}},\"scene\":{\"xaxis\":{\"backgroundcolor\":\"#E5ECF6\",\"gridcolor\":\"white\",\"gridwidth\":2,\"linecolor\":\"white\",\"showbackground\":true,\"ticks\":\"\",\"zerolinecolor\":\"white\"},\"yaxis\":{\"backgroundcolor\":\"#E5ECF6\",\"gridcolor\":\"white\",\"gridwidth\":2,\"linecolor\":\"white\",\"showbackground\":true,\"ticks\":\"\",\"zerolinecolor\":\"white\"},\"zaxis\":{\"backgroundcolor\":\"#E5ECF6\",\"gridcolor\":\"white\",\"gridwidth\":2,\"linecolor\":\"white\",\"showbackground\":true,\"ticks\":\"\",\"zerolinecolor\":\"white\"}},\"shapedefaults\":{\"line\":{\"color\":\"#2a3f5f\"}},\"ternary\":{\"aaxis\":{\"gridcolor\":\"white\",\"linecolor\":\"white\",\"ticks\":\"\"},\"baxis\":{\"gridcolor\":\"white\",\"linecolor\":\"white\",\"ticks\":\"\"},\"bgcolor\":\"#E5ECF6\",\"caxis\":{\"gridcolor\":\"white\",\"linecolor\":\"white\",\"ticks\":\"\"}},\"title\":{\"x\":0.05},\"xaxis\":{\"automargin\":true,\"gridcolor\":\"white\",\"linecolor\":\"white\",\"ticks\":\"\",\"title\":{\"standoff\":15},\"zerolinecolor\":\"white\",\"zerolinewidth\":2},\"yaxis\":{\"automargin\":true,\"gridcolor\":\"white\",\"linecolor\":\"white\",\"ticks\":\"\",\"title\":{\"standoff\":15},\"zerolinecolor\":\"white\",\"zerolinewidth\":2}}}},                        {\"responsive\": true}                    ).then(function(){\n",
       "                            \n",
       "var gd = document.getElementById('cff31be6-84e4-417b-86eb-67bb87f0c97f');\n",
       "var x = new MutationObserver(function (mutations, observer) {{\n",
       "        var display = window.getComputedStyle(gd).display;\n",
       "        if (!display || display === 'none') {{\n",
       "            console.log([gd, 'removed!']);\n",
       "            Plotly.purge(gd);\n",
       "            observer.disconnect();\n",
       "        }}\n",
       "}});\n",
       "\n",
       "// Listen for the removal of the full notebook cells\n",
       "var notebookContainer = gd.closest('#notebook-container');\n",
       "if (notebookContainer) {{\n",
       "    x.observe(notebookContainer, {childList: true});\n",
       "}}\n",
       "\n",
       "// Listen for the clearing of the current output cell\n",
       "var outputEl = gd.closest('.output');\n",
       "if (outputEl) {{\n",
       "    x.observe(outputEl, {childList: true});\n",
       "}}\n",
       "\n",
       "                        })                };                });            </script>        </div>"
      ]
     },
     "metadata": {},
     "output_type": "display_data"
    }
   ],
   "source": [
    "import plotly.offline as py\n",
    "from plotly import tools\n",
    "import plotly.graph_objs as go\n",
    "py.init_notebook_mode(connected=True)\n",
    "\n",
    "models=['Linear SVC','Polynomial SVC','Gaussian RBF SVC','Sigmoid SVC','Linear CV', 'Polynomial CV','Gaussian RBF CV','Sigmoid CV','GridSearch RBF SVC']\n",
    "fig = go.Figure(data=[\n",
    "    go.Bar(name='f1_score', x=models, y=[f1_SVC_lin, f1_SVC_poly, f1_SVC_rbf, f1_SVC_sig, f1_CV_lin, f1_CV_poly, f1_CV_rbf, f1_CV_sig, f1_gridCV_rbf])])\n",
    "fig.show()"
   ]
  },
  {
   "cell_type": "markdown",
   "metadata": {},
   "source": [
    "### CONCLUSION:\n",
    "\n",
    "**As per the above graph, GridsearchCV for Gaussian RBF yields better f1 score.**\n",
    "\n",
    "**5-fold cross-validation for all the methods yielded lesser f1 score when compared to actual models.**\n",
    "\n",
    "**Also, out of different kernel methods, Gaussian Radial Basis Function SVM seems to be giving the best score.**"
   ]
  }
 ],
 "metadata": {
  "kernelspec": {
   "display_name": "Python 3 (ipykernel)",
   "language": "python",
   "name": "python3"
  },
  "language_info": {
   "codemirror_mode": {
    "name": "ipython",
    "version": 3
   },
   "file_extension": ".py",
   "mimetype": "text/x-python",
   "name": "python",
   "nbconvert_exporter": "python",
   "pygments_lexer": "ipython3",
   "version": "3.9.7"
  }
 },
 "nbformat": 4,
 "nbformat_minor": 4
}
